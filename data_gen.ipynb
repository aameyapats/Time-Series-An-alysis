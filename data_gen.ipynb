{
 "cells": [
  {
   "cell_type": "code",
   "execution_count": 1,
   "metadata": {},
   "outputs": [],
   "source": [
    "import numpy as np\n",
    "import pandas as pd\n",
    "import matplotlib.pyplot as plt\n",
    "\n",
    "import urllib\n",
    "from requests import get\n",
    "from requests.exceptions import RequestException\n",
    "from contextlib import closing\n",
    "\n",
    "import requests\n",
    "import urllib.request\n",
    "import time\n",
    "from bs4 import BeautifulSoup\n",
    "import lxml.html as lh"
   ]
  },
  {
   "cell_type": "code",
   "execution_count": 2,
   "metadata": {},
   "outputs": [],
   "source": [
    "url='https://www.exchangerates.org.uk/GBP-USD-spot-exchange-rates-history-2019.html'#Create a handle, page, to handle the contents of the website\n",
    "\n",
    "page = requests.get(url)#Store the contents of the website under doc\n",
    "\n",
    "doc = lh.fromstring(page.content)#Parse data that are stored between <tr>..</tr> of HTML\n",
    "\n",
    "tr_elements = doc.xpath('//tr')\n",
    "\n",
    "td_elements = doc.xpath('//td')"
   ]
  },
  {
   "cell_type": "markdown",
   "metadata": {},
   "source": [
    "### Data for 1 year"
   ]
  },
  {
   "cell_type": "code",
   "execution_count": 3,
   "metadata": {},
   "outputs": [],
   "source": [
    "def usd_gbp_new():\n",
    "\n",
    "    url='https://www.exchangerates.org.uk/GBP-USD-spot-exchange-rates-history-2019.html'\n",
    "    #Create a handle, page, to handle the contents of the website\n",
    "\n",
    "    page = requests.get(url)#Store the contents of the website under doc\n",
    "\n",
    "    doc = lh.fromstring(page.content)\n",
    "\n",
    "    tr_elements = doc.xpath('//tr') #Parse data that are stored between <tr>..</tr> of HTML\n",
    "    \n",
    "    day = [] #Create an empty list to store the data between <tr>....</tr> tags \n",
    "    \n",
    "    for t in tr_elements:\n",
    "        if len(t) == 3:\n",
    "            day.append(t.text_content())\n",
    "            \n",
    "    tmp = pd.DataFrame(day)\n",
    "    tmp.columns = ['Data']\n",
    "    \n",
    "    tmp['Date'] = tmp['Data'].apply(lambda x : x.split(\"ay\")[-1].split(\"£1\")[0])\n",
    "# filter((lambda x: re.search(r'L', x)),s)\n",
    "    tmp['Date'] = pd.to_datetime(tmp['Date'])\n",
    "    tmp['Rate'] = tmp['Data'].apply(lambda x : x.split(\"$\")[-1].split(\"British\")[0])\n",
    "    tmp.drop(['Data'],axis = 1,inplace= True)\n",
    "# tmp.index = tmp['Date']\n",
    "# tmp['Rate'] = tmp.index\n",
    "    \n",
    "#     tmp['Rate'] = int(tmp['Rate'])\n",
    "#     tmp.reindex(index=tmp.index[::-1])\n",
    "#     tmp.reset_index(inplace = True)\n",
    "    \n",
    "    \n",
    "    return(tmp)"
   ]
  },
  {
   "cell_type": "code",
   "execution_count": 4,
   "metadata": {},
   "outputs": [],
   "source": [
    "ex_data = usd_gbp_new()"
   ]
  },
  {
   "cell_type": "markdown",
   "metadata": {},
   "source": [
    "### Data for last 180 days"
   ]
  },
  {
   "cell_type": "code",
   "execution_count": 5,
   "metadata": {},
   "outputs": [],
   "source": [
    "def get_data():\n",
    "    source=urllib.request.urlopen('https://www.exchangerates.org.uk/GBP-USD-exchange-rate-history.html')\n",
    "    html=source.read()\n",
    "    \n",
    "    soup = BeautifulSoup(html,\"lxml\")\n",
    "    #(soup.prettify())\n",
    "    soup.a\n",
    "    \n",
    "    data_table=soup.find('table',{\"id\":'hist'})\n",
    "    #print (data_table)\n",
    "    \n",
    "    day=[]\n",
    "    rate=[]\n",
    "    \n",
    "    for counter,row in enumerate(data_table.findAll('tr')):\n",
    "        cells=row.findAll('td')\n",
    "        if len(cells)==3:\n",
    "            day.append(((cells[0].find(text=True)).split(None,1))[1])\n",
    "            rate.append(float(((cells[1].find(text=True)).split(' '))[3]))\n",
    "            \n",
    "    date=[]\n",
    "    for counter,object_ in enumerate(day):\n",
    "        date.append(pd.datetime.strptime(object_, \"%d %B %Y\"))\n",
    "        \n",
    "    rate_data=pd.DataFrame({'Day':date,'Rate':rate})\n",
    "    rate_data=rate_data.set_index('Day')\n",
    "    rate_data_full=rate_data.reindex(index=rate_data.index[::-1])\n",
    "    \n",
    "    return rate_data_full"
   ]
  },
  {
   "cell_type": "code",
   "execution_count": 6,
   "metadata": {},
   "outputs": [],
   "source": [
    "rate_data = get_data()"
   ]
  },
  {
   "cell_type": "code",
   "execution_count": null,
   "metadata": {},
   "outputs": [],
   "source": []
  }
 ],
 "metadata": {
  "kernelspec": {
   "display_name": "Python 3",
   "language": "python",
   "name": "python3"
  },
  "language_info": {
   "codemirror_mode": {
    "name": "ipython",
    "version": 3
   },
   "file_extension": ".py",
   "mimetype": "text/x-python",
   "name": "python",
   "nbconvert_exporter": "python",
   "pygments_lexer": "ipython3",
   "version": "3.7.2"
  }
 },
 "nbformat": 4,
 "nbformat_minor": 2
}
