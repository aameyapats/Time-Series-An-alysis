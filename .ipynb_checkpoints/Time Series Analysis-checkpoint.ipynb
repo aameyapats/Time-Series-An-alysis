{
 "cells": [
  {
   "cell_type": "code",
   "execution_count": 1,
   "metadata": {},
   "outputs": [],
   "source": [
    "import requests"
   ]
  },
  {
   "cell_type": "code",
   "execution_count": 2,
   "metadata": {},
   "outputs": [],
   "source": [
    "from bs4 import BeautifulSoup\n",
    "import urllib"
   ]
  },
  {
   "cell_type": "code",
   "execution_count": 3,
   "metadata": {},
   "outputs": [],
   "source": [
    "import pandas as pd\n",
    "import numpy as np"
   ]
  },
  {
   "cell_type": "code",
   "execution_count": 4,
   "metadata": {},
   "outputs": [],
   "source": [
    "import pandas as pd\n",
    "from pandas import DataFrame\n",
    "import argparse\n",
    "import quandl\n",
    "import pandas_datareader as web\n",
    "from time import sleep\n",
    "import datetime as dt\n",
    "import sys\n",
    "import matplotlib.pyplot as plt\n",
    "%matplotlib inline"
   ]
  },
  {
   "cell_type": "code",
   "execution_count": 5,
   "metadata": {},
   "outputs": [],
   "source": [
    "def get_sp500_data(start=dt.datetime.strptime(\"1997-01-01\", \"%Y-%m-%d\"),\n",
    "                   end=dt.datetime.now(), use_quandl=True, adjust=True, inner=True,\n",
    "                   sleeptime=2, verbose=True):\n",
    "    \"\"\"Fetches S&P 500 data\n",
    "     \n",
    "    args:\n",
    "        start: datetime; The earliest possible date\n",
    "        end: datetime; The last possible date\n",
    "        use_quandl: bool; Whether to fetch data from Quandl (reverts to Google if False)\n",
    "        adjust: bool; Whether to use adjusted close (only works with Quandl)\n",
    "        inner: bool; Whether to use an inner join or outer join when combining series (inner has no missing data)\n",
    "        sleeptime: int; How long to sleep between fetches\n",
    "        verbose: bool; Whether to print a log while fetching data\n",
    "     \n",
    "    return:\n",
    "        DataFrame: Contains stock price data\n",
    "    \"\"\"\n",
    "     \n",
    "    join = \"outer\"\n",
    "    if inner:\n",
    "        join = \"inner\"\n",
    "     \n",
    "    symbols_table = pd.read_html(\"https://en.wikipedia.org/wiki/List_of_S%26P_500_companies\",\n",
    "                                 header=0)[0]\n",
    "    symbols = list(symbols_table.loc[:, \"Ticker symbol\"])\n",
    " \n",
    "    sp500 = None\n",
    "    for s in symbols:\n",
    "        sleep(sleeptime)\n",
    "        if verbose:\n",
    "            print(\"Processing: \" + s + \"...\", end='')\n",
    "        try:\n",
    "            if use_quandl:\n",
    "                s_data = quandl.get(\"WIKI/\" + s, start_date=start, end_date=end)\n",
    "                if adjust:\n",
    "                    s_data = s_data.loc[:, \"Adj. Close\"]\n",
    "                else:\n",
    "                    s_data = s_data.loc[:, \"Close\"]\n",
    "            else:\n",
    "                s_data = web.DataReader(s, \"google\", start, end).loc[:, \"Close\"]\n",
    "            s_data.name = s\n",
    "            s_data.dropna()\n",
    "            if s_data.shape[0] > 1:\n",
    "                if sp500 is None:\n",
    "                    sp500 = DataFrame(s_data)\n",
    "                else:\n",
    "                    sp500 = sp500.join(s_data, how=join)\n",
    "                if verbose:\n",
    "                    print(\" Got it! From\", s_data.index[0], \"to\", s_data.index[-1])\n",
    "            else:\n",
    "                if verbose:\n",
    "                    print(\" Sorry, but not this one!\")\n",
    "        except Exception:\n",
    "            if verbose:\n",
    "                print(\" Sorry, but not this one!\")\n",
    " \n",
    "    badsymbols = list(set(s) - set(sp500.columns))\n",
    "    if verbose and len(badsymbols) > 0:\n",
    "        print(\"There were\", len(badsymbols), \"symbols for which data could not be obtained.\")\n",
    "        print(\"They are:\", \", \".join(badsymbols))\n",
    "     \n",
    "    return sp500"
   ]
  },
  {
   "cell_type": "code",
   "execution_count": 6,
   "metadata": {},
   "outputs": [],
   "source": [
    "import pandas as pd\n",
    "from pandas_datareader import data as wb\n",
    "\n",
    "ticker='BTC-USD'\n",
    "\n",
    "ticker=wb.DataReader(ticker,start='2015-1-1',data_source='yahoo')\n",
    "# print(ticker)"
   ]
  },
  {
   "cell_type": "code",
   "execution_count": 7,
   "metadata": {},
   "outputs": [
    {
     "data": {
      "text/plain": [
       "pandas.core.frame.DataFrame"
      ]
     },
     "execution_count": 7,
     "metadata": {},
     "output_type": "execute_result"
    }
   ],
   "source": [
    "type(ticker)"
   ]
  },
  {
   "cell_type": "code",
   "execution_count": 8,
   "metadata": {},
   "outputs": [],
   "source": [
    "sp = wb.DataReader('^GSPC',start='2015-1-1',data_source='yahoo')"
   ]
  },
  {
   "cell_type": "code",
   "execution_count": 9,
   "metadata": {},
   "outputs": [
    {
     "name": "stdout",
     "output_type": "stream",
     "text": [
      "                   High          Low         Open        Close      Volume  \\\n",
      "Date                                                                         \n",
      "2015-01-02  2072.360107  2046.040039  2058.899902  2058.199951  2708700000   \n",
      "2015-01-05  2054.439941  2017.339966  2054.439941  2020.579956  3799120000   \n",
      "2015-01-06  2030.250000  1992.439941  2022.150024  2002.609985  4460110000   \n",
      "2015-01-07  2029.609985  2005.550049  2005.550049  2025.900024  3805480000   \n",
      "2015-01-08  2064.080078  2030.609985  2030.609985  2062.139893  3934010000   \n",
      "...                 ...          ...          ...          ...         ...   \n",
      "2019-11-12  3102.610107  3084.729980  3089.280029  3091.840088  3466010000   \n",
      "2019-11-13  3098.060059  3078.800049  3084.179932  3094.040039  3509280000   \n",
      "2019-11-14  3098.199951  3083.260010  3090.750000  3096.629883  3276070000   \n",
      "2019-11-15  3120.459961  3104.600098  3107.919922  3120.459961  3335650000   \n",
      "2019-11-18  3124.169922  3112.060059  3117.909912  3122.030029  1834376060   \n",
      "\n",
      "              Adj Close  \n",
      "Date                     \n",
      "2015-01-02  2058.199951  \n",
      "2015-01-05  2020.579956  \n",
      "2015-01-06  2002.609985  \n",
      "2015-01-07  2025.900024  \n",
      "2015-01-08  2062.139893  \n",
      "...                 ...  \n",
      "2019-11-12  3091.840088  \n",
      "2019-11-13  3094.040039  \n",
      "2019-11-14  3096.629883  \n",
      "2019-11-15  3120.459961  \n",
      "2019-11-18  3122.030029  \n",
      "\n",
      "[1229 rows x 6 columns]\n"
     ]
    }
   ],
   "source": [
    "print(sp)"
   ]
  },
  {
   "cell_type": "code",
   "execution_count": 10,
   "metadata": {},
   "outputs": [
    {
     "data": {
      "text/plain": [
       "pandas.core.frame.DataFrame"
      ]
     },
     "execution_count": 10,
     "metadata": {},
     "output_type": "execute_result"
    }
   ],
   "source": [
    "type(sp)"
   ]
  },
  {
   "cell_type": "code",
   "execution_count": 11,
   "metadata": {},
   "outputs": [
    {
     "data": {
      "text/plain": [
       "Index(['High', 'Low', 'Open', 'Close', 'Volume', 'Adj Close'], dtype='object')"
      ]
     },
     "execution_count": 11,
     "metadata": {},
     "output_type": "execute_result"
    }
   ],
   "source": [
    "sp.columns"
   ]
  },
  {
   "cell_type": "code",
   "execution_count": 12,
   "metadata": {},
   "outputs": [],
   "source": [
    "sp['Date'] = sp.index"
   ]
  },
  {
   "cell_type": "code",
   "execution_count": 13,
   "metadata": {},
   "outputs": [],
   "source": [
    "sp500 = sp[['Close']]"
   ]
  },
  {
   "cell_type": "code",
   "execution_count": 14,
   "metadata": {},
   "outputs": [
    {
     "name": "stdout",
     "output_type": "stream",
     "text": [
      "                  Close\n",
      "Date                   \n",
      "2015-01-02  2058.199951\n",
      "2015-01-05  2020.579956\n",
      "2015-01-06  2002.609985\n",
      "2015-01-07  2025.900024\n",
      "2015-01-08  2062.139893\n",
      "...                 ...\n",
      "2019-11-12  3091.840088\n",
      "2019-11-13  3094.040039\n",
      "2019-11-14  3096.629883\n",
      "2019-11-15  3120.459961\n",
      "2019-11-18  3122.030029\n",
      "\n",
      "[1229 rows x 1 columns]\n"
     ]
    },
    {
     "data": {
      "text/plain": [
       "(None, DatetimeIndex(['2015-01-02', '2015-01-05', '2015-01-06', '2015-01-07',\n",
       "                '2015-01-08', '2015-01-09', '2015-01-12', '2015-01-13',\n",
       "                '2015-01-14', '2015-01-15',\n",
       "                ...\n",
       "                '2019-11-05', '2019-11-06', '2019-11-07', '2019-11-08',\n",
       "                '2019-11-11', '2019-11-12', '2019-11-13', '2019-11-14',\n",
       "                '2019-11-15', '2019-11-18'],\n",
       "               dtype='datetime64[ns]', name='Date', length=1229, freq=None))"
      ]
     },
     "execution_count": 14,
     "metadata": {},
     "output_type": "execute_result"
    }
   ],
   "source": [
    "print(sp500),sp500.index"
   ]
  },
  {
   "cell_type": "code",
   "execution_count": 15,
   "metadata": {},
   "outputs": [
    {
     "data": {
      "text/plain": [
       "DatetimeIndex(['2015-01-02', '2015-01-05', '2015-01-06', '2015-01-07',\n",
       "               '2015-01-08', '2015-01-09', '2015-01-12', '2015-01-13',\n",
       "               '2015-01-14', '2015-01-15',\n",
       "               ...\n",
       "               '2019-11-05', '2019-11-06', '2019-11-07', '2019-11-08',\n",
       "               '2019-11-11', '2019-11-12', '2019-11-13', '2019-11-14',\n",
       "               '2019-11-15', '2019-11-18'],\n",
       "              dtype='datetime64[ns]', name='Date', length=1229, freq=None)"
      ]
     },
     "execution_count": 15,
     "metadata": {},
     "output_type": "execute_result"
    }
   ],
   "source": [
    "sp500.index"
   ]
  },
  {
   "cell_type": "code",
   "execution_count": 16,
   "metadata": {},
   "outputs": [
    {
     "data": {
      "text/plain": [
       "(pandas.core.frame.DataFrame, pandas.core.series.Series)"
      ]
     },
     "execution_count": 16,
     "metadata": {},
     "output_type": "execute_result"
    }
   ],
   "source": [
    "type(sp500),type(sp500.Close)"
   ]
  },
  {
   "cell_type": "code",
   "execution_count": 17,
   "metadata": {},
   "outputs": [
    {
     "name": "stderr",
     "output_type": "stream",
     "text": [
      "/Users/ameyapatankar/anaconda3/lib/python3.7/site-packages/statsmodels/compat/pandas.py:49: FutureWarning: The Panel class is removed from pandas. Accessing it from the top-level namespace will also be removed in the next version\n",
      "  data_klasses = (pandas.Series, pandas.DataFrame, pandas.Panel)\n"
     ]
    }
   ],
   "source": [
    "from statsmodels.graphics.tsaplots import plot_acf\n",
    "from statsmodels.graphics.tsaplots import plot_pacf\n",
    "\n",
    "from statsmodels.tsa.stattools import adfuller\n",
    "from statsmodels.tsa.seasonal import seasonal_decompose\n",
    "from statsmodels.tsa.stattools import acf, pacf\n",
    "from statsmodels.tsa.arima_model import ARIMA\n",
    "from statsmodels.tsa.arima_model import ARIMAResults\n",
    "from sklearn.metrics import mean_squared_error as MSE"
   ]
  },
  {
   "cell_type": "code",
   "execution_count": 18,
   "metadata": {},
   "outputs": [],
   "source": [
    "#Setting Graph size\n",
    "fig_size = plt.rcParams[\"figure.figsize\"]\n",
    "fig_size[0] = 10\n",
    "fig_size[1] = 10"
   ]
  },
  {
   "cell_type": "code",
   "execution_count": 19,
   "metadata": {},
   "outputs": [
    {
     "data": {
      "image/png": "[encoded data removed]",
      "text/plain": [
       "<Figure size 720x720 with 1 Axes>"
      ]
     },
     "metadata": {
      "needs_background": "light"
     },
     "output_type": "display_data"
    }
   ],
   "source": [
    "sp500.hist()\n",
    "plt.show()"
   ]
  },
  {
   "cell_type": "markdown",
   "metadata": {},
   "source": [
    "The Histogram shows us that most of the times S&P 500 close aws between 2200 - 2400. Analysing the data shows us that it recently breached the 3000 resistance due to strong growth"
   ]
  },
  {
   "cell_type": "code",
   "execution_count": 20,
   "metadata": {},
   "outputs": [],
   "source": [
    "import plotly.graph_objects as go\n",
    "# import plotly.express as px"
   ]
  },
  {
   "cell_type": "code",
   "execution_count": 21,
   "metadata": {},
   "outputs": [
    {
     "data": {
      "image/png": "[encoded data removed]",
      "text/plain": [
       "<Figure size 720x720 with 1 Axes>"
      ]
     },
     "metadata": {
      "needs_background": "light"
     },
     "output_type": "display_data"
    }
   ],
   "source": [
    "plt.plot(sp500['Close'])\n",
    "plt.title('Time Series of S&P 500') \n",
    "plt.ylabel('S&P 500 Value')\n",
    "plt.xlabel('Date')\n",
    "plt.grid()\n",
    "plt.show()"
   ]
  },
  {
   "cell_type": "code",
   "execution_count": 22,
   "metadata": {},
   "outputs": [
    {
     "name": "stderr",
     "output_type": "stream",
     "text": [
      "/Users/ameyapatankar/anaconda3/lib/python3.7/site-packages/plotly/graph_objs/_deprecations.py:385: DeprecationWarning:\n",
      "\n",
      "plotly.graph_objs.Line is deprecated.\n",
      "Please replace it with one of the following more specific types\n",
      "  - plotly.graph_objs.scatter.Line\n",
      "  - plotly.graph_objs.layout.shape.Line\n",
      "  - etc.\n",
      "\n",
      "\n"
     ]
    }
   ],
   "source": [
    "fig = go.Line(sp500, x=\"year\", y=\"S&P 500 closing\", title='Time Series of S&P 500')\n",
    "# fig.show()"
   ]
  },
  {
   "cell_type": "markdown",
   "metadata": {},
   "source": [
    " The index dropped significantly during 2018 end but rebounced quickly breaching the 3000 mark in recent times. \n",
    " Also it it quite evident that the time series in non-stationary and the trent is growing upward. \n",
    " Let's dive into checking the stationarity using the Auto-Dickey Fuller test "
   ]
  },
  {
   "cell_type": "markdown",
   "metadata": {},
   "source": [
    "### Stationarity Analysis ###"
   ]
  },
  {
   "cell_type": "markdown",
   "metadata": {},
   "source": [
    "The Augmented Dickey-Fuller test is a type of statistical test called a unit root test.\n",
    "\n",
    "The intuition behind a unit root test is that it determines how strongly a time series is defined by a trend.\n",
    "\n",
    "There are a number of unit root tests and the Augmented Dickey-Fuller may be one of the more widely used. \n",
    "\n",
    "It uses an autoregressive model and optimizes an information criterion across multiple different lag values.\n",
    "\n",
    "\n",
    "* __Null Hypothesis (H0)__: If failed to be rejected, it suggests the time series has a unit root, meaning it is non-stationary. It has some time dependent structure.\n",
    "* __Alternate Hypothesis (H1)__: The null hypothesis is rejected; it suggests the time series does not have a unit root, meaning it is stationary. It does not have time-dependent structure.\n"
   ]
  },
  {
   "cell_type": "code",
   "execution_count": 23,
   "metadata": {},
   "outputs": [
    {
     "name": "stdout",
     "output_type": "stream",
     "text": [
      "Test Statistic                   -0.230955\n",
      "p-value                           0.934730\n",
      "#Lags Used                        8.000000\n",
      "Number of Observations Used    1220.000000\n",
      "Critical Value (1%)              -3.435721\n",
      "Critical Value (5%)              -2.863912\n",
      "Critical Value (10%)             -2.568033\n",
      "dtype: float64\n"
     ]
    }
   ],
   "source": [
    "df_test = adfuller(sp500['Close'], autolag='AIC')\n",
    "result = pd.Series(df_test[0:4], index=['Test Statistic','p-value','#Lags Used','Number of Observations Used'])\n",
    "for key,value in df_test[4].items():\n",
    "    result['Critical Value (%s)'%key] = value\n",
    "print (result)\n"
   ]
  },
  {
   "cell_type": "markdown",
   "metadata": {},
   "source": [
    "Comparing the test statistic to the critical values, it looks like we would have to fail to reject the null hypothesis that the time series is non-stationary and does have time-dependent structure."
   ]
  },
  {
   "cell_type": "markdown",
   "metadata": {},
   "source": [
    "Calculating the Rolling mean of the time series to introduce stationarity"
   ]
  },
  {
   "cell_type": "code",
   "execution_count": 24,
   "metadata": {},
   "outputs": [],
   "source": [
    "rolling_mean = pd.Series.rolling(sp500['Close'],window= 15,center=False).mean()\n",
    "plt.rcParams[\"figure.figsize\"] = fig_size"
   ]
  },
  {
   "cell_type": "code",
   "execution_count": 25,
   "metadata": {},
   "outputs": [
    {
     "data": {
      "image/png": "[encoded data removed]",
      "text/plain": [
       "<Figure size 720x720 with 1 Axes>"
      ]
     },
     "metadata": {
      "needs_background": "light"
     },
     "output_type": "display_data"
    }
   ],
   "source": [
    "plt.plot(sp500, color = 'blue', label = 'Normal')\n",
    "plt.plot(rolling_mean, color = 'red', label = 'Rolling')\n",
    "plt.legend('best')\n",
    "plt.title('Time Series of S&P 500 with 10 day Rolling mean') \n",
    "plt.ylabel('S&P 500 Value')\n",
    "plt.xlabel('Date')\n",
    "plt.grid()\n",
    "plt.show()\n"
   ]
  },
  {
   "cell_type": "code",
   "execution_count": 26,
   "metadata": {},
   "outputs": [
    {
     "data": {
      "image/png": "[encoded data removed]",
      "text/plain": [
       "<Figure size 720x720 with 1 Axes>"
      ]
     },
     "metadata": {
      "needs_background": "light"
     },
     "output_type": "display_data"
    }
   ],
   "source": [
    "#Subtracting Rolling mean from the original series\n",
    "\n",
    "\n",
    "rolling_mean_diff = sp500['Close'] - rolling_mean\n",
    "#plt.rcParams[\"figure.figsize\"] = fig_size\n",
    "# plt.plot(sp500, color = 'blue', label = 'Normal')\n",
    "# plt.plot(rolling_mean, color = 'red', label = 'Rolling')\n",
    "plt.plot(rolling_mean_diff, color='green',label='Difference between data and rolling mean')\n",
    "plt.legend(loc='best')\n",
    "plt.grid()\n",
    "plt.show()\n",
    "rolling_mean_diff.dropna(inplace=True)\n",
    "\n"
   ]
  },
  {
   "cell_type": "code",
   "execution_count": 27,
   "metadata": {},
   "outputs": [
    {
     "data": {
      "text/plain": [
       "Date\n",
       "2015-01-23    21.251400\n",
       "2015-01-26    26.595410\n",
       "2015-01-27    -1.542635\n",
       "2015-01-28   -28.902653\n",
       "2015-01-29    -9.502686\n",
       "Name: Close, dtype: float64"
      ]
     },
     "execution_count": 27,
     "metadata": {},
     "output_type": "execute_result"
    }
   ],
   "source": [
    "rolling_mean_diff.head()"
   ]
  },
  {
   "cell_type": "code",
   "execution_count": 28,
   "metadata": {},
   "outputs": [
    {
     "name": "stdout",
     "output_type": "stream",
     "text": [
      "Test Statistic                -7.237052e+00\n",
      "p-value                        1.927317e-10\n",
      "#Lags Used                     2.100000e+01\n",
      "Number of Observations Used    1.193000e+03\n",
      "Critical Value (1%)           -3.435721e+00\n",
      "Critical Value (5%)           -2.863912e+00\n",
      "Critical Value (10%)          -2.568033e+00\n",
      "dtype: float64\n"
     ]
    }
   ],
   "source": [
    "#Checking the stationarity of the differenced series\n",
    "\n",
    "df_rmean_test = adfuller(rolling_mean_diff, autolag='AIC')\n",
    "result = pd.Series(df_rmean_test[0:4], index=['Test Statistic','p-value','#Lags Used','Number of Observations Used'])\n",
    "for key,value in df_test[4].items():\n",
    "    result['Critical Value (%s)'%key] = value\n",
    "print (result)\n"
   ]
  },
  {
   "cell_type": "markdown",
   "metadata": {},
   "source": [
    "The p value is low and thus we can reject the Null Hypothesis with confidence. Also the test statistic is lower than all the critical values"
   ]
  },
  {
   "cell_type": "markdown",
   "metadata": {},
   "source": [
    "Taking log transformation of the data to check stationarity"
   ]
  },
  {
   "cell_type": "code",
   "execution_count": 29,
   "metadata": {},
   "outputs": [
    {
     "data": {
      "image/png": "[encoded data removed]",
      "text/plain": [
       "<Figure size 720x720 with 1 Axes>"
      ]
     },
     "metadata": {
      "needs_background": "light"
     },
     "output_type": "display_data"
    }
   ],
   "source": [
    "rate_data_log = np.log(sp500['Close'])\n",
    "\n",
    "rate_data_log.plot(label='Log Data')\n",
    "plt.legend(loc='best')\n",
    "plt.grid()\n",
    "plt.show()\n",
    "\n",
    "\n",
    "\n"
   ]
  },
  {
   "cell_type": "code",
   "execution_count": 30,
   "metadata": {},
   "outputs": [
    {
     "data": {
      "image/png": "[encoded data removed]",
      "text/plain": [
       "<Figure size 720x720 with 1 Axes>"
      ]
     },
     "metadata": {
      "needs_background": "light"
     },
     "output_type": "display_data"
    }
   ],
   "source": [
    "#ROlling mean of Log data\n",
    "\n",
    "log_rolling_mean=pd.Series.rolling(rate_data_log,window=10,center=False).mean()\n",
    "plt.rcParams[\"figure.figsize\"] = fig_size\n",
    "log_rolmean_diff=rate_data_log-log_rolling_mean\n",
    "log_rmean_diff= plt.plot(rolling_mean_diff, color='red', label='Rolling Mean of log')\n",
    "plt.legend(loc='best')\n",
    "plt.grid()\n",
    "plt.show()\n",
    "log_rolmean_diff.dropna(inplace=True)\n"
   ]
  },
  {
   "cell_type": "code",
   "execution_count": 31,
   "metadata": {},
   "outputs": [
    {
     "name": "stdout",
     "output_type": "stream",
     "text": [
      "Test Statistic                -9.220009e+00\n",
      "p-value                        1.790524e-15\n",
      "#Lags Used                     9.000000e+00\n",
      "Number of Observations Used    1.210000e+03\n",
      "Critical Value (1%)           -3.435766e+00\n",
      "Critical Value (5%)           -2.863932e+00\n",
      "Critical Value (10%)          -2.568043e+00\n",
      "dtype: float64\n"
     ]
    }
   ],
   "source": [
    "df_test_log = adfuller(log_rolmean_diff, autolag='AIC')\n",
    "result_log = pd.Series(df_test_log[0:4], index=['Test Statistic','p-value','#Lags Used','Number of Observations Used'])\n",
    "for key,value in df_test_log[4].items():\n",
    "    result_log['Critical Value (%s)'%key] = value\n",
    "print (result_log)"
   ]
  },
  {
   "cell_type": "markdown",
   "metadata": {},
   "source": [
    "#### Exponentially weighed moving Average smoothning"
   ]
  },
  {
   "cell_type": "code",
   "execution_count": 32,
   "metadata": {},
   "outputs": [
    {
     "data": {
      "image/png": "[encoded data removed]",
      "text/plain": [
       "<Figure size 720x720 with 1 Axes>"
      ]
     },
     "metadata": {
      "needs_background": "light"
     },
     "output_type": "display_data"
    },
    {
     "data": {
      "image/png": "[encoded data removed]",
      "text/plain": [
       "<Figure size 720x720 with 1 Axes>"
      ]
     },
     "metadata": {
      "needs_background": "light"
     },
     "output_type": "display_data"
    }
   ],
   "source": [
    "ewma_data=pd.Series.ewm(rate_data_log,halflife=10,min_periods=0,adjust=True,ignore_na=False).mean()\n",
    "\n",
    "rate_data_log.plot(label='Log Data')\n",
    "plt.legend(loc='best')\n",
    "plt.grid()\n",
    "plt.show()\n",
    "\n",
    "# Calculate EWMA and plot\n",
    "plt.plot(ewma_data, color='red',label='EWMA')\n",
    "plt.legend()\n",
    "plt.legend(loc='best')\n",
    "plt.grid()\n",
    "plt.show()"
   ]
  },
  {
   "cell_type": "code",
   "execution_count": 33,
   "metadata": {},
   "outputs": [
    {
     "data": {
      "image/png": "[encoded data removed]",
      "text/plain": [
       "<Figure size 720x720 with 1 Axes>"
      ]
     },
     "metadata": {
      "needs_background": "light"
     },
     "output_type": "display_data"
    }
   ],
   "source": [
    "# Calculate and plot difference\n",
    "\n",
    "ewma_diff=rate_data_log-ewma_data\n",
    "plt.rcParams[\"figure.figsize\"] = fig_size\n",
    "plt.plot(ewma_diff, color='red')\n",
    "plt.grid()\n",
    "plt.show()\n",
    "\n"
   ]
  },
  {
   "cell_type": "code",
   "execution_count": 34,
   "metadata": {},
   "outputs": [
    {
     "name": "stdout",
     "output_type": "stream",
     "text": [
      "Test Statistic                -7.846538e+00\n",
      "p-value                        5.749148e-12\n",
      "#Lags Used                     0.000000e+00\n",
      "Number of Observations Used    1.228000e+03\n",
      "Critical Value (1%)           -3.435686e+00\n",
      "Critical Value (5%)           -2.863896e+00\n",
      "Critical Value (10%)          -2.568025e+00\n",
      "dtype: float64\n"
     ]
    }
   ],
   "source": [
    "df_test_ewma = adfuller(ewma_diff, autolag='AIC')\n",
    "result_ewma = pd.Series(df_test_ewma[0:4], index=['Test Statistic','p-value','#Lags Used','Number of Observations Used'])\n",
    "for key,value in df_test_ewma[4].items():\n",
    "    result_ewma['Critical Value (%s)'%key] = value\n",
    "print (result_ewma)"
   ]
  },
  {
   "cell_type": "markdown",
   "metadata": {},
   "source": [
    "### First Order Differencing"
   ]
  },
  {
   "cell_type": "code",
   "execution_count": 35,
   "metadata": {},
   "outputs": [
    {
     "data": {
      "image/png": "[encoded data removed]",
      "text/plain": [
       "<Figure size 720x720 with 1 Axes>"
      ]
     },
     "metadata": {
      "needs_background": "light"
     },
     "output_type": "display_data"
    }
   ],
   "source": [
    "rate_log_diff = rate_data_log - rate_data_log.shift()\n",
    "rate_log_diff.dropna(inplace=True)\n",
    "plt.rcParams[\"figure.figsize\"] = fig_size\n",
    "plt.plot(rate_log_diff)\n",
    "plt.legend('Log Data')\n",
    "plt.legend(loc='best')\n",
    "plt.grid()\n",
    "plt.show()"
   ]
  },
  {
   "cell_type": "code",
   "execution_count": 36,
   "metadata": {},
   "outputs": [
    {
     "name": "stdout",
     "output_type": "stream",
     "text": [
      "Test Statistic                  -26.471258\n",
      "p-value                           0.000000\n",
      "#Lags Used                        1.000000\n",
      "Number of Observations Used    1226.000000\n",
      "Critical Value (1%)              -3.435695\n",
      "Critical Value (5%)              -2.863900\n",
      "Critical Value (10%)             -2.568027\n",
      "dtype: float64\n"
     ]
    }
   ],
   "source": [
    "df_test_logdiff = adfuller(rate_log_diff, autolag='AIC')\n",
    "result_logdiff = pd.Series(df_test_logdiff[0:4], index=['Test Statistic','p-value','#Lags Used','Number of Observations Used'])\n",
    "for key,value in df_test_logdiff[4].items():\n",
    "    result_logdiff['Critical Value (%s)'%key] = value\n",
    "print (result_logdiff)"
   ]
  },
  {
   "cell_type": "markdown",
   "metadata": {},
   "source": [
    "The p-value is close to 0 which means we can reject the Null Hypothesis with confidence. \n",
    "\n",
    "So far this has been ther best transformation "
   ]
  },
  {
   "cell_type": "code",
   "execution_count": 37,
   "metadata": {},
   "outputs": [
    {
     "data": {
      "image/png": "[encoded data removed]",
      "text/plain": [
       "<Figure size 720x720 with 1 Axes>"
      ]
     },
     "metadata": {
      "needs_background": "light"
     },
     "output_type": "display_data"
    },
    {
     "data": {
      "image/png": "[encoded data removed]",
      "text/plain": [
       "<Figure size 720x720 with 1 Axes>"
      ]
     },
     "metadata": {
      "needs_background": "light"
     },
     "output_type": "display_data"
    }
   ],
   "source": [
    "plot_acf(rate_log_diff,lags=20)\n",
    "plt.show()\n",
    "\n",
    "plot_pacf(rate_log_diff,lags=20)\n",
    "plt.show()\n",
    "\n"
   ]
  },
  {
   "cell_type": "markdown",
   "metadata": {},
   "source": [
    "### Decomposing the time Series"
   ]
  },
  {
   "cell_type": "code",
   "execution_count": 48,
   "metadata": {},
   "outputs": [
    {
     "data": {
      "text/plain": [
       "Date\n",
       "2015-01-02    7.629587\n",
       "2015-01-05    7.611140\n",
       "2015-01-06    7.602207\n",
       "2015-01-07    7.613769\n",
       "2015-01-08    7.631500\n",
       "                ...   \n",
       "2019-11-12    8.036522\n",
       "2019-11-13    8.037233\n",
       "2019-11-14    8.038070\n",
       "2019-11-15    8.045736\n",
       "2019-11-18    8.046239\n",
       "Name: Close, Length: 1229, dtype: float64"
      ]
     },
     "execution_count": 48,
     "metadata": {},
     "output_type": "execute_result"
    }
   ],
   "source": [
    "rate_data_log= np.log(sp500['Close'])\n",
    "# decomposition = seasonal_decompose(rate_data_log)\n",
    "\n",
    "# trend = decomposition.trend\n",
    "# seasonal = decomposition.seasonal\n",
    "# resid = decomposition.resid\n",
    "rate_data_log"
   ]
  },
  {
   "cell_type": "code",
   "execution_count": 46,
   "metadata": {
    "scrolled": true
   },
   "outputs": [
    {
     "data": {
      "text/html": [
       "<div>\n",
       "<style scoped>\n",
       "    .dataframe tbody tr th:only-of-type {\n",
       "        vertical-align: middle;\n",
       "    }\n",
       "\n",
       "    .dataframe tbody tr th {\n",
       "        vertical-align: top;\n",
       "    }\n",
       "\n",
       "    .dataframe thead th {\n",
       "        text-align: right;\n",
       "    }\n",
       "</style>\n",
       "<table border=\"1\" class=\"dataframe\">\n",
       "  <thead>\n",
       "    <tr style=\"text-align: right;\">\n",
       "      <th></th>\n",
       "      <th>Close</th>\n",
       "    </tr>\n",
       "    <tr>\n",
       "      <th>Date</th>\n",
       "      <th></th>\n",
       "    </tr>\n",
       "  </thead>\n",
       "  <tbody>\n",
       "    <tr>\n",
       "      <th>2015-01-02</th>\n",
       "      <td>2058.199951</td>\n",
       "    </tr>\n",
       "    <tr>\n",
       "      <th>2015-01-05</th>\n",
       "      <td>2020.579956</td>\n",
       "    </tr>\n",
       "    <tr>\n",
       "      <th>2015-01-06</th>\n",
       "      <td>2002.609985</td>\n",
       "    </tr>\n",
       "    <tr>\n",
       "      <th>2015-01-07</th>\n",
       "      <td>2025.900024</td>\n",
       "    </tr>\n",
       "    <tr>\n",
       "      <th>2015-01-08</th>\n",
       "      <td>2062.139893</td>\n",
       "    </tr>\n",
       "    <tr>\n",
       "      <th>2015-01-09</th>\n",
       "      <td>2044.810059</td>\n",
       "    </tr>\n",
       "    <tr>\n",
       "      <th>2015-01-12</th>\n",
       "      <td>2028.260010</td>\n",
       "    </tr>\n",
       "    <tr>\n",
       "      <th>2015-01-13</th>\n",
       "      <td>2023.030029</td>\n",
       "    </tr>\n",
       "    <tr>\n",
       "      <th>2015-01-14</th>\n",
       "      <td>2011.270020</td>\n",
       "    </tr>\n",
       "    <tr>\n",
       "      <th>2015-01-15</th>\n",
       "      <td>1992.670044</td>\n",
       "    </tr>\n",
       "    <tr>\n",
       "      <th>2015-01-16</th>\n",
       "      <td>2019.420044</td>\n",
       "    </tr>\n",
       "    <tr>\n",
       "      <th>2015-01-20</th>\n",
       "      <td>2022.550049</td>\n",
       "    </tr>\n",
       "    <tr>\n",
       "      <th>2015-01-21</th>\n",
       "      <td>2032.119995</td>\n",
       "    </tr>\n",
       "    <tr>\n",
       "      <th>2015-01-22</th>\n",
       "      <td>2063.149902</td>\n",
       "    </tr>\n",
       "    <tr>\n",
       "      <th>2015-01-23</th>\n",
       "      <td>2051.820068</td>\n",
       "    </tr>\n",
       "    <tr>\n",
       "      <th>2015-01-26</th>\n",
       "      <td>2057.090088</td>\n",
       "    </tr>\n",
       "    <tr>\n",
       "      <th>2015-01-27</th>\n",
       "      <td>2029.550049</td>\n",
       "    </tr>\n",
       "    <tr>\n",
       "      <th>2015-01-28</th>\n",
       "      <td>2002.160034</td>\n",
       "    </tr>\n",
       "    <tr>\n",
       "      <th>2015-01-29</th>\n",
       "      <td>2021.250000</td>\n",
       "    </tr>\n",
       "    <tr>\n",
       "      <th>2015-01-30</th>\n",
       "      <td>1994.989990</td>\n",
       "    </tr>\n",
       "    <tr>\n",
       "      <th>2015-02-02</th>\n",
       "      <td>2020.849976</td>\n",
       "    </tr>\n",
       "    <tr>\n",
       "      <th>2015-02-03</th>\n",
       "      <td>2050.030029</td>\n",
       "    </tr>\n",
       "    <tr>\n",
       "      <th>2015-02-04</th>\n",
       "      <td>2041.510010</td>\n",
       "    </tr>\n",
       "    <tr>\n",
       "      <th>2015-02-05</th>\n",
       "      <td>2062.520020</td>\n",
       "    </tr>\n",
       "    <tr>\n",
       "      <th>2015-02-06</th>\n",
       "      <td>2055.469971</td>\n",
       "    </tr>\n",
       "    <tr>\n",
       "      <th>2015-02-09</th>\n",
       "      <td>2046.739990</td>\n",
       "    </tr>\n",
       "    <tr>\n",
       "      <th>2015-02-10</th>\n",
       "      <td>2068.590088</td>\n",
       "    </tr>\n",
       "    <tr>\n",
       "      <th>2015-02-11</th>\n",
       "      <td>2068.530029</td>\n",
       "    </tr>\n",
       "    <tr>\n",
       "      <th>2015-02-12</th>\n",
       "      <td>2088.479980</td>\n",
       "    </tr>\n",
       "    <tr>\n",
       "      <th>2015-02-13</th>\n",
       "      <td>2096.989990</td>\n",
       "    </tr>\n",
       "    <tr>\n",
       "      <th>...</th>\n",
       "      <td>...</td>\n",
       "    </tr>\n",
       "    <tr>\n",
       "      <th>2019-10-08</th>\n",
       "      <td>2893.060059</td>\n",
       "    </tr>\n",
       "    <tr>\n",
       "      <th>2019-10-09</th>\n",
       "      <td>2919.399902</td>\n",
       "    </tr>\n",
       "    <tr>\n",
       "      <th>2019-10-10</th>\n",
       "      <td>2938.129883</td>\n",
       "    </tr>\n",
       "    <tr>\n",
       "      <th>2019-10-11</th>\n",
       "      <td>2970.270020</td>\n",
       "    </tr>\n",
       "    <tr>\n",
       "      <th>2019-10-14</th>\n",
       "      <td>2966.149902</td>\n",
       "    </tr>\n",
       "    <tr>\n",
       "      <th>2019-10-15</th>\n",
       "      <td>2995.679932</td>\n",
       "    </tr>\n",
       "    <tr>\n",
       "      <th>2019-10-16</th>\n",
       "      <td>2989.689941</td>\n",
       "    </tr>\n",
       "    <tr>\n",
       "      <th>2019-10-17</th>\n",
       "      <td>2997.949951</td>\n",
       "    </tr>\n",
       "    <tr>\n",
       "      <th>2019-10-18</th>\n",
       "      <td>2986.199951</td>\n",
       "    </tr>\n",
       "    <tr>\n",
       "      <th>2019-10-21</th>\n",
       "      <td>3006.719971</td>\n",
       "    </tr>\n",
       "    <tr>\n",
       "      <th>2019-10-22</th>\n",
       "      <td>2995.989990</td>\n",
       "    </tr>\n",
       "    <tr>\n",
       "      <th>2019-10-23</th>\n",
       "      <td>3004.520020</td>\n",
       "    </tr>\n",
       "    <tr>\n",
       "      <th>2019-10-24</th>\n",
       "      <td>3010.290039</td>\n",
       "    </tr>\n",
       "    <tr>\n",
       "      <th>2019-10-25</th>\n",
       "      <td>3022.550049</td>\n",
       "    </tr>\n",
       "    <tr>\n",
       "      <th>2019-10-28</th>\n",
       "      <td>3039.419922</td>\n",
       "    </tr>\n",
       "    <tr>\n",
       "      <th>2019-10-29</th>\n",
       "      <td>3036.889893</td>\n",
       "    </tr>\n",
       "    <tr>\n",
       "      <th>2019-10-30</th>\n",
       "      <td>3046.770020</td>\n",
       "    </tr>\n",
       "    <tr>\n",
       "      <th>2019-10-31</th>\n",
       "      <td>3037.560059</td>\n",
       "    </tr>\n",
       "    <tr>\n",
       "      <th>2019-11-01</th>\n",
       "      <td>3066.909912</td>\n",
       "    </tr>\n",
       "    <tr>\n",
       "      <th>2019-11-04</th>\n",
       "      <td>3078.270020</td>\n",
       "    </tr>\n",
       "    <tr>\n",
       "      <th>2019-11-05</th>\n",
       "      <td>3074.620117</td>\n",
       "    </tr>\n",
       "    <tr>\n",
       "      <th>2019-11-06</th>\n",
       "      <td>3076.780029</td>\n",
       "    </tr>\n",
       "    <tr>\n",
       "      <th>2019-11-07</th>\n",
       "      <td>3085.179932</td>\n",
       "    </tr>\n",
       "    <tr>\n",
       "      <th>2019-11-08</th>\n",
       "      <td>3093.080078</td>\n",
       "    </tr>\n",
       "    <tr>\n",
       "      <th>2019-11-11</th>\n",
       "      <td>3087.010010</td>\n",
       "    </tr>\n",
       "    <tr>\n",
       "      <th>2019-11-12</th>\n",
       "      <td>3091.840088</td>\n",
       "    </tr>\n",
       "    <tr>\n",
       "      <th>2019-11-13</th>\n",
       "      <td>3094.040039</td>\n",
       "    </tr>\n",
       "    <tr>\n",
       "      <th>2019-11-14</th>\n",
       "      <td>3096.629883</td>\n",
       "    </tr>\n",
       "    <tr>\n",
       "      <th>2019-11-15</th>\n",
       "      <td>3120.459961</td>\n",
       "    </tr>\n",
       "    <tr>\n",
       "      <th>2019-11-18</th>\n",
       "      <td>3122.030029</td>\n",
       "    </tr>\n",
       "  </tbody>\n",
       "</table>\n",
       "<p>1229 rows × 1 columns</p>\n",
       "</div>"
      ],
      "text/plain": [
       "                  Close\n",
       "Date                   \n",
       "2015-01-02  2058.199951\n",
       "2015-01-05  2020.579956\n",
       "2015-01-06  2002.609985\n",
       "2015-01-07  2025.900024\n",
       "2015-01-08  2062.139893\n",
       "...                 ...\n",
       "2019-11-12  3091.840088\n",
       "2019-11-13  3094.040039\n",
       "2019-11-14  3096.629883\n",
       "2019-11-15  3120.459961\n",
       "2019-11-18  3122.030029\n",
       "\n",
       "[1229 rows x 1 columns]"
      ]
     },
     "execution_count": 46,
     "metadata": {},
     "output_type": "execute_result"
    }
   ],
   "source": [
    "sp500"
   ]
  },
  {
   "cell_type": "markdown",
   "metadata": {},
   "source": [
    "### Training a ARIMA model on the differenced and log data"
   ]
  },
  {
   "cell_type": "code",
   "execution_count": 48,
   "metadata": {},
   "outputs": [
    {
     "data": {
      "text/plain": [
       "array([7.62958707, 7.61113986, 7.6022066 , ..., 8.00826575, 8.00860838,\n",
       "       8.00862836])"
      ]
     },
     "execution_count": 48,
     "metadata": {},
     "output_type": "execute_result"
    }
   ],
   "source": [
    "rate_data_log.values"
   ]
  },
  {
   "cell_type": "code",
   "execution_count": 225,
   "metadata": {},
   "outputs": [],
   "source": [
    "data1 = rate_data_log.values\n",
    "train = list(data1[0:1000])\n",
    "train_ = list(data1[0:1000])\n",
    "test = list(data1[1000:])\n",
    "otest = list(data1[1000:0])"
   ]
  },
  {
   "cell_type": "code",
   "execution_count": 226,
   "metadata": {},
   "outputs": [
    {
     "data": {
      "text/plain": [
       "1228"
      ]
     },
     "execution_count": 226,
     "metadata": {},
     "output_type": "execute_result"
    }
   ],
   "source": [
    "len(data1)"
   ]
  },
  {
   "cell_type": "code",
   "execution_count": 227,
   "metadata": {
    "scrolled": false
   },
   "outputs": [],
   "source": [
    "data1 = rate_data_log.values\n",
    "train = list(data1[0:1000])\n",
    "train_ = list(data1[0:1000])\n",
    "test = list(data1[1000:])\n",
    "otest = list(data1[1000:])\n",
    "\n",
    "train_list = [x for x in train]\n",
    "predictions = []\n",
    "\n",
    "# np.array(train)"
   ]
  },
  {
   "cell_type": "code",
   "execution_count": 228,
   "metadata": {},
   "outputs": [],
   "source": [
    "train_list = [x for x in train]"
   ]
  },
  {
   "cell_type": "code",
   "execution_count": 229,
   "metadata": {},
   "outputs": [
    {
     "data": {
      "text/plain": [
       "228"
      ]
     },
     "execution_count": 229,
     "metadata": {},
     "output_type": "execute_result"
    }
   ],
   "source": [
    "len(test)"
   ]
  },
  {
   "cell_type": "code",
   "execution_count": 230,
   "metadata": {},
   "outputs": [
    {
     "name": "stderr",
     "output_type": "stream",
     "text": [
      "/Users/ameyapatankar/anaconda3/lib/python3.7/site-packages/scipy/signal/signaltools.py:1341: FutureWarning:\n",
      "\n",
      "Using a non-tuple sequence for multidimensional indexing is deprecated; use `arr[tuple(seq)]` instead of `arr[seq]`. In the future this will be interpreted as an array index, `arr[np.array(seq)]`, which will result either in an error or a different result.\n",
      "\n",
      "/Users/ameyapatankar/anaconda3/lib/python3.7/site-packages/scipy/signal/signaltools.py:1344: FutureWarning:\n",
      "\n",
      "Using a non-tuple sequence for multidimensional indexing is deprecated; use `arr[tuple(seq)]` instead of `arr[seq]`. In the future this will be interpreted as an array index, `arr[np.array(seq)]`, which will result either in an error or a different result.\n",
      "\n",
      "/Users/ameyapatankar/anaconda3/lib/python3.7/site-packages/scipy/signal/signaltools.py:1350: FutureWarning:\n",
      "\n",
      "Using a non-tuple sequence for multidimensional indexing is deprecated; use `arr[tuple(seq)]` instead of `arr[seq]`. In the future this will be interpreted as an array index, `arr[np.array(seq)]`, which will result either in an error or a different result.\n",
      "\n",
      "/Users/ameyapatankar/anaconda3/lib/python3.7/site-packages/statsmodels/base/model.py:508: ConvergenceWarning:\n",
      "\n",
      "Maximum Likelihood optimization failed to converge. Check mle_retvals\n",
      "\n",
      "/Users/ameyapatankar/anaconda3/lib/python3.7/site-packages/statsmodels/base/model.py:508: ConvergenceWarning:\n",
      "\n",
      "Maximum Likelihood optimization failed to converge. Check mle_retvals\n",
      "\n",
      "/Users/ameyapatankar/anaconda3/lib/python3.7/site-packages/statsmodels/base/model.py:508: ConvergenceWarning:\n",
      "\n",
      "Maximum Likelihood optimization failed to converge. Check mle_retvals\n",
      "\n"
     ]
    }
   ],
   "source": [
    "for t in range(len(test)):\n",
    "    model = ARIMA(np.array(train),order=(1,1,0))\n",
    "    fit = model.fit()\n",
    "    forecast = float(fit.forecast()[0])\n",
    "    predictions.append(forecast)\n",
    "    train.append(float(test[t])) #np.array"
   ]
  },
  {
   "cell_type": "code",
   "execution_count": 231,
   "metadata": {
    "scrolled": true
   },
   "outputs": [
    {
     "data": {
      "text/plain": [
       "(228, 228)"
      ]
     },
     "execution_count": 231,
     "metadata": {},
     "output_type": "execute_result"
    }
   ],
   "source": [
    "len(predictions), len(test)"
   ]
  },
  {
   "cell_type": "code",
   "execution_count": 232,
   "metadata": {},
   "outputs": [
    {
     "name": "stderr",
     "output_type": "stream",
     "text": [
      "/Users/ameyapatankar/anaconda3/lib/python3.7/site-packages/scipy/signal/signaltools.py:1341: FutureWarning:\n",
      "\n",
      "Using a non-tuple sequence for multidimensional indexing is deprecated; use `arr[tuple(seq)]` instead of `arr[seq]`. In the future this will be interpreted as an array index, `arr[np.array(seq)]`, which will result either in an error or a different result.\n",
      "\n",
      "/Users/ameyapatankar/anaconda3/lib/python3.7/site-packages/scipy/signal/signaltools.py:1344: FutureWarning:\n",
      "\n",
      "Using a non-tuple sequence for multidimensional indexing is deprecated; use `arr[tuple(seq)]` instead of `arr[seq]`. In the future this will be interpreted as an array index, `arr[np.array(seq)]`, which will result either in an error or a different result.\n",
      "\n",
      "/Users/ameyapatankar/anaconda3/lib/python3.7/site-packages/scipy/signal/signaltools.py:1350: FutureWarning:\n",
      "\n",
      "Using a non-tuple sequence for multidimensional indexing is deprecated; use `arr[tuple(seq)]` instead of `arr[seq]`. In the future this will be interpreted as an array index, `arr[np.array(seq)]`, which will result either in an error or a different result.\n",
      "\n"
     ]
    }
   ],
   "source": [
    "model = ARIMA(np.array(train), order=(2,1,0))\n",
    "\n",
    "fit = model.fit()\n",
    "full_predictions=list(fit.forecast(34)[0])\n"
   ]
  },
  {
   "cell_type": "code",
   "execution_count": 233,
   "metadata": {
    "scrolled": true
   },
   "outputs": [
    {
     "name": "stdout",
     "output_type": "stream",
     "text": [
      "Mean squared error: 846.325296\n"
     ]
    }
   ],
   "source": [
    "# np.exp(full_predictions)\n",
    "print ('Mean squared error: {0:3f}'.format(MSE(np.exp(test),np.exp(predictions))))\n"
   ]
  },
  {
   "cell_type": "code",
   "execution_count": 177,
   "metadata": {
    "scrolled": true
   },
   "outputs": [],
   "source": [
    "pred = pd.DataFrame(np.exp(predictions),columns= ['Predicted'])\n",
    "true = pd.DataFrame(np.exp(test),columns= ['True Value'])\n",
    "df = pd.concat([pred,true],axis = 1)"
   ]
  },
  {
   "cell_type": "code",
   "execution_count": 178,
   "metadata": {},
   "outputs": [
    {
     "data": {
      "text/html": [
       "<div>\n",
       "<style scoped>\n",
       "    .dataframe tbody tr th:only-of-type {\n",
       "        vertical-align: middle;\n",
       "    }\n",
       "\n",
       "    .dataframe tbody tr th {\n",
       "        vertical-align: top;\n",
       "    }\n",
       "\n",
       "    .dataframe thead th {\n",
       "        text-align: right;\n",
       "    }\n",
       "</style>\n",
       "<table border=\"1\" class=\"dataframe\">\n",
       "  <thead>\n",
       "    <tr style=\"text-align: right;\">\n",
       "      <th></th>\n",
       "      <th>Predicted</th>\n",
       "      <th>True Value</th>\n",
       "    </tr>\n",
       "  </thead>\n",
       "  <tbody>\n",
       "    <tr>\n",
       "      <th>0</th>\n",
       "      <td>2468.213634</td>\n",
       "      <td>2416.620117</td>\n",
       "    </tr>\n",
       "    <tr>\n",
       "      <th>1</th>\n",
       "      <td>2417.205349</td>\n",
       "      <td>2351.100098</td>\n",
       "    </tr>\n",
       "    <tr>\n",
       "      <th>2</th>\n",
       "      <td>2351.133460</td>\n",
       "      <td>2467.699951</td>\n",
       "    </tr>\n",
       "    <tr>\n",
       "      <th>3</th>\n",
       "      <td>2466.443985</td>\n",
       "      <td>2488.830078</td>\n",
       "    </tr>\n",
       "    <tr>\n",
       "      <th>4</th>\n",
       "      <td>2489.126640</td>\n",
       "      <td>2485.739990</td>\n",
       "    </tr>\n",
       "  </tbody>\n",
       "</table>\n",
       "</div>"
      ],
      "text/plain": [
       "     Predicted   True Value\n",
       "0  2468.213634  2416.620117\n",
       "1  2417.205349  2351.100098\n",
       "2  2351.133460  2467.699951\n",
       "3  2466.443985  2488.830078\n",
       "4  2489.126640  2485.739990"
      ]
     },
     "execution_count": 178,
     "metadata": {},
     "output_type": "execute_result"
    }
   ],
   "source": [
    "df.head()"
   ]
  },
  {
   "cell_type": "code",
   "execution_count": 179,
   "metadata": {},
   "outputs": [
    {
     "data": {
      "application/vnd.plotly.v1+json": {
       "config": {
        "plotlyServerURL": "https://plot.ly"
       },
       "data": [
        {
         "name": "Predicted Values",
         "type": "scatter",
         "y": [
          2468.213633874224,
          2417.2053489633754,
          2351.1334604643266,
          2466.4439854591233,
          2489.1266399745027,
          2486.238282742976,
          2507.160993901421,
          2510.502451219656,
          2448.867471885087,
          2530.742606625636,
          2549.93921105557,
          2574.5904457837128,
          2585.387536451455,
          2597.06602852995,
          2596.8710392159887,
          2583.40717227636,
          2610.473067037073,
          2616.6363797104336,
          2636.300316661344,
          2670.900341118337,
          2634.1785327909056,
          2639.2551611752974,
          2642.9264890842296,
          2665.063419867922,
          2644.88102773529,
          2640.7218804924532,
          2681.011661450361,
          2704.455057767706,
          2707.224871265976,
          2725.3295325942163,
          2738.2689764828224,
          2732.4704186195795,
          2707.177158260379,
          2708.5832041360363,
          2710.5036610589486,
          2744.959983545658,
          2753.690860858321,
          2746.6169969220023,
          2775.9458399414757,
          2780.513998139425,
          2785.44750381905,
          2775.8416839850574,
          2793.221376401059,
          2796.8921464028654,
          2794.766901552759,
          2793.2333118693155,
          2785.431947212273,
          2804.2263154864413,
          2793.8146863181482,
          2790.524361664449,
          2772.5403793943183,
          2750.0426657647386,
          2743.919666824877,
          2783.4858306715673,
          2792.217994404441,
          2811.4781238535784,
          2809.3565223211917,
          2823.1288991060133,
          2833.6560880850993,
          2833.4438829236487,
          2825.208997588283,
          2855.310501411277,
          2802.4862890699233,
          2799.225184451478,
          2818.957974629816,
          2806.4349369361044,
          2816.1022873249003,
          2834.92916515056,
          2867.5415667856123,
          2868.145135959453,
          2874.208917591541,
          2880.2087375397527,
          2893.4519721232687,
          2896.6581041925638,
          2879.40858170012,
          2888.9672840012954,
          2889.245073558479,
          2908.03433018853,
          2906.5584297221862,
          2907.982896935381,
          2901.5016450909575,
          2905.8953484403796,
          2908.8662892039256,
          2934.218193399,
          2928.3306429805575,
          2927.1558231740682,
          2940.625781937841,
          2943.962466376677,
          2946.7712450571375,
          2925.0720482040206,
          2918.577584030871,
          2946.1362799871417,
          2933.6747489382,
          2885.766634024832,
          2880.395694137664,
          2871.7498947197337,
          2882.1247367400347,
          2813.887584256463,
          2834.8075482710005,
          2851.5047076883548,
          2876.7396037382136,
          2860.7243576642804,
          2841.4367065935885,
          2864.7670881062945,
          2857.295427766295,
          2823.7134201068466,
          2826.8137241379673,
          2803.6465906697154,
          2784.1536944665104,
          2789.530209774695,
          2753.494228478023,
          2745.3165635342257,
          2802.9162461117985,
          2826.5749493244157,
          2844.040783714345,
          2873.737553733486,
          2887.4139779072902,
          2886.623672179873,
          2880.8105873034365,
          2892.350691686769,
          2887.939933646113,
          2890.5179499924184,
          2918.235653587816,
          2927.26028195368,
          2954.7308576459595,
          2951.476378256609,
          2946.3800327916233,
          2918.7089509476573,
          2914.745092444238,
          2925.682112251691,
          2942.461820334795,
          2964.9861726935433,
          2973.8719098253273,
          2996.5200541338863,
          2991.4837928551333,
          2977.1259311721783,
          2980.5652633088384,
          2993.889132311745,
          3000.8264147026775,
          3014.609649341818,
          3015.3169514002548,
          3005.1865515639547,
          2985.658774562902,
          2995.9661447194903,
          2977.833408900203,
          2985.89887107257,
          3006.2015242613325,
          3020.398562210466,
          3004.886648361271,
          3026.581300823259,
          3022.062624691466,
          3014.3022444692133,
          2981.7954351335015,
          2954.8261522705325,
          2933.2053770467774,
          2846.2836336443506,
          2882.133257577433,
          2884.804482080874,
          2938.3016092396024,
          2919.8219377165533,
          2884.0251100210985,
          2926.541642078683,
          2843.1514847074936,
          2848.2649447349577,
          2888.6776687516867,
          2923.8846465383203,
          2901.842898010209,
          2924.8324332345296,
          2923.8786112952625,
          2849.455672184018,
          2878.4836027637743,
          2870.216466433456,
          2888.339464606612,
          2924.6164483682433,
          2927.315909842626,
          2907.6145298768056,
          2937.926602316639,
          2976.084995765398,
          2979.6067167724896,
          2979.3928631016456,
          2980.3252402984463,
          3001.425177631951,
          3010.3682260953656,
          3008.426203892961,
          2999.145307497956,
          3006.510623000905,
          3007.6913517781495,
          3007.7723512647717,
          2993.3636110617954,
          2992.7506587176463,
          2968.0922665060066,
          2985.4064990103907,
          2978.73247529578,
          2963.0767118866497,
          2977.3365785907295,
          2942.013722593801,
          2889.5482505924992,
          2910.9705369663884,
          2952.027243068476,
          2939.9759563610005,
          2894.8642143020616,
          2919.6685058709986,
          2938.605019108626,
          2970.505223322262,
          2967.160363136965,
          2995.989370931418,
          2990.769357883893,
          2998.7242313886613,
          2987.402307140433,
          3007.222922744905,
          2997.1864315120483,
          3005.28673525253,
          3011.1261498679814,
          3023.2519449275183,
          3040.0389554668977,
          3037.943293331708,
          3047.553250860451,
          3038.764662637788,
          3067.258981561953,
          3079.0533003985975,
          3075.7397022188643,
          3077.769110030801,
          3086.0358306684416,
          3093.9562376641275,
          3088.1956832880114,
          3092.782549874521,
          3095.044214705126,
          3097.627358468614
         ]
        },
        {
         "name": "Orginal Closing",
         "type": "scatter",
         "y": [
          2416.620117187499,
          2351.1000976562495,
          2467.699951171876,
          2488.830078124999,
          2485.739990234374,
          2506.85009765625,
          2510.030029296875,
          2447.889892578124,
          2531.939941406251,
          2549.689941406251,
          2574.409912109375,
          2584.959960937499,
          2596.639892578124,
          2596.260009765624,
          2582.610107421874,
          2610.300048828124,
          2616.1000976562495,
          2635.9599609375005,
          2670.709960937499,
          2632.899902343751,
          2638.699951171874,
          2642.330078125,
          2664.7600097656245,
          2643.8500976562505,
          2640,
          2681.0500488281236,
          2704.1000976562514,
          2706.5300292968745,
          2724.870117187499,
          2737.6999511718745,
          2731.610107421876,
          2706.050048828125,
          2707.8798828125005,
          2709.800048828124,
          2744.729980468749,
          2753.0300292968745,
          2745.72998046875,
          2775.6000976562514,
          2779.760009765625,
          2784.699951171875,
          2774.8798828124986,
          2792.6699218750005,
          2796.1101074218755,
          2793.89990234375,
          2792.3798828125,
          2784.489990234375,
          2803.689941406251,
          2792.8100585937505,
          2789.6499023437495,
          2771.4499511718755,
          2748.9299316406264,
          2743.070068359374,
          2783.300048828125,
          2791.52001953125,
          2810.919921874999,
          2808.47998046875,
          2822.4799804687495,
          2832.939941406251,
          2832.570068359376,
          2824.22998046875,
          2854.879882812499,
          2800.7099609375,
          2798.360107421875,
          2818.4599609375014,
          2805.3701171875005,
          2815.4399414062505,
          2834.3999023437495,
          2867.1899414062495,
          2867.2399902343755,
          2873.3999023437505,
          2879.389892578125,
          2892.7399902343764,
          2895.770019531251,
          2878.1999511718755,
          2888.2099609375,
          2888.3200683593736,
          2907.4099121093736,
          2905.580078125001,
          2907.060058593749,
          2900.449951171875,
          2905.030029296876,
          2907.9699707031245,
          2933.679931640624,
          2927.25,
          2926.169921875001,
          2939.8798828124986,
          2943.030029296876,
          2945.830078125001,
          2923.729980468749,
          2917.520019531251,
          2945.639892578124,
          2932.469970703125,
          2884.050048828125,
          2879.419921874999,
          2870.719970703124,
          2881.3999023437505,
          2811.8701171874995,
          2834.4099121093755,
          2850.959960937499,
          2876.320068359375,
          2859.5300292968745,
          2840.22998046875,
          2864.3601074218755,
          2856.27001953125,
          2822.239990234374,
          2826.060058593749,
          2802.389892578124,
          2783.020019531251,
          2788.8601074218764,
          2752.06005859375,
          2744.4499511718745,
          2803.27001953125,
          2826.1499023437486,
          2843.489990234375,
          2873.3400878906236,
          2886.7299804687505,
          2885.719970703125,
          2879.840087890626,
          2891.6398925781245,
          2886.97998046875,
          2889.6699218749995,
          2917.749999999999,
          2926.4599609375,
          2954.179931640626,
          2950.459960937501,
          2945.350097656251,
          2917.3798828124995,
          2913.780029296876,
          2924.919921875001,
          2941.760009765626,
          2964.330078124999,
          2973.0100097656255,
          2995.8200683593736,
          2990.409912109374,
          2975.9499511718755,
          2979.6298828125005,
          2993.0700683593745,
          2999.909912109376,
          3013.7700195312495,
          3014.3000488281255,
          3004.0400390625014,
          2984.419921874999,
          2995.1101074218736,
          2976.610107421876,
          2985.030029296875,
          3005.4699707031255,
          3019.560058593752,
          3003.6699218749986,
          3025.8601074218727,
          3020.969970703125,
          3013.1799316406245,
          2980.3798828125014,
          2953.5600585937514,
          2932.050048828126,
          2844.739990234376,
          2881.770019531251,
          2883.9799804687514,
          2938.090087890626,
          2918.64990234375,
          2882.699951171876,
          2926.3200683593745,
          2840.60009765625,
          2847.6000976562505,
          2888.679931640625,
          2923.64990234375,
          2900.5100097656255,
          2924.4299316406255,
          2922.949951171876,
          2847.1101074218755,
          2878.379882812501,
          2869.1599121093745,
          2887.939941406251,
          2924.580078125,
          2926.4599609375,
          2906.27001953125,
          2937.780029296875,
          2975.9999999999995,
          2978.7099609375,
          2978.4299316406255,
          2979.389892578124,
          3000.929931640623,
          3009.5700683593736,
          3007.3898925781264,
          2997.9599609374995,
          3005.6999511718755,
          3006.729980468752,
          3006.7900390625027,
          2992.0700683593773,
          2991.7800292968755,
          2966.6000976562486,
          2984.8701171874986,
          2977.620117187501,
          2961.7900390624986,
          2976.739990234376,
          2940.249999999999,
          2887.6101074218755,
          2910.6298828124986,
          2952.010009765626,
          2938.7900390625005,
          2893.0600585937495,
          2919.3999023437495,
          2938.1298828125005,
          2970.2700195312505,
          2966.149902343751,
          2995.679931640624,
          2989.68994140625,
          2997.9499511718727,
          2986.1999511718736,
          3006.7199707031264,
          2995.9899902343773,
          3004.52001953125,
          3010.2900390624977,
          3022.5500488281227,
          3039.419921874998,
          3036.889892578125,
          3046.7700195312505,
          3037.5600585937486,
          3066.9099121093727,
          3078.270019531249,
          3074.620117187501,
          3076.780029296873,
          3085.179931640624,
          3093.080078125002,
          3087.0100097656227,
          3091.8400878906236,
          3094.040039062502,
          3096.6298828125,
          3120.4599609374977
         ]
        }
       ],
       "layout": {
        "template": {
         "data": {
          "bar": [
           {
            "error_x": {
             "color": "#2a3f5f"
            },
            "error_y": {
             "color": "#2a3f5f"
            },
            "marker": {
             "line": {
              "color": "#E5ECF6",
              "width": 0.5
             }
            },
            "type": "bar"
           }
          ],
          "barpolar": [
           {
            "marker": {
             "line": {
              "color": "#E5ECF6",
              "width": 0.5
             }
            },
            "type": "barpolar"
           }
          ],
          "carpet": [
           {
            "aaxis": {
             "endlinecolor": "#2a3f5f",
             "gridcolor": "white",
             "linecolor": "white",
             "minorgridcolor": "white",
             "startlinecolor": "#2a3f5f"
            },
            "baxis": {
             "endlinecolor": "#2a3f5f",
             "gridcolor": "white",
             "linecolor": "white",
             "minorgridcolor": "white",
             "startlinecolor": "#2a3f5f"
            },
            "type": "carpet"
           }
          ],
          "choropleth": [
           {
            "colorbar": {
             "outlinewidth": 0,
             "ticks": ""
            },
            "type": "choropleth"
           }
          ],
          "contour": [
           {
            "colorbar": {
             "outlinewidth": 0,
             "ticks": ""
            },
            "colorscale": [
             [
              0,
              "#0d0887"
             ],
             [
              0.1111111111111111,
              "#46039f"
             ],
             [
              0.2222222222222222,
              "#7201a8"
             ],
             [
              0.3333333333333333,
              "#9c179e"
             ],
             [
              0.4444444444444444,
              "#bd3786"
             ],
             [
              0.5555555555555556,
              "#d8576b"
             ],
             [
              0.6666666666666666,
              "#ed7953"
             ],
             [
              0.7777777777777778,
              "#fb9f3a"
             ],
             [
              0.8888888888888888,
              "#fdca26"
             ],
             [
              1,
              "#f0f921"
             ]
            ],
            "type": "contour"
           }
          ],
          "contourcarpet": [
           {
            "colorbar": {
             "outlinewidth": 0,
             "ticks": ""
            },
            "type": "contourcarpet"
           }
          ],
          "heatmap": [
           {
            "colorbar": {
             "outlinewidth": 0,
             "ticks": ""
            },
            "colorscale": [
             [
              0,
              "#0d0887"
             ],
             [
              0.1111111111111111,
              "#46039f"
             ],
             [
              0.2222222222222222,
              "#7201a8"
             ],
             [
              0.3333333333333333,
              "#9c179e"
             ],
             [
              0.4444444444444444,
              "#bd3786"
             ],
             [
              0.5555555555555556,
              "#d8576b"
             ],
             [
              0.6666666666666666,
              "#ed7953"
             ],
             [
              0.7777777777777778,
              "#fb9f3a"
             ],
             [
              0.8888888888888888,
              "#fdca26"
             ],
             [
              1,
              "#f0f921"
             ]
            ],
            "type": "heatmap"
           }
          ],
          "heatmapgl": [
           {
            "colorbar": {
             "outlinewidth": 0,
             "ticks": ""
            },
            "colorscale": [
             [
              0,
              "#0d0887"
             ],
             [
              0.1111111111111111,
              "#46039f"
             ],
             [
              0.2222222222222222,
              "#7201a8"
             ],
             [
              0.3333333333333333,
              "#9c179e"
             ],
             [
              0.4444444444444444,
              "#bd3786"
             ],
             [
              0.5555555555555556,
              "#d8576b"
             ],
             [
              0.6666666666666666,
              "#ed7953"
             ],
             [
              0.7777777777777778,
              "#fb9f3a"
             ],
             [
              0.8888888888888888,
              "#fdca26"
             ],
             [
              1,
              "#f0f921"
             ]
            ],
            "type": "heatmapgl"
           }
          ],
          "histogram": [
           {
            "marker": {
             "colorbar": {
              "outlinewidth": 0,
              "ticks": ""
             }
            },
            "type": "histogram"
           }
          ],
          "histogram2d": [
           {
            "colorbar": {
             "outlinewidth": 0,
             "ticks": ""
            },
            "colorscale": [
             [
              0,
              "#0d0887"
             ],
             [
              0.1111111111111111,
              "#46039f"
             ],
             [
              0.2222222222222222,
              "#7201a8"
             ],
             [
              0.3333333333333333,
              "#9c179e"
             ],
             [
              0.4444444444444444,
              "#bd3786"
             ],
             [
              0.5555555555555556,
              "#d8576b"
             ],
             [
              0.6666666666666666,
              "#ed7953"
             ],
             [
              0.7777777777777778,
              "#fb9f3a"
             ],
             [
              0.8888888888888888,
              "#fdca26"
             ],
             [
              1,
              "#f0f921"
             ]
            ],
            "type": "histogram2d"
           }
          ],
          "histogram2dcontour": [
           {
            "colorbar": {
             "outlinewidth": 0,
             "ticks": ""
            },
            "colorscale": [
             [
              0,
              "#0d0887"
             ],
             [
              0.1111111111111111,
              "#46039f"
             ],
             [
              0.2222222222222222,
              "#7201a8"
             ],
             [
              0.3333333333333333,
              "#9c179e"
             ],
             [
              0.4444444444444444,
              "#bd3786"
             ],
             [
              0.5555555555555556,
              "#d8576b"
             ],
             [
              0.6666666666666666,
              "#ed7953"
             ],
             [
              0.7777777777777778,
              "#fb9f3a"
             ],
             [
              0.8888888888888888,
              "#fdca26"
             ],
             [
              1,
              "#f0f921"
             ]
            ],
            "type": "histogram2dcontour"
           }
          ],
          "mesh3d": [
           {
            "colorbar": {
             "outlinewidth": 0,
             "ticks": ""
            },
            "type": "mesh3d"
           }
          ],
          "parcoords": [
           {
            "line": {
             "colorbar": {
              "outlinewidth": 0,
              "ticks": ""
             }
            },
            "type": "parcoords"
           }
          ],
          "scatter": [
           {
            "marker": {
             "colorbar": {
              "outlinewidth": 0,
              "ticks": ""
             }
            },
            "type": "scatter"
           }
          ],
          "scatter3d": [
           {
            "line": {
             "colorbar": {
              "outlinewidth": 0,
              "ticks": ""
             }
            },
            "marker": {
             "colorbar": {
              "outlinewidth": 0,
              "ticks": ""
             }
            },
            "type": "scatter3d"
           }
          ],
          "scattercarpet": [
           {
            "marker": {
             "colorbar": {
              "outlinewidth": 0,
              "ticks": ""
             }
            },
            "type": "scattercarpet"
           }
          ],
          "scattergeo": [
           {
            "marker": {
             "colorbar": {
              "outlinewidth": 0,
              "ticks": ""
             }
            },
            "type": "scattergeo"
           }
          ],
          "scattergl": [
           {
            "marker": {
             "colorbar": {
              "outlinewidth": 0,
              "ticks": ""
             }
            },
            "type": "scattergl"
           }
          ],
          "scattermapbox": [
           {
            "marker": {
             "colorbar": {
              "outlinewidth": 0,
              "ticks": ""
             }
            },
            "type": "scattermapbox"
           }
          ],
          "scatterpolar": [
           {
            "marker": {
             "colorbar": {
              "outlinewidth": 0,
              "ticks": ""
             }
            },
            "type": "scatterpolar"
           }
          ],
          "scatterpolargl": [
           {
            "marker": {
             "colorbar": {
              "outlinewidth": 0,
              "ticks": ""
             }
            },
            "type": "scatterpolargl"
           }
          ],
          "scatterternary": [
           {
            "marker": {
             "colorbar": {
              "outlinewidth": 0,
              "ticks": ""
             }
            },
            "type": "scatterternary"
           }
          ],
          "surface": [
           {
            "colorbar": {
             "outlinewidth": 0,
             "ticks": ""
            },
            "colorscale": [
             [
              0,
              "#0d0887"
             ],
             [
              0.1111111111111111,
              "#46039f"
             ],
             [
              0.2222222222222222,
              "#7201a8"
             ],
             [
              0.3333333333333333,
              "#9c179e"
             ],
             [
              0.4444444444444444,
              "#bd3786"
             ],
             [
              0.5555555555555556,
              "#d8576b"
             ],
             [
              0.6666666666666666,
              "#ed7953"
             ],
             [
              0.7777777777777778,
              "#fb9f3a"
             ],
             [
              0.8888888888888888,
              "#fdca26"
             ],
             [
              1,
              "#f0f921"
             ]
            ],
            "type": "surface"
           }
          ],
          "table": [
           {
            "cells": {
             "fill": {
              "color": "#EBF0F8"
             },
             "line": {
              "color": "white"
             }
            },
            "header": {
             "fill": {
              "color": "#C8D4E3"
             },
             "line": {
              "color": "white"
             }
            },
            "type": "table"
           }
          ]
         },
         "layout": {
          "annotationdefaults": {
           "arrowcolor": "#2a3f5f",
           "arrowhead": 0,
           "arrowwidth": 1
          },
          "colorscale": {
           "diverging": [
            [
             0,
             "#8e0152"
            ],
            [
             0.1,
             "#c51b7d"
            ],
            [
             0.2,
             "#de77ae"
            ],
            [
             0.3,
             "#f1b6da"
            ],
            [
             0.4,
             "#fde0ef"
            ],
            [
             0.5,
             "#f7f7f7"
            ],
            [
             0.6,
             "#e6f5d0"
            ],
            [
             0.7,
             "#b8e186"
            ],
            [
             0.8,
             "#7fbc41"
            ],
            [
             0.9,
             "#4d9221"
            ],
            [
             1,
             "#276419"
            ]
           ],
           "sequential": [
            [
             0,
             "#0d0887"
            ],
            [
             0.1111111111111111,
             "#46039f"
            ],
            [
             0.2222222222222222,
             "#7201a8"
            ],
            [
             0.3333333333333333,
             "#9c179e"
            ],
            [
             0.4444444444444444,
             "#bd3786"
            ],
            [
             0.5555555555555556,
             "#d8576b"
            ],
            [
             0.6666666666666666,
             "#ed7953"
            ],
            [
             0.7777777777777778,
             "#fb9f3a"
            ],
            [
             0.8888888888888888,
             "#fdca26"
            ],
            [
             1,
             "#f0f921"
            ]
           ],
           "sequentialminus": [
            [
             0,
             "#0d0887"
            ],
            [
             0.1111111111111111,
             "#46039f"
            ],
            [
             0.2222222222222222,
             "#7201a8"
            ],
            [
             0.3333333333333333,
             "#9c179e"
            ],
            [
             0.4444444444444444,
             "#bd3786"
            ],
            [
             0.5555555555555556,
             "#d8576b"
            ],
            [
             0.6666666666666666,
             "#ed7953"
            ],
            [
             0.7777777777777778,
             "#fb9f3a"
            ],
            [
             0.8888888888888888,
             "#fdca26"
            ],
            [
             1,
             "#f0f921"
            ]
           ]
          },
          "colorway": [
           "#636efa",
           "#EF553B",
           "#00cc96",
           "#ab63fa",
           "#FFA15A",
           "#19d3f3",
           "#FF6692",
           "#B6E880",
           "#FF97FF",
           "#FECB52"
          ],
          "font": {
           "color": "#2a3f5f"
          },
          "geo": {
           "bgcolor": "white",
           "lakecolor": "white",
           "landcolor": "#E5ECF6",
           "showlakes": true,
           "showland": true,
           "subunitcolor": "white"
          },
          "hoverlabel": {
           "align": "left"
          },
          "hovermode": "closest",
          "mapbox": {
           "style": "light"
          },
          "paper_bgcolor": "white",
          "plot_bgcolor": "#E5ECF6",
          "polar": {
           "angularaxis": {
            "gridcolor": "white",
            "linecolor": "white",
            "ticks": ""
           },
           "bgcolor": "#E5ECF6",
           "radialaxis": {
            "gridcolor": "white",
            "linecolor": "white",
            "ticks": ""
           }
          },
          "scene": {
           "xaxis": {
            "backgroundcolor": "#E5ECF6",
            "gridcolor": "white",
            "gridwidth": 2,
            "linecolor": "white",
            "showbackground": true,
            "ticks": "",
            "zerolinecolor": "white"
           },
           "yaxis": {
            "backgroundcolor": "#E5ECF6",
            "gridcolor": "white",
            "gridwidth": 2,
            "linecolor": "white",
            "showbackground": true,
            "ticks": "",
            "zerolinecolor": "white"
           },
           "zaxis": {
            "backgroundcolor": "#E5ECF6",
            "gridcolor": "white",
            "gridwidth": 2,
            "linecolor": "white",
            "showbackground": true,
            "ticks": "",
            "zerolinecolor": "white"
           }
          },
          "shapedefaults": {
           "line": {
            "color": "#2a3f5f"
           }
          },
          "ternary": {
           "aaxis": {
            "gridcolor": "white",
            "linecolor": "white",
            "ticks": ""
           },
           "baxis": {
            "gridcolor": "white",
            "linecolor": "white",
            "ticks": ""
           },
           "bgcolor": "#E5ECF6",
           "caxis": {
            "gridcolor": "white",
            "linecolor": "white",
            "ticks": ""
           }
          },
          "title": {
           "x": 0.05
          },
          "xaxis": {
           "automargin": true,
           "gridcolor": "white",
           "linecolor": "white",
           "ticks": "",
           "zerolinecolor": "white",
           "zerolinewidth": 2
          },
          "yaxis": {
           "automargin": true,
           "gridcolor": "white",
           "linecolor": "white",
           "ticks": "",
           "zerolinecolor": "white",
           "zerolinewidth": 2
          }
         }
        }
       }
      },
      "text/html": [
       "<div>\n",
       "        \n",
       "        \n",
       "            <div id=\"5eba68ad-6e5f-4ca2-a557-14b9e3a06eb3\" class=\"plotly-graph-div\" style=\"height:525px; width:100%;\"></div>\n",
       "            <script type=\"text/javascript\">\n",
       "                require([\"plotly\"], function(Plotly) {\n",
       "                    window.PLOTLYENV=window.PLOTLYENV || {};\n",
       "                    \n",
       "                if (document.getElementById(\"5eba68ad-6e5f-4ca2-a557-14b9e3a06eb3\")) {\n",
       "                    Plotly.newPlot(\n",
       "                        '5eba68ad-6e5f-4ca2-a557-14b9e3a06eb3',\n",
       "                        [{\"name\": \"Predicted Values\", \"type\": \"scatter\", \"y\": [2468.213633874224, 2417.2053489633754, 2351.1334604643266, 2466.4439854591233, 2489.1266399745027, 2486.238282742976, 2507.160993901421, 2510.502451219656, 2448.867471885087, 2530.742606625636, 2549.93921105557, 2574.5904457837128, 2585.387536451455, 2597.06602852995, 2596.8710392159887, 2583.40717227636, 2610.473067037073, 2616.6363797104336, 2636.300316661344, 2670.900341118337, 2634.1785327909056, 2639.2551611752974, 2642.9264890842296, 2665.063419867922, 2644.88102773529, 2640.7218804924532, 2681.011661450361, 2704.455057767706, 2707.224871265976, 2725.3295325942163, 2738.2689764828224, 2732.4704186195795, 2707.177158260379, 2708.5832041360363, 2710.5036610589486, 2744.959983545658, 2753.690860858321, 2746.6169969220023, 2775.9458399414757, 2780.513998139425, 2785.44750381905, 2775.8416839850574, 2793.221376401059, 2796.8921464028654, 2794.766901552759, 2793.2333118693155, 2785.431947212273, 2804.2263154864413, 2793.8146863181482, 2790.524361664449, 2772.5403793943183, 2750.0426657647386, 2743.919666824877, 2783.4858306715673, 2792.217994404441, 2811.4781238535784, 2809.3565223211917, 2823.1288991060133, 2833.6560880850993, 2833.4438829236487, 2825.208997588283, 2855.310501411277, 2802.4862890699233, 2799.225184451478, 2818.957974629816, 2806.4349369361044, 2816.1022873249003, 2834.92916515056, 2867.5415667856123, 2868.145135959453, 2874.208917591541, 2880.2087375397527, 2893.4519721232687, 2896.6581041925638, 2879.40858170012, 2888.9672840012954, 2889.245073558479, 2908.03433018853, 2906.5584297221862, 2907.982896935381, 2901.5016450909575, 2905.8953484403796, 2908.8662892039256, 2934.218193399, 2928.3306429805575, 2927.1558231740682, 2940.625781937841, 2943.962466376677, 2946.7712450571375, 2925.0720482040206, 2918.577584030871, 2946.1362799871417, 2933.6747489382, 2885.766634024832, 2880.395694137664, 2871.7498947197337, 2882.1247367400347, 2813.887584256463, 2834.8075482710005, 2851.5047076883548, 2876.7396037382136, 2860.7243576642804, 2841.4367065935885, 2864.7670881062945, 2857.295427766295, 2823.7134201068466, 2826.8137241379673, 2803.6465906697154, 2784.1536944665104, 2789.530209774695, 2753.494228478023, 2745.3165635342257, 2802.9162461117985, 2826.5749493244157, 2844.040783714345, 2873.737553733486, 2887.4139779072902, 2886.623672179873, 2880.8105873034365, 2892.350691686769, 2887.939933646113, 2890.5179499924184, 2918.235653587816, 2927.26028195368, 2954.7308576459595, 2951.476378256609, 2946.3800327916233, 2918.7089509476573, 2914.745092444238, 2925.682112251691, 2942.461820334795, 2964.9861726935433, 2973.8719098253273, 2996.5200541338863, 2991.4837928551333, 2977.1259311721783, 2980.5652633088384, 2993.889132311745, 3000.8264147026775, 3014.609649341818, 3015.3169514002548, 3005.1865515639547, 2985.658774562902, 2995.9661447194903, 2977.833408900203, 2985.89887107257, 3006.2015242613325, 3020.398562210466, 3004.886648361271, 3026.581300823259, 3022.062624691466, 3014.3022444692133, 2981.7954351335015, 2954.8261522705325, 2933.2053770467774, 2846.2836336443506, 2882.133257577433, 2884.804482080874, 2938.3016092396024, 2919.8219377165533, 2884.0251100210985, 2926.541642078683, 2843.1514847074936, 2848.2649447349577, 2888.6776687516867, 2923.8846465383203, 2901.842898010209, 2924.8324332345296, 2923.8786112952625, 2849.455672184018, 2878.4836027637743, 2870.216466433456, 2888.339464606612, 2924.6164483682433, 2927.315909842626, 2907.6145298768056, 2937.926602316639, 2976.084995765398, 2979.6067167724896, 2979.3928631016456, 2980.3252402984463, 3001.425177631951, 3010.3682260953656, 3008.426203892961, 2999.145307497956, 3006.510623000905, 3007.6913517781495, 3007.7723512647717, 2993.3636110617954, 2992.7506587176463, 2968.0922665060066, 2985.4064990103907, 2978.73247529578, 2963.0767118866497, 2977.3365785907295, 2942.013722593801, 2889.5482505924992, 2910.9705369663884, 2952.027243068476, 2939.9759563610005, 2894.8642143020616, 2919.6685058709986, 2938.605019108626, 2970.505223322262, 2967.160363136965, 2995.989370931418, 2990.769357883893, 2998.7242313886613, 2987.402307140433, 3007.222922744905, 2997.1864315120483, 3005.28673525253, 3011.1261498679814, 3023.2519449275183, 3040.0389554668977, 3037.943293331708, 3047.553250860451, 3038.764662637788, 3067.258981561953, 3079.0533003985975, 3075.7397022188643, 3077.769110030801, 3086.0358306684416, 3093.9562376641275, 3088.1956832880114, 3092.782549874521, 3095.044214705126, 3097.627358468614]}, {\"name\": \"Orginal Closing\", \"type\": \"scatter\", \"y\": [2416.620117187499, 2351.1000976562495, 2467.699951171876, 2488.830078124999, 2485.739990234374, 2506.85009765625, 2510.030029296875, 2447.889892578124, 2531.939941406251, 2549.689941406251, 2574.409912109375, 2584.959960937499, 2596.639892578124, 2596.260009765624, 2582.610107421874, 2610.300048828124, 2616.1000976562495, 2635.9599609375005, 2670.709960937499, 2632.899902343751, 2638.699951171874, 2642.330078125, 2664.7600097656245, 2643.8500976562505, 2640.0, 2681.0500488281236, 2704.1000976562514, 2706.5300292968745, 2724.870117187499, 2737.6999511718745, 2731.610107421876, 2706.050048828125, 2707.8798828125005, 2709.800048828124, 2744.729980468749, 2753.0300292968745, 2745.72998046875, 2775.6000976562514, 2779.760009765625, 2784.699951171875, 2774.8798828124986, 2792.6699218750005, 2796.1101074218755, 2793.89990234375, 2792.3798828125, 2784.489990234375, 2803.689941406251, 2792.8100585937505, 2789.6499023437495, 2771.4499511718755, 2748.9299316406264, 2743.070068359374, 2783.300048828125, 2791.52001953125, 2810.919921874999, 2808.47998046875, 2822.4799804687495, 2832.939941406251, 2832.570068359376, 2824.22998046875, 2854.879882812499, 2800.7099609375, 2798.360107421875, 2818.4599609375014, 2805.3701171875005, 2815.4399414062505, 2834.3999023437495, 2867.1899414062495, 2867.2399902343755, 2873.3999023437505, 2879.389892578125, 2892.7399902343764, 2895.770019531251, 2878.1999511718755, 2888.2099609375, 2888.3200683593736, 2907.4099121093736, 2905.580078125001, 2907.060058593749, 2900.449951171875, 2905.030029296876, 2907.9699707031245, 2933.679931640624, 2927.25, 2926.169921875001, 2939.8798828124986, 2943.030029296876, 2945.830078125001, 2923.729980468749, 2917.520019531251, 2945.639892578124, 2932.469970703125, 2884.050048828125, 2879.419921874999, 2870.719970703124, 2881.3999023437505, 2811.8701171874995, 2834.4099121093755, 2850.959960937499, 2876.320068359375, 2859.5300292968745, 2840.22998046875, 2864.3601074218755, 2856.27001953125, 2822.239990234374, 2826.060058593749, 2802.389892578124, 2783.020019531251, 2788.8601074218764, 2752.06005859375, 2744.4499511718745, 2803.27001953125, 2826.1499023437486, 2843.489990234375, 2873.3400878906236, 2886.7299804687505, 2885.719970703125, 2879.840087890626, 2891.6398925781245, 2886.97998046875, 2889.6699218749995, 2917.749999999999, 2926.4599609375, 2954.179931640626, 2950.459960937501, 2945.350097656251, 2917.3798828124995, 2913.780029296876, 2924.919921875001, 2941.760009765626, 2964.330078124999, 2973.0100097656255, 2995.8200683593736, 2990.409912109374, 2975.9499511718755, 2979.6298828125005, 2993.0700683593745, 2999.909912109376, 3013.7700195312495, 3014.3000488281255, 3004.0400390625014, 2984.419921874999, 2995.1101074218736, 2976.610107421876, 2985.030029296875, 3005.4699707031255, 3019.560058593752, 3003.6699218749986, 3025.8601074218727, 3020.969970703125, 3013.1799316406245, 2980.3798828125014, 2953.5600585937514, 2932.050048828126, 2844.739990234376, 2881.770019531251, 2883.9799804687514, 2938.090087890626, 2918.64990234375, 2882.699951171876, 2926.3200683593745, 2840.60009765625, 2847.6000976562505, 2888.679931640625, 2923.64990234375, 2900.5100097656255, 2924.4299316406255, 2922.949951171876, 2847.1101074218755, 2878.379882812501, 2869.1599121093745, 2887.939941406251, 2924.580078125, 2926.4599609375, 2906.27001953125, 2937.780029296875, 2975.9999999999995, 2978.7099609375, 2978.4299316406255, 2979.389892578124, 3000.929931640623, 3009.5700683593736, 3007.3898925781264, 2997.9599609374995, 3005.6999511718755, 3006.729980468752, 3006.7900390625027, 2992.0700683593773, 2991.7800292968755, 2966.6000976562486, 2984.8701171874986, 2977.620117187501, 2961.7900390624986, 2976.739990234376, 2940.249999999999, 2887.6101074218755, 2910.6298828124986, 2952.010009765626, 2938.7900390625005, 2893.0600585937495, 2919.3999023437495, 2938.1298828125005, 2970.2700195312505, 2966.149902343751, 2995.679931640624, 2989.68994140625, 2997.9499511718727, 2986.1999511718736, 3006.7199707031264, 2995.9899902343773, 3004.52001953125, 3010.2900390624977, 3022.5500488281227, 3039.419921874998, 3036.889892578125, 3046.7700195312505, 3037.5600585937486, 3066.9099121093727, 3078.270019531249, 3074.620117187501, 3076.780029296873, 3085.179931640624, 3093.080078125002, 3087.0100097656227, 3091.8400878906236, 3094.040039062502, 3096.6298828125, 3120.4599609374977]}],\n",
       "                        {\"template\": {\"data\": {\"bar\": [{\"error_x\": {\"color\": \"#2a3f5f\"}, \"error_y\": {\"color\": \"#2a3f5f\"}, \"marker\": {\"line\": {\"color\": \"#E5ECF6\", \"width\": 0.5}}, \"type\": \"bar\"}], \"barpolar\": [{\"marker\": {\"line\": {\"color\": \"#E5ECF6\", \"width\": 0.5}}, \"type\": \"barpolar\"}], \"carpet\": [{\"aaxis\": {\"endlinecolor\": \"#2a3f5f\", \"gridcolor\": \"white\", \"linecolor\": \"white\", \"minorgridcolor\": \"white\", \"startlinecolor\": \"#2a3f5f\"}, \"baxis\": {\"endlinecolor\": \"#2a3f5f\", \"gridcolor\": \"white\", \"linecolor\": \"white\", \"minorgridcolor\": \"white\", \"startlinecolor\": \"#2a3f5f\"}, \"type\": \"carpet\"}], \"choropleth\": [{\"colorbar\": {\"outlinewidth\": 0, \"ticks\": \"\"}, \"type\": \"choropleth\"}], \"contour\": [{\"colorbar\": {\"outlinewidth\": 0, \"ticks\": \"\"}, \"colorscale\": [[0.0, \"#0d0887\"], [0.1111111111111111, \"#46039f\"], [0.2222222222222222, \"#7201a8\"], [0.3333333333333333, \"#9c179e\"], [0.4444444444444444, \"#bd3786\"], [0.5555555555555556, \"#d8576b\"], [0.6666666666666666, \"#ed7953\"], [0.7777777777777778, \"#fb9f3a\"], [0.8888888888888888, \"#fdca26\"], [1.0, \"#f0f921\"]], \"type\": \"contour\"}], \"contourcarpet\": [{\"colorbar\": {\"outlinewidth\": 0, \"ticks\": \"\"}, \"type\": \"contourcarpet\"}], \"heatmap\": [{\"colorbar\": {\"outlinewidth\": 0, \"ticks\": \"\"}, \"colorscale\": [[0.0, \"#0d0887\"], [0.1111111111111111, \"#46039f\"], [0.2222222222222222, \"#7201a8\"], [0.3333333333333333, \"#9c179e\"], [0.4444444444444444, \"#bd3786\"], [0.5555555555555556, \"#d8576b\"], [0.6666666666666666, \"#ed7953\"], [0.7777777777777778, \"#fb9f3a\"], [0.8888888888888888, \"#fdca26\"], [1.0, \"#f0f921\"]], \"type\": \"heatmap\"}], \"heatmapgl\": [{\"colorbar\": {\"outlinewidth\": 0, \"ticks\": \"\"}, \"colorscale\": [[0.0, \"#0d0887\"], [0.1111111111111111, \"#46039f\"], [0.2222222222222222, \"#7201a8\"], [0.3333333333333333, \"#9c179e\"], [0.4444444444444444, \"#bd3786\"], [0.5555555555555556, \"#d8576b\"], [0.6666666666666666, \"#ed7953\"], [0.7777777777777778, \"#fb9f3a\"], [0.8888888888888888, \"#fdca26\"], [1.0, \"#f0f921\"]], \"type\": \"heatmapgl\"}], \"histogram\": [{\"marker\": {\"colorbar\": {\"outlinewidth\": 0, \"ticks\": \"\"}}, \"type\": \"histogram\"}], \"histogram2d\": [{\"colorbar\": {\"outlinewidth\": 0, \"ticks\": \"\"}, \"colorscale\": [[0.0, \"#0d0887\"], [0.1111111111111111, \"#46039f\"], [0.2222222222222222, \"#7201a8\"], [0.3333333333333333, \"#9c179e\"], [0.4444444444444444, \"#bd3786\"], [0.5555555555555556, \"#d8576b\"], [0.6666666666666666, \"#ed7953\"], [0.7777777777777778, \"#fb9f3a\"], [0.8888888888888888, \"#fdca26\"], [1.0, \"#f0f921\"]], \"type\": \"histogram2d\"}], \"histogram2dcontour\": [{\"colorbar\": {\"outlinewidth\": 0, \"ticks\": \"\"}, \"colorscale\": [[0.0, \"#0d0887\"], [0.1111111111111111, \"#46039f\"], [0.2222222222222222, \"#7201a8\"], [0.3333333333333333, \"#9c179e\"], [0.4444444444444444, \"#bd3786\"], [0.5555555555555556, \"#d8576b\"], [0.6666666666666666, \"#ed7953\"], [0.7777777777777778, \"#fb9f3a\"], [0.8888888888888888, \"#fdca26\"], [1.0, \"#f0f921\"]], \"type\": \"histogram2dcontour\"}], \"mesh3d\": [{\"colorbar\": {\"outlinewidth\": 0, \"ticks\": \"\"}, \"type\": \"mesh3d\"}], \"parcoords\": [{\"line\": {\"colorbar\": {\"outlinewidth\": 0, \"ticks\": \"\"}}, \"type\": \"parcoords\"}], \"scatter\": [{\"marker\": {\"colorbar\": {\"outlinewidth\": 0, \"ticks\": \"\"}}, \"type\": \"scatter\"}], \"scatter3d\": [{\"line\": {\"colorbar\": {\"outlinewidth\": 0, \"ticks\": \"\"}}, \"marker\": {\"colorbar\": {\"outlinewidth\": 0, \"ticks\": \"\"}}, \"type\": \"scatter3d\"}], \"scattercarpet\": [{\"marker\": {\"colorbar\": {\"outlinewidth\": 0, \"ticks\": \"\"}}, \"type\": \"scattercarpet\"}], \"scattergeo\": [{\"marker\": {\"colorbar\": {\"outlinewidth\": 0, \"ticks\": \"\"}}, \"type\": \"scattergeo\"}], \"scattergl\": [{\"marker\": {\"colorbar\": {\"outlinewidth\": 0, \"ticks\": \"\"}}, \"type\": \"scattergl\"}], \"scattermapbox\": [{\"marker\": {\"colorbar\": {\"outlinewidth\": 0, \"ticks\": \"\"}}, \"type\": \"scattermapbox\"}], \"scatterpolar\": [{\"marker\": {\"colorbar\": {\"outlinewidth\": 0, \"ticks\": \"\"}}, \"type\": \"scatterpolar\"}], \"scatterpolargl\": [{\"marker\": {\"colorbar\": {\"outlinewidth\": 0, \"ticks\": \"\"}}, \"type\": \"scatterpolargl\"}], \"scatterternary\": [{\"marker\": {\"colorbar\": {\"outlinewidth\": 0, \"ticks\": \"\"}}, \"type\": \"scatterternary\"}], \"surface\": [{\"colorbar\": {\"outlinewidth\": 0, \"ticks\": \"\"}, \"colorscale\": [[0.0, \"#0d0887\"], [0.1111111111111111, \"#46039f\"], [0.2222222222222222, \"#7201a8\"], [0.3333333333333333, \"#9c179e\"], [0.4444444444444444, \"#bd3786\"], [0.5555555555555556, \"#d8576b\"], [0.6666666666666666, \"#ed7953\"], [0.7777777777777778, \"#fb9f3a\"], [0.8888888888888888, \"#fdca26\"], [1.0, \"#f0f921\"]], \"type\": \"surface\"}], \"table\": [{\"cells\": {\"fill\": {\"color\": \"#EBF0F8\"}, \"line\": {\"color\": \"white\"}}, \"header\": {\"fill\": {\"color\": \"#C8D4E3\"}, \"line\": {\"color\": \"white\"}}, \"type\": \"table\"}]}, \"layout\": {\"annotationdefaults\": {\"arrowcolor\": \"#2a3f5f\", \"arrowhead\": 0, \"arrowwidth\": 1}, \"colorscale\": {\"diverging\": [[0, \"#8e0152\"], [0.1, \"#c51b7d\"], [0.2, \"#de77ae\"], [0.3, \"#f1b6da\"], [0.4, \"#fde0ef\"], [0.5, \"#f7f7f7\"], [0.6, \"#e6f5d0\"], [0.7, \"#b8e186\"], [0.8, \"#7fbc41\"], [0.9, \"#4d9221\"], [1, \"#276419\"]], \"sequential\": [[0.0, \"#0d0887\"], [0.1111111111111111, \"#46039f\"], [0.2222222222222222, \"#7201a8\"], [0.3333333333333333, \"#9c179e\"], [0.4444444444444444, \"#bd3786\"], [0.5555555555555556, \"#d8576b\"], [0.6666666666666666, \"#ed7953\"], [0.7777777777777778, \"#fb9f3a\"], [0.8888888888888888, \"#fdca26\"], [1.0, \"#f0f921\"]], \"sequentialminus\": [[0.0, \"#0d0887\"], [0.1111111111111111, \"#46039f\"], [0.2222222222222222, \"#7201a8\"], [0.3333333333333333, \"#9c179e\"], [0.4444444444444444, \"#bd3786\"], [0.5555555555555556, \"#d8576b\"], [0.6666666666666666, \"#ed7953\"], [0.7777777777777778, \"#fb9f3a\"], [0.8888888888888888, \"#fdca26\"], [1.0, \"#f0f921\"]]}, \"colorway\": [\"#636efa\", \"#EF553B\", \"#00cc96\", \"#ab63fa\", \"#FFA15A\", \"#19d3f3\", \"#FF6692\", \"#B6E880\", \"#FF97FF\", \"#FECB52\"], \"font\": {\"color\": \"#2a3f5f\"}, \"geo\": {\"bgcolor\": \"white\", \"lakecolor\": \"white\", \"landcolor\": \"#E5ECF6\", \"showlakes\": true, \"showland\": true, \"subunitcolor\": \"white\"}, \"hoverlabel\": {\"align\": \"left\"}, \"hovermode\": \"closest\", \"mapbox\": {\"style\": \"light\"}, \"paper_bgcolor\": \"white\", \"plot_bgcolor\": \"#E5ECF6\", \"polar\": {\"angularaxis\": {\"gridcolor\": \"white\", \"linecolor\": \"white\", \"ticks\": \"\"}, \"bgcolor\": \"#E5ECF6\", \"radialaxis\": {\"gridcolor\": \"white\", \"linecolor\": \"white\", \"ticks\": \"\"}}, \"scene\": {\"xaxis\": {\"backgroundcolor\": \"#E5ECF6\", \"gridcolor\": \"white\", \"gridwidth\": 2, \"linecolor\": \"white\", \"showbackground\": true, \"ticks\": \"\", \"zerolinecolor\": \"white\"}, \"yaxis\": {\"backgroundcolor\": \"#E5ECF6\", \"gridcolor\": \"white\", \"gridwidth\": 2, \"linecolor\": \"white\", \"showbackground\": true, \"ticks\": \"\", \"zerolinecolor\": \"white\"}, \"zaxis\": {\"backgroundcolor\": \"#E5ECF6\", \"gridcolor\": \"white\", \"gridwidth\": 2, \"linecolor\": \"white\", \"showbackground\": true, \"ticks\": \"\", \"zerolinecolor\": \"white\"}}, \"shapedefaults\": {\"line\": {\"color\": \"#2a3f5f\"}}, \"ternary\": {\"aaxis\": {\"gridcolor\": \"white\", \"linecolor\": \"white\", \"ticks\": \"\"}, \"baxis\": {\"gridcolor\": \"white\", \"linecolor\": \"white\", \"ticks\": \"\"}, \"bgcolor\": \"#E5ECF6\", \"caxis\": {\"gridcolor\": \"white\", \"linecolor\": \"white\", \"ticks\": \"\"}}, \"title\": {\"x\": 0.05}, \"xaxis\": {\"automargin\": true, \"gridcolor\": \"white\", \"linecolor\": \"white\", \"ticks\": \"\", \"zerolinecolor\": \"white\", \"zerolinewidth\": 2}, \"yaxis\": {\"automargin\": true, \"gridcolor\": \"white\", \"linecolor\": \"white\", \"ticks\": \"\", \"zerolinecolor\": \"white\", \"zerolinewidth\": 2}}}},\n",
       "                        {\"responsive\": true}\n",
       "                    ).then(function(){\n",
       "                            \n",
       "var gd = document.getElementById('5eba68ad-6e5f-4ca2-a557-14b9e3a06eb3');\n",
       "var x = new MutationObserver(function (mutations, observer) {{\n",
       "        var display = window.getComputedStyle(gd).display;\n",
       "        if (!display || display === 'none') {{\n",
       "            console.log([gd, 'removed!']);\n",
       "            Plotly.purge(gd);\n",
       "            observer.disconnect();\n",
       "        }}\n",
       "}});\n",
       "\n",
       "// Listen for the removal of the full notebook cells\n",
       "var notebookContainer = gd.closest('#notebook-container');\n",
       "if (notebookContainer) {{\n",
       "    x.observe(notebookContainer, {childList: true});\n",
       "}}\n",
       "\n",
       "// Listen for the clearing of the current output cell\n",
       "var outputEl = gd.closest('.output');\n",
       "if (outputEl) {{\n",
       "    x.observe(outputEl, {childList: true});\n",
       "}}\n",
       "\n",
       "                        })\n",
       "                };\n",
       "                });\n",
       "            </script>\n",
       "        </div>"
      ]
     },
     "metadata": {},
     "output_type": "display_data"
    }
   ],
   "source": [
    "\n",
    "import plotly.graph_objs as go\n",
    "\n",
    "fig = go.Figure()\n",
    "\n",
    "fig.add_trace(go.Scatter( y = df['Predicted'] ,name = 'Predicted Values'))\n",
    "\n",
    "fig.add_trace(go.Scatter( y = df['True Value'],name = 'Orginal Closing'))\n",
    "\n",
    "fig.show()"
   ]
  },
  {
   "cell_type": "code",
   "execution_count": 124,
   "metadata": {},
   "outputs": [
    {
     "name": "stderr",
     "output_type": "stream",
     "text": [
      "/Users/ameyapatankar/anaconda3/lib/python3.7/site-packages/scipy/signal/signaltools.py:1341: FutureWarning:\n",
      "\n",
      "Using a non-tuple sequence for multidimensional indexing is deprecated; use `arr[tuple(seq)]` instead of `arr[seq]`. In the future this will be interpreted as an array index, `arr[np.array(seq)]`, which will result either in an error or a different result.\n",
      "\n",
      "/Users/ameyapatankar/anaconda3/lib/python3.7/site-packages/scipy/signal/signaltools.py:1344: FutureWarning:\n",
      "\n",
      "Using a non-tuple sequence for multidimensional indexing is deprecated; use `arr[tuple(seq)]` instead of `arr[seq]`. In the future this will be interpreted as an array index, `arr[np.array(seq)]`, which will result either in an error or a different result.\n",
      "\n",
      "/Users/ameyapatankar/anaconda3/lib/python3.7/site-packages/scipy/signal/signaltools.py:1350: FutureWarning:\n",
      "\n",
      "Using a non-tuple sequence for multidimensional indexing is deprecated; use `arr[tuple(seq)]` instead of `arr[seq]`. In the future this will be interpreted as an array index, `arr[np.array(seq)]`, which will result either in an error or a different result.\n",
      "\n"
     ]
    }
   ],
   "source": [
    "train = list(data1)\n",
    "\n",
    "train_list = [x for x in train]\n",
    "predictions = []\n",
    "\n",
    "model = ARIMA(np.array(train),order=(1,1,0))\n",
    "fit = model.fit()\n",
    "forecast = float(fit.forecast()[0])\n",
    "\n",
    "tomorrow_value = np.exp(forecast)\n",
    "\n",
    "# Today's value\n",
    "\n",
    "rate_data_log = rate_data_log[:-1]\n",
    "data1 = rate_data_log.values\n",
    "train = list(data1)\n",
    "\n",
    "train_list = [x for x in train]\n",
    "predictions = []\n",
    "\n",
    "model = ARIMA(np.array(train),order=(1,1,0))\n",
    "fit = model.fit()\n",
    "forecast = float(fit.forecast()[0])\n",
    "today_value = np.exp(forecast)"
   ]
  },
  {
   "cell_type": "code",
   "execution_count": 125,
   "metadata": {},
   "outputs": [
    {
     "name": "stdout",
     "output_type": "stream",
     "text": [
      "Today's actual value is 3122.030029 and model predicted 3120.999872.\n",
      "Model predicts value will be 3123.078953 tomorrow.\n"
     ]
    }
   ],
   "source": [
    "print (\"Today's actual value is {0:3f} and model predicted {1:3f}.\".format(sp500.values[-1][0],today_value))\n",
    "print (\"Model predicts value will be {0:3f} tomorrow.\".format(tomorrow_value))"
   ]
  },
  {
   "cell_type": "code",
   "execution_count": 126,
   "metadata": {},
   "outputs": [
    {
     "name": "stderr",
     "output_type": "stream",
     "text": [
      "/Users/ameyapatankar/anaconda3/lib/python3.7/site-packages/scipy/signal/signaltools.py:1341: FutureWarning:\n",
      "\n",
      "Using a non-tuple sequence for multidimensional indexing is deprecated; use `arr[tuple(seq)]` instead of `arr[seq]`. In the future this will be interpreted as an array index, `arr[np.array(seq)]`, which will result either in an error or a different result.\n",
      "\n",
      "/Users/ameyapatankar/anaconda3/lib/python3.7/site-packages/scipy/signal/signaltools.py:1344: FutureWarning:\n",
      "\n",
      "Using a non-tuple sequence for multidimensional indexing is deprecated; use `arr[tuple(seq)]` instead of `arr[seq]`. In the future this will be interpreted as an array index, `arr[np.array(seq)]`, which will result either in an error or a different result.\n",
      "\n",
      "/Users/ameyapatankar/anaconda3/lib/python3.7/site-packages/scipy/signal/signaltools.py:1350: FutureWarning:\n",
      "\n",
      "Using a non-tuple sequence for multidimensional indexing is deprecated; use `arr[tuple(seq)]` instead of `arr[seq]`. In the future this will be interpreted as an array index, `arr[np.array(seq)]`, which will result either in an error or a different result.\n",
      "\n",
      "/Users/ameyapatankar/anaconda3/lib/python3.7/site-packages/statsmodels/base/model.py:508: ConvergenceWarning:\n",
      "\n",
      "Maximum Likelihood optimization failed to converge. Check mle_retvals\n",
      "\n",
      "/Users/ameyapatankar/anaconda3/lib/python3.7/site-packages/statsmodels/base/model.py:508: ConvergenceWarning:\n",
      "\n",
      "Maximum Likelihood optimization failed to converge. Check mle_retvals\n",
      "\n"
     ]
    },
    {
     "name": "stdout",
     "output_type": "stream",
     "text": [
      "Mean squared error: 281659.300216\n"
     ]
    },
    {
     "data": {
      "image/png": "[encoded data removed]",
      "text/plain": [
       "<Figure size 720x720 with 1 Axes>"
      ]
     },
     "metadata": {
      "needs_background": "light"
     },
     "output_type": "display_data"
    }
   ],
   "source": [
    "train_list = [x for x in train]\n",
    "predictions = []\n",
    "\n",
    "for t in range(len(test)):\n",
    "    model = ARIMA(np.array(train),order=(1,1,0))\n",
    "    fit = model.fit()\n",
    "    forecast = float(fit.forecast()[0])\n",
    "    predictions.append(forecast)\n",
    "    train.append(float(forecast))\n",
    "\n",
    "predictions = fit.forecast(len(test))[0]\n",
    "plt.plot(np.exp(predictions),'--',label='Predictions')\n",
    "plt.plot(np.exp(test),label='True data')\n",
    "#plt.plot(np.exp(full_predictions),label='Full prediction')\n",
    "plt.ylabel('Rupees per USD')\n",
    "plt.xlabel('Days')\n",
    "plt.legend()\n",
    "plt.plot()\n",
    "\n",
    "print ('Mean squared error: {0:3f}'.format(MSE(np.exp(test),np.exp(predictions))))"
   ]
  },
  {
   "cell_type": "markdown",
   "metadata": {},
   "source": [
    "\n",
    "\n",
    "Since, ARIMA is a linear model, forecasting using ARIMA for anywhere more than 1 day fails miserably. The model continues the upward increasing trend indifinitely.\n",
    "\n",
    "Let's try to see how a simple feedforward neural (FNN) and LSTM Recurrent Neural Network (RNN) performs with this time series data.\n",
    "\n"
   ]
  },
  {
   "cell_type": "markdown",
   "metadata": {},
   "source": [
    "### Trying RNN "
   ]
  },
  {
   "cell_type": "code",
   "execution_count": 134,
   "metadata": {},
   "outputs": [
    {
     "name": "stderr",
     "output_type": "stream",
     "text": [
      "Using TensorFlow backend.\n"
     ]
    }
   ],
   "source": [
    "from  keras.models import Sequential\n",
    "from keras.layers import Dense\n",
    "from keras.optimizers import Adam\n",
    "import keras.backend as K\n",
    "from keras import layers\n",
    "from keras.initializers import Zeros\n",
    "from keras.callbacks import EarlyStopping\n",
    "from keras.models import load_model"
   ]
  },
  {
   "cell_type": "code",
   "execution_count": 163,
   "metadata": {},
   "outputs": [],
   "source": [
    "data1 = rate_data_log.values\n",
    "train = list(data1[0:1000])\n",
    "test = list(data1[1000:])\n"
   ]
  },
  {
   "cell_type": "code",
   "execution_count": 164,
   "metadata": {},
   "outputs": [],
   "source": [
    "def gen_XY(t_list,size):\n",
    "    '''\n",
    "    Generates an autoregressive lagged array.\n",
    "    \n",
    "    Parameters\n",
    "    ----------\n",
    "    1. t_list: (list) Data to generate an autoregressive array out of.\n",
    "    2. size: (int) Number of lagged values to consider.\n",
    "    \n",
    "    Returns\n",
    "    ----------\n",
    "    1. X: (np.ndarray) Autoregressive feature array.\n",
    "    2. Y.T: (np.ndarray) Column array with values of response variable.\n",
    "    \n",
    "    '''\n",
    "    X = np.zeros([1,size])\n",
    "    Y = []\n",
    "    temp_list=[]\n",
    "    for i in range(len(t_list)-size):\n",
    "        add_list = t_list[i:i+size]\n",
    "        target = t_list[i+size]\n",
    "        X = np.append(X,np.array([add_list]),axis=0)\n",
    "        Y.append(target)\n",
    "        \n",
    "    X = np.delete(X,0,axis=0)\n",
    "    Y = np.array(Y)\n",
    "    \n",
    "    return X,Y.T"
   ]
  },
  {
   "cell_type": "code",
   "execution_count": 165,
   "metadata": {},
   "outputs": [],
   "source": [
    "X_train,y_train = gen_XY(train,1)\n",
    "X_test,y_test = gen_XY(test,1)\n",
    "\n"
   ]
  },
  {
   "cell_type": "code",
   "execution_count": 166,
   "metadata": {},
   "outputs": [
    {
     "data": {
      "text/plain": [
       "((999, 1), (999,))"
      ]
     },
     "execution_count": 166,
     "metadata": {},
     "output_type": "execute_result"
    }
   ],
   "source": [
    "X_train.shape,y_train.shape"
   ]
  },
  {
   "cell_type": "markdown",
   "metadata": {},
   "source": [
    "### 1 Hidden Layers with 1 neuron and relu activation function"
   ]
  },
  {
   "cell_type": "code",
   "execution_count": 167,
   "metadata": {},
   "outputs": [
    {
     "name": "stdout",
     "output_type": "stream",
     "text": [
      "Epoch 1/20\n",
      "999/999 [==============================] - 0s 132us/step - loss: 60.0572\n",
      "Epoch 2/20\n",
      "999/999 [==============================] - 0s 44us/step - loss: 60.0572\n",
      "Epoch 3/20\n",
      "999/999 [==============================] - 0s 42us/step - loss: 60.0572\n",
      "Epoch 4/20\n",
      "999/999 [==============================] - 0s 38us/step - loss: 60.0572\n",
      "Epoch 5/20\n",
      "999/999 [==============================] - 0s 40us/step - loss: 60.0572\n",
      "Epoch 6/20\n",
      "999/999 [==============================] - 0s 42us/step - loss: 60.0572\n",
      "Epoch 7/20\n",
      "999/999 [==============================] - 0s 40us/step - loss: 60.0572\n",
      "Epoch 8/20\n",
      "999/999 [==============================] - 0s 42us/step - loss: 60.0572\n",
      "Epoch 9/20\n",
      "999/999 [==============================] - 0s 45us/step - loss: 60.0572\n",
      "Epoch 10/20\n",
      "999/999 [==============================] - 0s 39us/step - loss: 60.0572\n",
      "Epoch 11/20\n",
      "999/999 [==============================] - 0s 44us/step - loss: 60.0572\n",
      "Epoch 12/20\n",
      "999/999 [==============================] - 0s 43us/step - loss: 60.0572\n",
      "Epoch 13/20\n",
      "999/999 [==============================] - 0s 47us/step - loss: 60.0572\n",
      "Epoch 14/20\n",
      "999/999 [==============================] - 0s 45us/step - loss: 60.0572\n",
      "Epoch 15/20\n",
      "999/999 [==============================] - 0s 44us/step - loss: 60.0572\n",
      "Epoch 16/20\n",
      "999/999 [==============================] - 0s 41us/step - loss: 60.0572\n",
      "Epoch 17/20\n",
      "999/999 [==============================] - 0s 44us/step - loss: 60.0572\n",
      "Epoch 18/20\n",
      "999/999 [==============================] - 0s 44us/step - loss: 60.0572\n",
      "Epoch 19/20\n",
      "999/999 [==============================] - 0s 42us/step - loss: 60.0572\n",
      "Epoch 20/20\n",
      "999/999 [==============================] - 0s 45us/step - loss: 60.0572\n"
     ]
    },
    {
     "data": {
      "text/plain": [
       "<keras.callbacks.History at 0x1c3e1a2b70>"
      ]
     },
     "execution_count": 167,
     "metadata": {},
     "output_type": "execute_result"
    }
   ],
   "source": [
    "K.clear_session()\n",
    "model = Sequential()\n",
    "model.add(Dense(1, input_shape=(X_test.shape[1],), activation='relu', kernel_initializer='lecun_uniform'))\n",
    "model.compile(optimizer=Adam(lr=0.001), loss='mean_squared_error')\n",
    "model.fit(X_train, y_train, batch_size=16, epochs=20, verbose=1)"
   ]
  },
  {
   "cell_type": "code",
   "execution_count": 168,
   "metadata": {},
   "outputs": [
    {
     "data": {
      "image/png": "[encoded data removed]",
      "text/plain": [
       "<Figure size 720x720 with 1 Axes>"
      ]
     },
     "metadata": {
      "needs_background": "light"
     },
     "output_type": "display_data"
    },
    {
     "name": "stdout",
     "output_type": "stream",
     "text": [
      "RMSE: 2872.963616\n"
     ]
    }
   ],
   "source": [
    "y_pred  =  model.predict(X_test)\n",
    "plt.plot(np.exp(y_pred),'--',label='Model-predicted')\n",
    "plt.plot(np.exp(y_test),label='Actual rate')\n",
    "plt.legend()\n",
    "plt.show()\n",
    "print('RMSE: %f'%(np.sqrt(MSE(np.exp(y_test), np.exp(y_pred)))))"
   ]
  },
  {
   "cell_type": "markdown",
   "metadata": {},
   "source": [
    "The RMSE is very high. Very poor fit to the data as the RNN is very simple in architecture"
   ]
  },
  {
   "cell_type": "code",
   "execution_count": 169,
   "metadata": {},
   "outputs": [
    {
     "name": "stdout",
     "output_type": "stream",
     "text": [
      "Epoch 1/20\n",
      "999/999 [==============================] - 0s 219us/step - loss: 10.1156\n",
      "Epoch 2/20\n",
      "999/999 [==============================] - 0s 51us/step - loss: 0.0106\n",
      "Epoch 3/20\n",
      "999/999 [==============================] - 0s 56us/step - loss: 9.1807e-05\n",
      "Epoch 4/20\n",
      "999/999 [==============================] - 0s 53us/step - loss: 7.2684e-05\n",
      "Epoch 5/20\n",
      "999/999 [==============================] - 0s 52us/step - loss: 7.3109e-05\n",
      "Epoch 6/20\n",
      "999/999 [==============================] - 0s 49us/step - loss: 7.2637e-05\n",
      "Epoch 7/20\n",
      "999/999 [==============================] - 0s 59us/step - loss: 7.4317e-05\n",
      "Epoch 8/20\n",
      "999/999 [==============================] - 0s 49us/step - loss: 7.3909e-05\n",
      "Epoch 9/20\n",
      "999/999 [==============================] - 0s 51us/step - loss: 7.2611e-05\n",
      "Epoch 10/20\n",
      "999/999 [==============================] - 0s 53us/step - loss: 7.3744e-05\n",
      "Epoch 11/20\n",
      "999/999 [==============================] - 0s 52us/step - loss: 7.4106e-05\n",
      "Epoch 12/20\n",
      "999/999 [==============================] - 0s 57us/step - loss: 7.3835e-05\n",
      "Epoch 13/20\n",
      "999/999 [==============================] - 0s 53us/step - loss: 7.5518e-05\n",
      "Epoch 14/20\n",
      "999/999 [==============================] - 0s 60us/step - loss: 7.6806e-05\n",
      "Epoch 15/20\n",
      "999/999 [==============================] - 0s 64us/step - loss: 7.6265e-05\n",
      "Epoch 16/20\n",
      "999/999 [==============================] - 0s 56us/step - loss: 7.5671e-05\n",
      "Epoch 17/20\n",
      "999/999 [==============================] - 0s 50us/step - loss: 7.4898e-05\n",
      "Epoch 18/20\n",
      "999/999 [==============================] - 0s 49us/step - loss: 7.4008e-05\n",
      "Epoch 19/20\n",
      "999/999 [==============================] - 0s 53us/step - loss: 7.6770e-05\n",
      "Epoch 20/20\n",
      "999/999 [==============================] - 0s 57us/step - loss: 7.6566e-05\n"
     ]
    },
    {
     "data": {
      "text/plain": [
       "<keras.callbacks.History at 0x1c3e6c7908>"
      ]
     },
     "execution_count": 169,
     "metadata": {},
     "output_type": "execute_result"
    }
   ],
   "source": [
    "K.clear_session()\n",
    "model = Sequential()\n",
    "model.add(Dense(50, input_shape=(X_test.shape[1],), activation='relu', kernel_initializer='lecun_uniform'))\n",
    "model.add(Dense(50, input_shape=(X_test.shape[1],), activation='relu'))\n",
    "model.add(Dense(1))\n",
    "model.compile(optimizer=Adam(lr=0.001), loss='mean_squared_error')\n",
    "model.fit(X_train, y_train, batch_size=16, epochs=20, verbose=1)\n",
    "\n"
   ]
  },
  {
   "cell_type": "code",
   "execution_count": 180,
   "metadata": {},
   "outputs": [],
   "source": [
    "y_pred  =  model.predict(X_test)\n",
    "\n",
    "pred = pd.DataFrame(np.exp(y_pred),columns= ['Predicted'])\n",
    "true = pd.DataFrame(np.exp(y_test),columns= ['True Value'])\n",
    "df = pd.concat([pred,true],axis = 1)"
   ]
  },
  {
   "cell_type": "code",
   "execution_count": 181,
   "metadata": {},
   "outputs": [
    {
     "data": {
      "application/vnd.plotly.v1+json": {
       "config": {
        "plotlyServerURL": "https://plot.ly"
       },
       "data": [
        {
         "name": "Predicted Values",
         "type": "scatter",
         "y": [
          2420.5439453125,
          2355.469482421875,
          2471.271484375,
          2492.250732421875,
          2489.180419921875,
          2510.1416015625,
          2513.300048828125,
          2451.59912109375,
          2535.052978515625,
          2552.676513671875,
          2577.209716796875,
          2587.68408203125,
          2599.27783203125,
          2598.89990234375,
          2585.349365234375,
          2612.835205078125,
          2618.591552734375,
          2638.297607421875,
          2672.7900390625,
          2635.264892578125,
          2641.017578125,
          2644.623046875,
          2666.883056640625,
          2646.13037109375,
          2642.31005859375,
          2683.047607421875,
          2705.91357421875,
          2708.328857421875,
          2726.522705078125,
          2739.25830078125,
          2733.2109375,
          2707.849853515625,
          2709.66455078125,
          2711.574951171875,
          2746.23046875,
          2754.46240234375,
          2747.220458984375,
          2776.852294921875,
          2780.97998046875,
          2785.880126953125,
          2776.138916015625,
          2793.783447265625,
          2797.194580078125,
          2795.00537109375,
          2793.49853515625,
          2785.673095703125,
          2804.71142578125,
          2793.926025390625,
          2790.7890625,
          2772.740234375,
          2750.393798828125,
          2744.586181640625,
          2784.490966796875,
          2792.64599609375,
          2811.8876953125,
          2809.4697265625,
          2823.350830078125,
          2833.7265625,
          2833.36181640625,
          2825.085205078125,
          2855.490234375,
          2801.763916015625,
          2799.430908203125,
          2819.369873046875,
          2806.385009765625,
          2816.370849609375,
          2835.177001953125,
          2867.6904296875,
          2867.746337890625,
          2873.850341796875,
          2879.794189453125,
          2893.031982421875,
          2896.042236328125,
          2878.613525390625,
          2888.536865234375,
          2888.652587890625,
          2907.5849609375,
          2905.76513671875,
          2907.23291015625,
          2900.680419921875,
          2905.221923828125,
          2908.13671875,
          2933.6259765625,
          2927.252685546875,
          2926.18505859375,
          2939.777587890625,
          2942.89404296875,
          2945.672607421875,
          2923.7666015625,
          2917.606689453125,
          2945.485595703125,
          2932.427490234375,
          2884.41748046875,
          2879.8271484375,
          2871.193115234375,
          2881.78466796875,
          2812.830322265625,
          2835.186279296875,
          2851.60009765625,
          2876.75146484375,
          2860.09765625,
          2840.95947265625,
          2864.89111328125,
          2856.86572265625,
          2823.117919921875,
          2826.903076171875,
          2803.425048828125,
          2784.213623046875,
          2790.00537109375,
          2753.501220703125,
          2745.943603515625,
          2804.296875,
          2826.994873046875,
          2844.1923828125,
          2873.796875,
          2887.075927734375,
          2886.0751953125,
          2880.2392578125,
          2891.94775390625,
          2887.322265625,
          2889.989013671875,
          2917.832275390625,
          2926.47119140625,
          2953.954345703125,
          2950.267822265625,
          2945.201904296875,
          2917.46337890625,
          2913.8974609375,
          2924.93798828125,
          2941.642578125,
          2964.020263671875,
          2972.62158203125,
          2995.23486328125,
          2989.8779296875,
          2975.538818359375,
          2979.1845703125,
          2992.508056640625,
          2999.291015625,
          3013.03759765625,
          3013.5634765625,
          3003.386962890625,
          2983.93310546875,
          2994.53515625,
          2976.1943359375,
          2984.539306640625,
          3004.802001953125,
          3018.77001953125,
          3003.02587890625,
          3025.017822265625,
          3020.16943359375,
          3012.44580078125,
          2979.934814453125,
          2953.341796875,
          2932.01220703125,
          2845.434814453125,
          2882.154296875,
          2884.34716796875,
          2938.000732421875,
          2918.7255859375,
          2883.0751953125,
          2926.330322265625,
          2841.325439453125,
          2848.2734375,
          2889.006591796875,
          2923.684326171875,
          2900.738525390625,
          2924.459716796875,
          2922.9873046875,
          2847.78173828125,
          2878.796142578125,
          2869.65185546875,
          2888.275146484375,
          2924.60595703125,
          2926.47119140625,
          2906.451171875,
          2937.6982421875,
          2975.58837890625,
          2978.274169921875,
          2977.992919921875,
          2978.944580078125,
          3000.3037109375,
          3008.87109375,
          3006.711181640625,
          2997.36083984375,
          3005.031494140625,
          3006.0546875,
          3006.109130859375,
          2991.51806640625,
          2991.232666015625,
          2966.268310546875,
          2984.3828125,
          2977.192138671875,
          2961.501220703125,
          2976.320556640625,
          2940.14501953125,
          2887.944580078125,
          2910.771484375,
          2951.801513671875,
          2938.697021484375,
          2893.347900390625,
          2919.46875,
          2938.042724609375,
          2969.908447265625,
          2965.82275390625,
          2995.09765625,
          2989.162353515625,
          2997.34375,
          2985.695068359375,
          3006.043212890625,
          2995.40625,
          3003.8623046875,
          3009.580078125,
          3021.736572265625,
          3038.45654296875,
          3035.956787109375,
          3045.741455078125,
          3036.6171875,
          3065.709228515625,
          3076.968505859375,
          3073.3466796875,
          3075.487060546875,
          3083.810302734375,
          3091.640380859375,
          3085.62548828125,
          3090.4169921875,
          3092.5927734375,
          3095.16259765625
         ]
        },
        {
         "name": "Orginal Closing",
         "type": "scatter",
         "y": [
          2351.1000976562495,
          2467.699951171876,
          2488.830078124999,
          2485.739990234374,
          2506.85009765625,
          2510.030029296875,
          2447.889892578124,
          2531.939941406251,
          2549.689941406251,
          2574.409912109375,
          2584.959960937499,
          2596.639892578124,
          2596.260009765624,
          2582.610107421874,
          2610.300048828124,
          2616.1000976562495,
          2635.9599609375005,
          2670.709960937499,
          2632.899902343751,
          2638.699951171874,
          2642.330078125,
          2664.7600097656245,
          2643.8500976562505,
          2640,
          2681.0500488281236,
          2704.1000976562514,
          2706.5300292968745,
          2724.870117187499,
          2737.6999511718745,
          2731.610107421876,
          2706.050048828125,
          2707.8798828125005,
          2709.800048828124,
          2744.729980468749,
          2753.0300292968745,
          2745.72998046875,
          2775.6000976562514,
          2779.760009765625,
          2784.699951171875,
          2774.8798828124986,
          2792.6699218750005,
          2796.1101074218755,
          2793.89990234375,
          2792.3798828125,
          2784.489990234375,
          2803.689941406251,
          2792.8100585937505,
          2789.6499023437495,
          2771.4499511718755,
          2748.9299316406264,
          2743.070068359374,
          2783.300048828125,
          2791.52001953125,
          2810.919921874999,
          2808.47998046875,
          2822.4799804687495,
          2832.939941406251,
          2832.570068359376,
          2824.22998046875,
          2854.879882812499,
          2800.7099609375,
          2798.360107421875,
          2818.4599609375014,
          2805.3701171875005,
          2815.4399414062505,
          2834.3999023437495,
          2867.1899414062495,
          2867.2399902343755,
          2873.3999023437505,
          2879.389892578125,
          2892.7399902343764,
          2895.770019531251,
          2878.1999511718755,
          2888.2099609375,
          2888.3200683593736,
          2907.4099121093736,
          2905.580078125001,
          2907.060058593749,
          2900.449951171875,
          2905.030029296876,
          2907.9699707031245,
          2933.679931640624,
          2927.25,
          2926.169921875001,
          2939.8798828124986,
          2943.030029296876,
          2945.830078125001,
          2923.729980468749,
          2917.520019531251,
          2945.639892578124,
          2932.469970703125,
          2884.050048828125,
          2879.419921874999,
          2870.719970703124,
          2881.3999023437505,
          2811.8701171874995,
          2834.4099121093755,
          2850.959960937499,
          2876.320068359375,
          2859.5300292968745,
          2840.22998046875,
          2864.3601074218755,
          2856.27001953125,
          2822.239990234374,
          2826.060058593749,
          2802.389892578124,
          2783.020019531251,
          2788.8601074218764,
          2752.06005859375,
          2744.4499511718745,
          2803.27001953125,
          2826.1499023437486,
          2843.489990234375,
          2873.3400878906236,
          2886.7299804687505,
          2885.719970703125,
          2879.840087890626,
          2891.6398925781245,
          2886.97998046875,
          2889.6699218749995,
          2917.749999999999,
          2926.4599609375,
          2954.179931640626,
          2950.459960937501,
          2945.350097656251,
          2917.3798828124995,
          2913.780029296876,
          2924.919921875001,
          2941.760009765626,
          2964.330078124999,
          2973.0100097656255,
          2995.8200683593736,
          2990.409912109374,
          2975.9499511718755,
          2979.6298828125005,
          2993.0700683593745,
          2999.909912109376,
          3013.7700195312495,
          3014.3000488281255,
          3004.0400390625014,
          2984.419921874999,
          2995.1101074218736,
          2976.610107421876,
          2985.030029296875,
          3005.4699707031255,
          3019.560058593752,
          3003.6699218749986,
          3025.8601074218727,
          3020.969970703125,
          3013.1799316406245,
          2980.3798828125014,
          2953.5600585937514,
          2932.050048828126,
          2844.739990234376,
          2881.770019531251,
          2883.9799804687514,
          2938.090087890626,
          2918.64990234375,
          2882.699951171876,
          2926.3200683593745,
          2840.60009765625,
          2847.6000976562505,
          2888.679931640625,
          2923.64990234375,
          2900.5100097656255,
          2924.4299316406255,
          2922.949951171876,
          2847.1101074218755,
          2878.379882812501,
          2869.1599121093745,
          2887.939941406251,
          2924.580078125,
          2926.4599609375,
          2906.27001953125,
          2937.780029296875,
          2975.9999999999995,
          2978.7099609375,
          2978.4299316406255,
          2979.389892578124,
          3000.929931640623,
          3009.5700683593736,
          3007.3898925781264,
          2997.9599609374995,
          3005.6999511718755,
          3006.729980468752,
          3006.7900390625027,
          2992.0700683593773,
          2991.7800292968755,
          2966.6000976562486,
          2984.8701171874986,
          2977.620117187501,
          2961.7900390624986,
          2976.739990234376,
          2940.249999999999,
          2887.6101074218755,
          2910.6298828124986,
          2952.010009765626,
          2938.7900390625005,
          2893.0600585937495,
          2919.3999023437495,
          2938.1298828125005,
          2970.2700195312505,
          2966.149902343751,
          2995.679931640624,
          2989.68994140625,
          2997.9499511718727,
          2986.1999511718736,
          3006.7199707031264,
          2995.9899902343773,
          3004.52001953125,
          3010.2900390624977,
          3022.5500488281227,
          3039.419921874998,
          3036.889892578125,
          3046.7700195312505,
          3037.5600585937486,
          3066.9099121093727,
          3078.270019531249,
          3074.620117187501,
          3076.780029296873,
          3085.179931640624,
          3093.080078125002,
          3087.0100097656227,
          3091.8400878906236,
          3094.040039062502,
          3096.6298828125,
          3120.4599609374977
         ]
        }
       ],
       "layout": {
        "template": {
         "data": {
          "bar": [
           {
            "error_x": {
             "color": "#2a3f5f"
            },
            "error_y": {
             "color": "#2a3f5f"
            },
            "marker": {
             "line": {
              "color": "#E5ECF6",
              "width": 0.5
             }
            },
            "type": "bar"
           }
          ],
          "barpolar": [
           {
            "marker": {
             "line": {
              "color": "#E5ECF6",
              "width": 0.5
             }
            },
            "type": "barpolar"
           }
          ],
          "carpet": [
           {
            "aaxis": {
             "endlinecolor": "#2a3f5f",
             "gridcolor": "white",
             "linecolor": "white",
             "minorgridcolor": "white",
             "startlinecolor": "#2a3f5f"
            },
            "baxis": {
             "endlinecolor": "#2a3f5f",
             "gridcolor": "white",
             "linecolor": "white",
             "minorgridcolor": "white",
             "startlinecolor": "#2a3f5f"
            },
            "type": "carpet"
           }
          ],
          "choropleth": [
           {
            "colorbar": {
             "outlinewidth": 0,
             "ticks": ""
            },
            "type": "choropleth"
           }
          ],
          "contour": [
           {
            "colorbar": {
             "outlinewidth": 0,
             "ticks": ""
            },
            "colorscale": [
             [
              0,
              "#0d0887"
             ],
             [
              0.1111111111111111,
              "#46039f"
             ],
             [
              0.2222222222222222,
              "#7201a8"
             ],
             [
              0.3333333333333333,
              "#9c179e"
             ],
             [
              0.4444444444444444,
              "#bd3786"
             ],
             [
              0.5555555555555556,
              "#d8576b"
             ],
             [
              0.6666666666666666,
              "#ed7953"
             ],
             [
              0.7777777777777778,
              "#fb9f3a"
             ],
             [
              0.8888888888888888,
              "#fdca26"
             ],
             [
              1,
              "#f0f921"
             ]
            ],
            "type": "contour"
           }
          ],
          "contourcarpet": [
           {
            "colorbar": {
             "outlinewidth": 0,
             "ticks": ""
            },
            "type": "contourcarpet"
           }
          ],
          "heatmap": [
           {
            "colorbar": {
             "outlinewidth": 0,
             "ticks": ""
            },
            "colorscale": [
             [
              0,
              "#0d0887"
             ],
             [
              0.1111111111111111,
              "#46039f"
             ],
             [
              0.2222222222222222,
              "#7201a8"
             ],
             [
              0.3333333333333333,
              "#9c179e"
             ],
             [
              0.4444444444444444,
              "#bd3786"
             ],
             [
              0.5555555555555556,
              "#d8576b"
             ],
             [
              0.6666666666666666,
              "#ed7953"
             ],
             [
              0.7777777777777778,
              "#fb9f3a"
             ],
             [
              0.8888888888888888,
              "#fdca26"
             ],
             [
              1,
              "#f0f921"
             ]
            ],
            "type": "heatmap"
           }
          ],
          "heatmapgl": [
           {
            "colorbar": {
             "outlinewidth": 0,
             "ticks": ""
            },
            "colorscale": [
             [
              0,
              "#0d0887"
             ],
             [
              0.1111111111111111,
              "#46039f"
             ],
             [
              0.2222222222222222,
              "#7201a8"
             ],
             [
              0.3333333333333333,
              "#9c179e"
             ],
             [
              0.4444444444444444,
              "#bd3786"
             ],
             [
              0.5555555555555556,
              "#d8576b"
             ],
             [
              0.6666666666666666,
              "#ed7953"
             ],
             [
              0.7777777777777778,
              "#fb9f3a"
             ],
             [
              0.8888888888888888,
              "#fdca26"
             ],
             [
              1,
              "#f0f921"
             ]
            ],
            "type": "heatmapgl"
           }
          ],
          "histogram": [
           {
            "marker": {
             "colorbar": {
              "outlinewidth": 0,
              "ticks": ""
             }
            },
            "type": "histogram"
           }
          ],
          "histogram2d": [
           {
            "colorbar": {
             "outlinewidth": 0,
             "ticks": ""
            },
            "colorscale": [
             [
              0,
              "#0d0887"
             ],
             [
              0.1111111111111111,
              "#46039f"
             ],
             [
              0.2222222222222222,
              "#7201a8"
             ],
             [
              0.3333333333333333,
              "#9c179e"
             ],
             [
              0.4444444444444444,
              "#bd3786"
             ],
             [
              0.5555555555555556,
              "#d8576b"
             ],
             [
              0.6666666666666666,
              "#ed7953"
             ],
             [
              0.7777777777777778,
              "#fb9f3a"
             ],
             [
              0.8888888888888888,
              "#fdca26"
             ],
             [
              1,
              "#f0f921"
             ]
            ],
            "type": "histogram2d"
           }
          ],
          "histogram2dcontour": [
           {
            "colorbar": {
             "outlinewidth": 0,
             "ticks": ""
            },
            "colorscale": [
             [
              0,
              "#0d0887"
             ],
             [
              0.1111111111111111,
              "#46039f"
             ],
             [
              0.2222222222222222,
              "#7201a8"
             ],
             [
              0.3333333333333333,
              "#9c179e"
             ],
             [
              0.4444444444444444,
              "#bd3786"
             ],
             [
              0.5555555555555556,
              "#d8576b"
             ],
             [
              0.6666666666666666,
              "#ed7953"
             ],
             [
              0.7777777777777778,
              "#fb9f3a"
             ],
             [
              0.8888888888888888,
              "#fdca26"
             ],
             [
              1,
              "#f0f921"
             ]
            ],
            "type": "histogram2dcontour"
           }
          ],
          "mesh3d": [
           {
            "colorbar": {
             "outlinewidth": 0,
             "ticks": ""
            },
            "type": "mesh3d"
           }
          ],
          "parcoords": [
           {
            "line": {
             "colorbar": {
              "outlinewidth": 0,
              "ticks": ""
             }
            },
            "type": "parcoords"
           }
          ],
          "scatter": [
           {
            "marker": {
             "colorbar": {
              "outlinewidth": 0,
              "ticks": ""
             }
            },
            "type": "scatter"
           }
          ],
          "scatter3d": [
           {
            "line": {
             "colorbar": {
              "outlinewidth": 0,
              "ticks": ""
             }
            },
            "marker": {
             "colorbar": {
              "outlinewidth": 0,
              "ticks": ""
             }
            },
            "type": "scatter3d"
           }
          ],
          "scattercarpet": [
           {
            "marker": {
             "colorbar": {
              "outlinewidth": 0,
              "ticks": ""
             }
            },
            "type": "scattercarpet"
           }
          ],
          "scattergeo": [
           {
            "marker": {
             "colorbar": {
              "outlinewidth": 0,
              "ticks": ""
             }
            },
            "type": "scattergeo"
           }
          ],
          "scattergl": [
           {
            "marker": {
             "colorbar": {
              "outlinewidth": 0,
              "ticks": ""
             }
            },
            "type": "scattergl"
           }
          ],
          "scattermapbox": [
           {
            "marker": {
             "colorbar": {
              "outlinewidth": 0,
              "ticks": ""
             }
            },
            "type": "scattermapbox"
           }
          ],
          "scatterpolar": [
           {
            "marker": {
             "colorbar": {
              "outlinewidth": 0,
              "ticks": ""
             }
            },
            "type": "scatterpolar"
           }
          ],
          "scatterpolargl": [
           {
            "marker": {
             "colorbar": {
              "outlinewidth": 0,
              "ticks": ""
             }
            },
            "type": "scatterpolargl"
           }
          ],
          "scatterternary": [
           {
            "marker": {
             "colorbar": {
              "outlinewidth": 0,
              "ticks": ""
             }
            },
            "type": "scatterternary"
           }
          ],
          "surface": [
           {
            "colorbar": {
             "outlinewidth": 0,
             "ticks": ""
            },
            "colorscale": [
             [
              0,
              "#0d0887"
             ],
             [
              0.1111111111111111,
              "#46039f"
             ],
             [
              0.2222222222222222,
              "#7201a8"
             ],
             [
              0.3333333333333333,
              "#9c179e"
             ],
             [
              0.4444444444444444,
              "#bd3786"
             ],
             [
              0.5555555555555556,
              "#d8576b"
             ],
             [
              0.6666666666666666,
              "#ed7953"
             ],
             [
              0.7777777777777778,
              "#fb9f3a"
             ],
             [
              0.8888888888888888,
              "#fdca26"
             ],
             [
              1,
              "#f0f921"
             ]
            ],
            "type": "surface"
           }
          ],
          "table": [
           {
            "cells": {
             "fill": {
              "color": "#EBF0F8"
             },
             "line": {
              "color": "white"
             }
            },
            "header": {
             "fill": {
              "color": "#C8D4E3"
             },
             "line": {
              "color": "white"
             }
            },
            "type": "table"
           }
          ]
         },
         "layout": {
          "annotationdefaults": {
           "arrowcolor": "#2a3f5f",
           "arrowhead": 0,
           "arrowwidth": 1
          },
          "colorscale": {
           "diverging": [
            [
             0,
             "#8e0152"
            ],
            [
             0.1,
             "#c51b7d"
            ],
            [
             0.2,
             "#de77ae"
            ],
            [
             0.3,
             "#f1b6da"
            ],
            [
             0.4,
             "#fde0ef"
            ],
            [
             0.5,
             "#f7f7f7"
            ],
            [
             0.6,
             "#e6f5d0"
            ],
            [
             0.7,
             "#b8e186"
            ],
            [
             0.8,
             "#7fbc41"
            ],
            [
             0.9,
             "#4d9221"
            ],
            [
             1,
             "#276419"
            ]
           ],
           "sequential": [
            [
             0,
             "#0d0887"
            ],
            [
             0.1111111111111111,
             "#46039f"
            ],
            [
             0.2222222222222222,
             "#7201a8"
            ],
            [
             0.3333333333333333,
             "#9c179e"
            ],
            [
             0.4444444444444444,
             "#bd3786"
            ],
            [
             0.5555555555555556,
             "#d8576b"
            ],
            [
             0.6666666666666666,
             "#ed7953"
            ],
            [
             0.7777777777777778,
             "#fb9f3a"
            ],
            [
             0.8888888888888888,
             "#fdca26"
            ],
            [
             1,
             "#f0f921"
            ]
           ],
           "sequentialminus": [
            [
             0,
             "#0d0887"
            ],
            [
             0.1111111111111111,
             "#46039f"
            ],
            [
             0.2222222222222222,
             "#7201a8"
            ],
            [
             0.3333333333333333,
             "#9c179e"
            ],
            [
             0.4444444444444444,
             "#bd3786"
            ],
            [
             0.5555555555555556,
             "#d8576b"
            ],
            [
             0.6666666666666666,
             "#ed7953"
            ],
            [
             0.7777777777777778,
             "#fb9f3a"
            ],
            [
             0.8888888888888888,
             "#fdca26"
            ],
            [
             1,
             "#f0f921"
            ]
           ]
          },
          "colorway": [
           "#636efa",
           "#EF553B",
           "#00cc96",
           "#ab63fa",
           "#FFA15A",
           "#19d3f3",
           "#FF6692",
           "#B6E880",
           "#FF97FF",
           "#FECB52"
          ],
          "font": {
           "color": "#2a3f5f"
          },
          "geo": {
           "bgcolor": "white",
           "lakecolor": "white",
           "landcolor": "#E5ECF6",
           "showlakes": true,
           "showland": true,
           "subunitcolor": "white"
          },
          "hoverlabel": {
           "align": "left"
          },
          "hovermode": "closest",
          "mapbox": {
           "style": "light"
          },
          "paper_bgcolor": "white",
          "plot_bgcolor": "#E5ECF6",
          "polar": {
           "angularaxis": {
            "gridcolor": "white",
            "linecolor": "white",
            "ticks": ""
           },
           "bgcolor": "#E5ECF6",
           "radialaxis": {
            "gridcolor": "white",
            "linecolor": "white",
            "ticks": ""
           }
          },
          "scene": {
           "xaxis": {
            "backgroundcolor": "#E5ECF6",
            "gridcolor": "white",
            "gridwidth": 2,
            "linecolor": "white",
            "showbackground": true,
            "ticks": "",
            "zerolinecolor": "white"
           },
           "yaxis": {
            "backgroundcolor": "#E5ECF6",
            "gridcolor": "white",
            "gridwidth": 2,
            "linecolor": "white",
            "showbackground": true,
            "ticks": "",
            "zerolinecolor": "white"
           },
           "zaxis": {
            "backgroundcolor": "#E5ECF6",
            "gridcolor": "white",
            "gridwidth": 2,
            "linecolor": "white",
            "showbackground": true,
            "ticks": "",
            "zerolinecolor": "white"
           }
          },
          "shapedefaults": {
           "line": {
            "color": "#2a3f5f"
           }
          },
          "ternary": {
           "aaxis": {
            "gridcolor": "white",
            "linecolor": "white",
            "ticks": ""
           },
           "baxis": {
            "gridcolor": "white",
            "linecolor": "white",
            "ticks": ""
           },
           "bgcolor": "#E5ECF6",
           "caxis": {
            "gridcolor": "white",
            "linecolor": "white",
            "ticks": ""
           }
          },
          "title": {
           "x": 0.05
          },
          "xaxis": {
           "automargin": true,
           "gridcolor": "white",
           "linecolor": "white",
           "ticks": "",
           "zerolinecolor": "white",
           "zerolinewidth": 2
          },
          "yaxis": {
           "automargin": true,
           "gridcolor": "white",
           "linecolor": "white",
           "ticks": "",
           "zerolinecolor": "white",
           "zerolinewidth": 2
          }
         }
        }
       }
      },
      "text/html": [
       "<div>\n",
       "        \n",
       "        \n",
       "            <div id=\"850c89f1-06b9-463a-b662-a082f0e16723\" class=\"plotly-graph-div\" style=\"height:525px; width:100%;\"></div>\n",
       "            <script type=\"text/javascript\">\n",
       "                require([\"plotly\"], function(Plotly) {\n",
       "                    window.PLOTLYENV=window.PLOTLYENV || {};\n",
       "                    \n",
       "                if (document.getElementById(\"850c89f1-06b9-463a-b662-a082f0e16723\")) {\n",
       "                    Plotly.newPlot(\n",
       "                        '850c89f1-06b9-463a-b662-a082f0e16723',\n",
       "                        [{\"name\": \"Predicted Values\", \"type\": \"scatter\", \"y\": [2420.5439453125, 2355.469482421875, 2471.271484375, 2492.250732421875, 2489.180419921875, 2510.1416015625, 2513.300048828125, 2451.59912109375, 2535.052978515625, 2552.676513671875, 2577.209716796875, 2587.68408203125, 2599.27783203125, 2598.89990234375, 2585.349365234375, 2612.835205078125, 2618.591552734375, 2638.297607421875, 2672.7900390625, 2635.264892578125, 2641.017578125, 2644.623046875, 2666.883056640625, 2646.13037109375, 2642.31005859375, 2683.047607421875, 2705.91357421875, 2708.328857421875, 2726.522705078125, 2739.25830078125, 2733.2109375, 2707.849853515625, 2709.66455078125, 2711.574951171875, 2746.23046875, 2754.46240234375, 2747.220458984375, 2776.852294921875, 2780.97998046875, 2785.880126953125, 2776.138916015625, 2793.783447265625, 2797.194580078125, 2795.00537109375, 2793.49853515625, 2785.673095703125, 2804.71142578125, 2793.926025390625, 2790.7890625, 2772.740234375, 2750.393798828125, 2744.586181640625, 2784.490966796875, 2792.64599609375, 2811.8876953125, 2809.4697265625, 2823.350830078125, 2833.7265625, 2833.36181640625, 2825.085205078125, 2855.490234375, 2801.763916015625, 2799.430908203125, 2819.369873046875, 2806.385009765625, 2816.370849609375, 2835.177001953125, 2867.6904296875, 2867.746337890625, 2873.850341796875, 2879.794189453125, 2893.031982421875, 2896.042236328125, 2878.613525390625, 2888.536865234375, 2888.652587890625, 2907.5849609375, 2905.76513671875, 2907.23291015625, 2900.680419921875, 2905.221923828125, 2908.13671875, 2933.6259765625, 2927.252685546875, 2926.18505859375, 2939.777587890625, 2942.89404296875, 2945.672607421875, 2923.7666015625, 2917.606689453125, 2945.485595703125, 2932.427490234375, 2884.41748046875, 2879.8271484375, 2871.193115234375, 2881.78466796875, 2812.830322265625, 2835.186279296875, 2851.60009765625, 2876.75146484375, 2860.09765625, 2840.95947265625, 2864.89111328125, 2856.86572265625, 2823.117919921875, 2826.903076171875, 2803.425048828125, 2784.213623046875, 2790.00537109375, 2753.501220703125, 2745.943603515625, 2804.296875, 2826.994873046875, 2844.1923828125, 2873.796875, 2887.075927734375, 2886.0751953125, 2880.2392578125, 2891.94775390625, 2887.322265625, 2889.989013671875, 2917.832275390625, 2926.47119140625, 2953.954345703125, 2950.267822265625, 2945.201904296875, 2917.46337890625, 2913.8974609375, 2924.93798828125, 2941.642578125, 2964.020263671875, 2972.62158203125, 2995.23486328125, 2989.8779296875, 2975.538818359375, 2979.1845703125, 2992.508056640625, 2999.291015625, 3013.03759765625, 3013.5634765625, 3003.386962890625, 2983.93310546875, 2994.53515625, 2976.1943359375, 2984.539306640625, 3004.802001953125, 3018.77001953125, 3003.02587890625, 3025.017822265625, 3020.16943359375, 3012.44580078125, 2979.934814453125, 2953.341796875, 2932.01220703125, 2845.434814453125, 2882.154296875, 2884.34716796875, 2938.000732421875, 2918.7255859375, 2883.0751953125, 2926.330322265625, 2841.325439453125, 2848.2734375, 2889.006591796875, 2923.684326171875, 2900.738525390625, 2924.459716796875, 2922.9873046875, 2847.78173828125, 2878.796142578125, 2869.65185546875, 2888.275146484375, 2924.60595703125, 2926.47119140625, 2906.451171875, 2937.6982421875, 2975.58837890625, 2978.274169921875, 2977.992919921875, 2978.944580078125, 3000.3037109375, 3008.87109375, 3006.711181640625, 2997.36083984375, 3005.031494140625, 3006.0546875, 3006.109130859375, 2991.51806640625, 2991.232666015625, 2966.268310546875, 2984.3828125, 2977.192138671875, 2961.501220703125, 2976.320556640625, 2940.14501953125, 2887.944580078125, 2910.771484375, 2951.801513671875, 2938.697021484375, 2893.347900390625, 2919.46875, 2938.042724609375, 2969.908447265625, 2965.82275390625, 2995.09765625, 2989.162353515625, 2997.34375, 2985.695068359375, 3006.043212890625, 2995.40625, 3003.8623046875, 3009.580078125, 3021.736572265625, 3038.45654296875, 3035.956787109375, 3045.741455078125, 3036.6171875, 3065.709228515625, 3076.968505859375, 3073.3466796875, 3075.487060546875, 3083.810302734375, 3091.640380859375, 3085.62548828125, 3090.4169921875, 3092.5927734375, 3095.16259765625]}, {\"name\": \"Orginal Closing\", \"type\": \"scatter\", \"y\": [2351.1000976562495, 2467.699951171876, 2488.830078124999, 2485.739990234374, 2506.85009765625, 2510.030029296875, 2447.889892578124, 2531.939941406251, 2549.689941406251, 2574.409912109375, 2584.959960937499, 2596.639892578124, 2596.260009765624, 2582.610107421874, 2610.300048828124, 2616.1000976562495, 2635.9599609375005, 2670.709960937499, 2632.899902343751, 2638.699951171874, 2642.330078125, 2664.7600097656245, 2643.8500976562505, 2640.0, 2681.0500488281236, 2704.1000976562514, 2706.5300292968745, 2724.870117187499, 2737.6999511718745, 2731.610107421876, 2706.050048828125, 2707.8798828125005, 2709.800048828124, 2744.729980468749, 2753.0300292968745, 2745.72998046875, 2775.6000976562514, 2779.760009765625, 2784.699951171875, 2774.8798828124986, 2792.6699218750005, 2796.1101074218755, 2793.89990234375, 2792.3798828125, 2784.489990234375, 2803.689941406251, 2792.8100585937505, 2789.6499023437495, 2771.4499511718755, 2748.9299316406264, 2743.070068359374, 2783.300048828125, 2791.52001953125, 2810.919921874999, 2808.47998046875, 2822.4799804687495, 2832.939941406251, 2832.570068359376, 2824.22998046875, 2854.879882812499, 2800.7099609375, 2798.360107421875, 2818.4599609375014, 2805.3701171875005, 2815.4399414062505, 2834.3999023437495, 2867.1899414062495, 2867.2399902343755, 2873.3999023437505, 2879.389892578125, 2892.7399902343764, 2895.770019531251, 2878.1999511718755, 2888.2099609375, 2888.3200683593736, 2907.4099121093736, 2905.580078125001, 2907.060058593749, 2900.449951171875, 2905.030029296876, 2907.9699707031245, 2933.679931640624, 2927.25, 2926.169921875001, 2939.8798828124986, 2943.030029296876, 2945.830078125001, 2923.729980468749, 2917.520019531251, 2945.639892578124, 2932.469970703125, 2884.050048828125, 2879.419921874999, 2870.719970703124, 2881.3999023437505, 2811.8701171874995, 2834.4099121093755, 2850.959960937499, 2876.320068359375, 2859.5300292968745, 2840.22998046875, 2864.3601074218755, 2856.27001953125, 2822.239990234374, 2826.060058593749, 2802.389892578124, 2783.020019531251, 2788.8601074218764, 2752.06005859375, 2744.4499511718745, 2803.27001953125, 2826.1499023437486, 2843.489990234375, 2873.3400878906236, 2886.7299804687505, 2885.719970703125, 2879.840087890626, 2891.6398925781245, 2886.97998046875, 2889.6699218749995, 2917.749999999999, 2926.4599609375, 2954.179931640626, 2950.459960937501, 2945.350097656251, 2917.3798828124995, 2913.780029296876, 2924.919921875001, 2941.760009765626, 2964.330078124999, 2973.0100097656255, 2995.8200683593736, 2990.409912109374, 2975.9499511718755, 2979.6298828125005, 2993.0700683593745, 2999.909912109376, 3013.7700195312495, 3014.3000488281255, 3004.0400390625014, 2984.419921874999, 2995.1101074218736, 2976.610107421876, 2985.030029296875, 3005.4699707031255, 3019.560058593752, 3003.6699218749986, 3025.8601074218727, 3020.969970703125, 3013.1799316406245, 2980.3798828125014, 2953.5600585937514, 2932.050048828126, 2844.739990234376, 2881.770019531251, 2883.9799804687514, 2938.090087890626, 2918.64990234375, 2882.699951171876, 2926.3200683593745, 2840.60009765625, 2847.6000976562505, 2888.679931640625, 2923.64990234375, 2900.5100097656255, 2924.4299316406255, 2922.949951171876, 2847.1101074218755, 2878.379882812501, 2869.1599121093745, 2887.939941406251, 2924.580078125, 2926.4599609375, 2906.27001953125, 2937.780029296875, 2975.9999999999995, 2978.7099609375, 2978.4299316406255, 2979.389892578124, 3000.929931640623, 3009.5700683593736, 3007.3898925781264, 2997.9599609374995, 3005.6999511718755, 3006.729980468752, 3006.7900390625027, 2992.0700683593773, 2991.7800292968755, 2966.6000976562486, 2984.8701171874986, 2977.620117187501, 2961.7900390624986, 2976.739990234376, 2940.249999999999, 2887.6101074218755, 2910.6298828124986, 2952.010009765626, 2938.7900390625005, 2893.0600585937495, 2919.3999023437495, 2938.1298828125005, 2970.2700195312505, 2966.149902343751, 2995.679931640624, 2989.68994140625, 2997.9499511718727, 2986.1999511718736, 3006.7199707031264, 2995.9899902343773, 3004.52001953125, 3010.2900390624977, 3022.5500488281227, 3039.419921874998, 3036.889892578125, 3046.7700195312505, 3037.5600585937486, 3066.9099121093727, 3078.270019531249, 3074.620117187501, 3076.780029296873, 3085.179931640624, 3093.080078125002, 3087.0100097656227, 3091.8400878906236, 3094.040039062502, 3096.6298828125, 3120.4599609374977]}],\n",
       "                        {\"template\": {\"data\": {\"bar\": [{\"error_x\": {\"color\": \"#2a3f5f\"}, \"error_y\": {\"color\": \"#2a3f5f\"}, \"marker\": {\"line\": {\"color\": \"#E5ECF6\", \"width\": 0.5}}, \"type\": \"bar\"}], \"barpolar\": [{\"marker\": {\"line\": {\"color\": \"#E5ECF6\", \"width\": 0.5}}, \"type\": \"barpolar\"}], \"carpet\": [{\"aaxis\": {\"endlinecolor\": \"#2a3f5f\", \"gridcolor\": \"white\", \"linecolor\": \"white\", \"minorgridcolor\": \"white\", \"startlinecolor\": \"#2a3f5f\"}, \"baxis\": {\"endlinecolor\": \"#2a3f5f\", \"gridcolor\": \"white\", \"linecolor\": \"white\", \"minorgridcolor\": \"white\", \"startlinecolor\": \"#2a3f5f\"}, \"type\": \"carpet\"}], \"choropleth\": [{\"colorbar\": {\"outlinewidth\": 0, \"ticks\": \"\"}, \"type\": \"choropleth\"}], \"contour\": [{\"colorbar\": {\"outlinewidth\": 0, \"ticks\": \"\"}, \"colorscale\": [[0.0, \"#0d0887\"], [0.1111111111111111, \"#46039f\"], [0.2222222222222222, \"#7201a8\"], [0.3333333333333333, \"#9c179e\"], [0.4444444444444444, \"#bd3786\"], [0.5555555555555556, \"#d8576b\"], [0.6666666666666666, \"#ed7953\"], [0.7777777777777778, \"#fb9f3a\"], [0.8888888888888888, \"#fdca26\"], [1.0, \"#f0f921\"]], \"type\": \"contour\"}], \"contourcarpet\": [{\"colorbar\": {\"outlinewidth\": 0, \"ticks\": \"\"}, \"type\": \"contourcarpet\"}], \"heatmap\": [{\"colorbar\": {\"outlinewidth\": 0, \"ticks\": \"\"}, \"colorscale\": [[0.0, \"#0d0887\"], [0.1111111111111111, \"#46039f\"], [0.2222222222222222, \"#7201a8\"], [0.3333333333333333, \"#9c179e\"], [0.4444444444444444, \"#bd3786\"], [0.5555555555555556, \"#d8576b\"], [0.6666666666666666, \"#ed7953\"], [0.7777777777777778, \"#fb9f3a\"], [0.8888888888888888, \"#fdca26\"], [1.0, \"#f0f921\"]], \"type\": \"heatmap\"}], \"heatmapgl\": [{\"colorbar\": {\"outlinewidth\": 0, \"ticks\": \"\"}, \"colorscale\": [[0.0, \"#0d0887\"], [0.1111111111111111, \"#46039f\"], [0.2222222222222222, \"#7201a8\"], [0.3333333333333333, \"#9c179e\"], [0.4444444444444444, \"#bd3786\"], [0.5555555555555556, \"#d8576b\"], [0.6666666666666666, \"#ed7953\"], [0.7777777777777778, \"#fb9f3a\"], [0.8888888888888888, \"#fdca26\"], [1.0, \"#f0f921\"]], \"type\": \"heatmapgl\"}], \"histogram\": [{\"marker\": {\"colorbar\": {\"outlinewidth\": 0, \"ticks\": \"\"}}, \"type\": \"histogram\"}], \"histogram2d\": [{\"colorbar\": {\"outlinewidth\": 0, \"ticks\": \"\"}, \"colorscale\": [[0.0, \"#0d0887\"], [0.1111111111111111, \"#46039f\"], [0.2222222222222222, \"#7201a8\"], [0.3333333333333333, \"#9c179e\"], [0.4444444444444444, \"#bd3786\"], [0.5555555555555556, \"#d8576b\"], [0.6666666666666666, \"#ed7953\"], [0.7777777777777778, \"#fb9f3a\"], [0.8888888888888888, \"#fdca26\"], [1.0, \"#f0f921\"]], \"type\": \"histogram2d\"}], \"histogram2dcontour\": [{\"colorbar\": {\"outlinewidth\": 0, \"ticks\": \"\"}, \"colorscale\": [[0.0, \"#0d0887\"], [0.1111111111111111, \"#46039f\"], [0.2222222222222222, \"#7201a8\"], [0.3333333333333333, \"#9c179e\"], [0.4444444444444444, \"#bd3786\"], [0.5555555555555556, \"#d8576b\"], [0.6666666666666666, \"#ed7953\"], [0.7777777777777778, \"#fb9f3a\"], [0.8888888888888888, \"#fdca26\"], [1.0, \"#f0f921\"]], \"type\": \"histogram2dcontour\"}], \"mesh3d\": [{\"colorbar\": {\"outlinewidth\": 0, \"ticks\": \"\"}, \"type\": \"mesh3d\"}], \"parcoords\": [{\"line\": {\"colorbar\": {\"outlinewidth\": 0, \"ticks\": \"\"}}, \"type\": \"parcoords\"}], \"scatter\": [{\"marker\": {\"colorbar\": {\"outlinewidth\": 0, \"ticks\": \"\"}}, \"type\": \"scatter\"}], \"scatter3d\": [{\"line\": {\"colorbar\": {\"outlinewidth\": 0, \"ticks\": \"\"}}, \"marker\": {\"colorbar\": {\"outlinewidth\": 0, \"ticks\": \"\"}}, \"type\": \"scatter3d\"}], \"scattercarpet\": [{\"marker\": {\"colorbar\": {\"outlinewidth\": 0, \"ticks\": \"\"}}, \"type\": \"scattercarpet\"}], \"scattergeo\": [{\"marker\": {\"colorbar\": {\"outlinewidth\": 0, \"ticks\": \"\"}}, \"type\": \"scattergeo\"}], \"scattergl\": [{\"marker\": {\"colorbar\": {\"outlinewidth\": 0, \"ticks\": \"\"}}, \"type\": \"scattergl\"}], \"scattermapbox\": [{\"marker\": {\"colorbar\": {\"outlinewidth\": 0, \"ticks\": \"\"}}, \"type\": \"scattermapbox\"}], \"scatterpolar\": [{\"marker\": {\"colorbar\": {\"outlinewidth\": 0, \"ticks\": \"\"}}, \"type\": \"scatterpolar\"}], \"scatterpolargl\": [{\"marker\": {\"colorbar\": {\"outlinewidth\": 0, \"ticks\": \"\"}}, \"type\": \"scatterpolargl\"}], \"scatterternary\": [{\"marker\": {\"colorbar\": {\"outlinewidth\": 0, \"ticks\": \"\"}}, \"type\": \"scatterternary\"}], \"surface\": [{\"colorbar\": {\"outlinewidth\": 0, \"ticks\": \"\"}, \"colorscale\": [[0.0, \"#0d0887\"], [0.1111111111111111, \"#46039f\"], [0.2222222222222222, \"#7201a8\"], [0.3333333333333333, \"#9c179e\"], [0.4444444444444444, \"#bd3786\"], [0.5555555555555556, \"#d8576b\"], [0.6666666666666666, \"#ed7953\"], [0.7777777777777778, \"#fb9f3a\"], [0.8888888888888888, \"#fdca26\"], [1.0, \"#f0f921\"]], \"type\": \"surface\"}], \"table\": [{\"cells\": {\"fill\": {\"color\": \"#EBF0F8\"}, \"line\": {\"color\": \"white\"}}, \"header\": {\"fill\": {\"color\": \"#C8D4E3\"}, \"line\": {\"color\": \"white\"}}, \"type\": \"table\"}]}, \"layout\": {\"annotationdefaults\": {\"arrowcolor\": \"#2a3f5f\", \"arrowhead\": 0, \"arrowwidth\": 1}, \"colorscale\": {\"diverging\": [[0, \"#8e0152\"], [0.1, \"#c51b7d\"], [0.2, \"#de77ae\"], [0.3, \"#f1b6da\"], [0.4, \"#fde0ef\"], [0.5, \"#f7f7f7\"], [0.6, \"#e6f5d0\"], [0.7, \"#b8e186\"], [0.8, \"#7fbc41\"], [0.9, \"#4d9221\"], [1, \"#276419\"]], \"sequential\": [[0.0, \"#0d0887\"], [0.1111111111111111, \"#46039f\"], [0.2222222222222222, \"#7201a8\"], [0.3333333333333333, \"#9c179e\"], [0.4444444444444444, \"#bd3786\"], [0.5555555555555556, \"#d8576b\"], [0.6666666666666666, \"#ed7953\"], [0.7777777777777778, \"#fb9f3a\"], [0.8888888888888888, \"#fdca26\"], [1.0, \"#f0f921\"]], \"sequentialminus\": [[0.0, \"#0d0887\"], [0.1111111111111111, \"#46039f\"], [0.2222222222222222, \"#7201a8\"], [0.3333333333333333, \"#9c179e\"], [0.4444444444444444, \"#bd3786\"], [0.5555555555555556, \"#d8576b\"], [0.6666666666666666, \"#ed7953\"], [0.7777777777777778, \"#fb9f3a\"], [0.8888888888888888, \"#fdca26\"], [1.0, \"#f0f921\"]]}, \"colorway\": [\"#636efa\", \"#EF553B\", \"#00cc96\", \"#ab63fa\", \"#FFA15A\", \"#19d3f3\", \"#FF6692\", \"#B6E880\", \"#FF97FF\", \"#FECB52\"], \"font\": {\"color\": \"#2a3f5f\"}, \"geo\": {\"bgcolor\": \"white\", \"lakecolor\": \"white\", \"landcolor\": \"#E5ECF6\", \"showlakes\": true, \"showland\": true, \"subunitcolor\": \"white\"}, \"hoverlabel\": {\"align\": \"left\"}, \"hovermode\": \"closest\", \"mapbox\": {\"style\": \"light\"}, \"paper_bgcolor\": \"white\", \"plot_bgcolor\": \"#E5ECF6\", \"polar\": {\"angularaxis\": {\"gridcolor\": \"white\", \"linecolor\": \"white\", \"ticks\": \"\"}, \"bgcolor\": \"#E5ECF6\", \"radialaxis\": {\"gridcolor\": \"white\", \"linecolor\": \"white\", \"ticks\": \"\"}}, \"scene\": {\"xaxis\": {\"backgroundcolor\": \"#E5ECF6\", \"gridcolor\": \"white\", \"gridwidth\": 2, \"linecolor\": \"white\", \"showbackground\": true, \"ticks\": \"\", \"zerolinecolor\": \"white\"}, \"yaxis\": {\"backgroundcolor\": \"#E5ECF6\", \"gridcolor\": \"white\", \"gridwidth\": 2, \"linecolor\": \"white\", \"showbackground\": true, \"ticks\": \"\", \"zerolinecolor\": \"white\"}, \"zaxis\": {\"backgroundcolor\": \"#E5ECF6\", \"gridcolor\": \"white\", \"gridwidth\": 2, \"linecolor\": \"white\", \"showbackground\": true, \"ticks\": \"\", \"zerolinecolor\": \"white\"}}, \"shapedefaults\": {\"line\": {\"color\": \"#2a3f5f\"}}, \"ternary\": {\"aaxis\": {\"gridcolor\": \"white\", \"linecolor\": \"white\", \"ticks\": \"\"}, \"baxis\": {\"gridcolor\": \"white\", \"linecolor\": \"white\", \"ticks\": \"\"}, \"bgcolor\": \"#E5ECF6\", \"caxis\": {\"gridcolor\": \"white\", \"linecolor\": \"white\", \"ticks\": \"\"}}, \"title\": {\"x\": 0.05}, \"xaxis\": {\"automargin\": true, \"gridcolor\": \"white\", \"linecolor\": \"white\", \"ticks\": \"\", \"zerolinecolor\": \"white\", \"zerolinewidth\": 2}, \"yaxis\": {\"automargin\": true, \"gridcolor\": \"white\", \"linecolor\": \"white\", \"ticks\": \"\", \"zerolinecolor\": \"white\", \"zerolinewidth\": 2}}}},\n",
       "                        {\"responsive\": true}\n",
       "                    ).then(function(){\n",
       "                            \n",
       "var gd = document.getElementById('850c89f1-06b9-463a-b662-a082f0e16723');\n",
       "var x = new MutationObserver(function (mutations, observer) {{\n",
       "        var display = window.getComputedStyle(gd).display;\n",
       "        if (!display || display === 'none') {{\n",
       "            console.log([gd, 'removed!']);\n",
       "            Plotly.purge(gd);\n",
       "            observer.disconnect();\n",
       "        }}\n",
       "}});\n",
       "\n",
       "// Listen for the removal of the full notebook cells\n",
       "var notebookContainer = gd.closest('#notebook-container');\n",
       "if (notebookContainer) {{\n",
       "    x.observe(notebookContainer, {childList: true});\n",
       "}}\n",
       "\n",
       "// Listen for the clearing of the current output cell\n",
       "var outputEl = gd.closest('.output');\n",
       "if (outputEl) {{\n",
       "    x.observe(outputEl, {childList: true});\n",
       "}}\n",
       "\n",
       "                        })\n",
       "                };\n",
       "                });\n",
       "            </script>\n",
       "        </div>"
      ]
     },
     "metadata": {},
     "output_type": "display_data"
    },
    {
     "name": "stdout",
     "output_type": "stream",
     "text": [
      "RMSE: 24.573822\n"
     ]
    }
   ],
   "source": [
    "fig = go.Figure()\n",
    "\n",
    "fig.add_trace(go.Scatter( y = df['Predicted'] ,name = 'Predicted Values'))\n",
    "\n",
    "fig.add_trace(go.Scatter( y = df['True Value'],name = 'Orginal Closing'))\n",
    "\n",
    "fig.show()\n",
    "\n",
    "print('RMSE: %f'%(MSE(np.exp(y_test), np.exp(y_pred)))))"
   ]
  },
  {
   "cell_type": "code",
   "execution_count": 182,
   "metadata": {},
   "outputs": [
    {
     "name": "stdout",
     "output_type": "stream",
     "text": [
      "Epoch 1/20\n",
      "999/999 [==============================] - 0s 296us/step - loss: 2.9356\n",
      "Epoch 2/20\n",
      "999/999 [==============================] - 0s 58us/step - loss: 0.0018\n",
      "Epoch 3/20\n",
      "999/999 [==============================] - 0s 64us/step - loss: 7.6321e-05\n",
      "Epoch 4/20\n",
      "999/999 [==============================] - 0s 59us/step - loss: 7.6943e-05\n",
      "Epoch 5/20\n",
      "999/999 [==============================] - 0s 58us/step - loss: 7.6085e-05\n",
      "Epoch 6/20\n",
      "999/999 [==============================] - 0s 61us/step - loss: 7.7103e-05\n",
      "Epoch 7/20\n",
      "999/999 [==============================] - 0s 60us/step - loss: 7.9432e-05\n",
      "Epoch 8/20\n",
      "999/999 [==============================] - 0s 61us/step - loss: 7.6027e-05\n",
      "Epoch 9/20\n",
      "999/999 [==============================] - 0s 64us/step - loss: 7.7007e-05\n",
      "Epoch 10/20\n",
      "999/999 [==============================] - 0s 80us/step - loss: 8.2967e-05\n",
      "Epoch 11/20\n",
      "999/999 [==============================] - 0s 77us/step - loss: 7.6960e-05\n",
      "Epoch 12/20\n",
      "999/999 [==============================] - 0s 78us/step - loss: 8.3499e-05\n",
      "Epoch 13/20\n",
      "999/999 [==============================] - 0s 68us/step - loss: 8.9311e-05\n",
      "Epoch 14/20\n",
      "999/999 [==============================] - 0s 74us/step - loss: 7.7963e-05\n",
      "Epoch 15/20\n",
      "999/999 [==============================] - 0s 67us/step - loss: 7.6725e-05\n",
      "Epoch 16/20\n",
      "999/999 [==============================] - 0s 77us/step - loss: 8.6734e-05\n",
      "Epoch 17/20\n",
      "999/999 [==============================] - 0s 66us/step - loss: 9.0629e-05\n",
      "Epoch 18/20\n",
      "999/999 [==============================] - 0s 76us/step - loss: 8.0633e-05\n",
      "Epoch 19/20\n",
      "999/999 [==============================] - 0s 66us/step - loss: 8.4855e-05\n",
      "Epoch 20/20\n",
      "999/999 [==============================] - 0s 70us/step - loss: 7.6419e-05\n"
     ]
    },
    {
     "data": {
      "text/plain": [
       "<keras.callbacks.History at 0x1c2e95d4e0>"
      ]
     },
     "execution_count": 182,
     "metadata": {},
     "output_type": "execute_result"
    }
   ],
   "source": [
    "K.clear_session()\n",
    "model = Sequential()\n",
    "model.add(Dense(50, input_shape=(X_test.shape[1],), activation='relu', kernel_initializer='lecun_uniform'))\n",
    "model.add(Dense(50, input_shape=(X_test.shape[1],), activation='relu'))\n",
    "model.add(Dense(50, input_shape=(X_test.shape[1],), activation='relu'))\n",
    "model.add(Dense(50, input_shape=(X_test.shape[1],), activation='relu'))\n",
    "model.add(Dense(1))\n",
    "model.compile(optimizer=Adam(lr=0.001), loss='mean_squared_error')\n",
    "model.fit(X_train, y_train, batch_size=16, epochs=20, verbose=1)\n"
   ]
  },
  {
   "cell_type": "code",
   "execution_count": 183,
   "metadata": {},
   "outputs": [],
   "source": [
    "y_pred  =  model.predict(X_test)\n",
    "\n",
    "pred = pd.DataFrame(np.exp(y_pred),columns= ['Predicted'])\n",
    "true = pd.DataFrame(np.exp(y_test),columns= ['True Value'])\n",
    "df = pd.concat([pred,true],axis = 1)"
   ]
  },
  {
   "cell_type": "code",
   "execution_count": 184,
   "metadata": {},
   "outputs": [
    {
     "data": {
      "application/vnd.plotly.v1+json": {
       "config": {
        "plotlyServerURL": "https://plot.ly"
       },
       "data": [
        {
         "name": "Predicted Values",
         "type": "scatter",
         "y": [
          2419.78125,
          2354.741943359375,
          2470.47265625,
          2491.442626953125,
          2488.378173828125,
          2509.322021484375,
          2512.482666015625,
          2450.81494140625,
          2534.216552734375,
          2551.830810546875,
          2576.353515625,
          2586.8193359375,
          2598.403076171875,
          2598.030029296875,
          2584.4853515625,
          2611.95703125,
          2617.70751953125,
          2637.406982421875,
          2671.8740234375,
          2634.373046875,
          2640.1298828125,
          2643.729248046875,
          2665.97021484375,
          2645.232177734375,
          2641.4169921875,
          2682.120361328125,
          2704.9873046875,
          2707.39013671875,
          2725.576416015625,
          2738.2998046875,
          2732.26220703125,
          2706.91650390625,
          2708.733154296875,
          2710.6337890625,
          2745.269287109375,
          2753.497314453125,
          2746.2578125,
          2775.87548828125,
          2779.994873046875,
          2784.89599609375,
          2775.159423828125,
          2792.795166015625,
          2796.209228515625,
          2794.0166015625,
          2792.5048828125,
          2784.6875,
          2803.7177734375,
          2792.936279296875,
          2789.805908203125,
          2771.75927734375,
          2749.431396484375,
          2743.621826171875,
          2783.506103515625,
          2791.65673828125,
          2810.883544921875,
          2808.468017578125,
          2822.347900390625,
          2832.71484375,
          2832.347412109375,
          2824.083251953125,
          2854.4638671875,
          2800.768798828125,
          2798.43798828125,
          2818.36181640625,
          2805.38818359375,
          2815.371826171875,
          2834.165771484375,
          2866.660888671875,
          2866.71142578125,
          2872.818603515625,
          2878.7548828125,
          2891.982421875,
          2894.983154296875,
          2877.57470703125,
          2887.494384765625,
          2887.60595703125,
          2906.521728515625,
          2904.705322265625,
          2906.173828125,
          2899.6279296875,
          2904.1611328125,
          2907.07470703125,
          2932.55322265625,
          2926.183837890625,
          2925.11376953125,
          2938.698486328125,
          2941.8193359375,
          2944.592529296875,
          2922.69482421875,
          2916.549560546875,
          2944.404296875,
          2931.350830078125,
          2883.36962890625,
          2878.78515625,
          2870.156982421875,
          2880.74462890625,
          2811.830078125,
          2834.172607421875,
          2850.574951171875,
          2875.71337890625,
          2859.068115234375,
          2839.94091796875,
          2863.858642578125,
          2855.8388671875,
          2822.111083984375,
          2825.89501953125,
          2802.433349609375,
          2783.22998046875,
          2789.019775390625,
          2752.53759765625,
          2744.991943359375,
          2803.30078125,
          2825.982666015625,
          2843.172607421875,
          2872.75830078125,
          2886.0283203125,
          2885.028076171875,
          2879.201171875,
          2890.897216796875,
          2886.274658203125,
          2888.944580078125,
          2916.76806640625,
          2925.399658203125,
          2952.861572265625,
          2949.17626953125,
          2944.11376953125,
          2916.40087890625,
          2912.834716796875,
          2923.87548828125,
          2940.56005859375,
          2962.91943359375,
          2971.523193359375,
          2994.12109375,
          2988.76611328125,
          2974.43505859375,
          2978.07958984375,
          2991.398193359375,
          2998.172607421875,
          3011.90283203125,
          3012.428466796875,
          3002.26416015625,
          2982.823486328125,
          2993.415771484375,
          2975.09033203125,
          2983.426513671875,
          3003.678955078125,
          3017.6416015625,
          3001.897705078125,
          3023.88134765625,
          3019.03759765625,
          3011.32275390625,
          2978.82373046875,
          2952.249267578125,
          2930.937255859375,
          2844.407958984375,
          2881.111328125,
          2883.30078125,
          2936.9208984375,
          2917.662353515625,
          2882.034912109375,
          2925.25732421875,
          2840.310791015625,
          2847.244140625,
          2887.959716796875,
          2922.6181640625,
          2899.6845703125,
          2923.388916015625,
          2921.9228515625,
          2846.7607421875,
          2877.74755859375,
          2868.614990234375,
          2887.22998046875,
          2923.540771484375,
          2925.399658203125,
          2905.39111328125,
          2936.618408203125,
          2974.484619140625,
          2977.16650390625,
          2976.89404296875,
          2977.84375,
          2999.190673828125,
          3007.74365234375,
          3005.58740234375,
          2996.24609375,
          3003.9052734375,
          3004.936767578125,
          3004.98828125,
          2990.405517578125,
          2990.120361328125,
          2965.1708984375,
          2983.27001953125,
          2976.0908203125,
          2960.406982421875,
          2975.218017578125,
          2939.064208984375,
          2886.899658203125,
          2909.711181640625,
          2950.71923828125,
          2937.614013671875,
          2892.30224609375,
          2918.405517578125,
          2936.9599609375,
          2968.8095703125,
          2964.72705078125,
          2993.98388671875,
          2988.045166015625,
          2996.22900390625,
          2984.587646484375,
          3004.919677734375,
          2994.28955078125,
          3002.745361328125,
          3008.455078125,
          3020.595703125,
          3037.309326171875,
          3034.8076171875,
          3044.59716796875,
          3035.473388671875,
          3064.5458984375,
          3075.7919921875,
          3072.177490234375,
          3074.31982421875,
          3082.64306640625,
          3090.467041015625,
          3084.45166015625,
          3089.23828125,
          3091.416259765625,
          3093.976318359375
         ]
        },
        {
         "name": "Orginal Closing",
         "type": "scatter",
         "y": [
          2351.1000976562495,
          2467.699951171876,
          2488.830078124999,
          2485.739990234374,
          2506.85009765625,
          2510.030029296875,
          2447.889892578124,
          2531.939941406251,
          2549.689941406251,
          2574.409912109375,
          2584.959960937499,
          2596.639892578124,
          2596.260009765624,
          2582.610107421874,
          2610.300048828124,
          2616.1000976562495,
          2635.9599609375005,
          2670.709960937499,
          2632.899902343751,
          2638.699951171874,
          2642.330078125,
          2664.7600097656245,
          2643.8500976562505,
          2640,
          2681.0500488281236,
          2704.1000976562514,
          2706.5300292968745,
          2724.870117187499,
          2737.6999511718745,
          2731.610107421876,
          2706.050048828125,
          2707.8798828125005,
          2709.800048828124,
          2744.729980468749,
          2753.0300292968745,
          2745.72998046875,
          2775.6000976562514,
          2779.760009765625,
          2784.699951171875,
          2774.8798828124986,
          2792.6699218750005,
          2796.1101074218755,
          2793.89990234375,
          2792.3798828125,
          2784.489990234375,
          2803.689941406251,
          2792.8100585937505,
          2789.6499023437495,
          2771.4499511718755,
          2748.9299316406264,
          2743.070068359374,
          2783.300048828125,
          2791.52001953125,
          2810.919921874999,
          2808.47998046875,
          2822.4799804687495,
          2832.939941406251,
          2832.570068359376,
          2824.22998046875,
          2854.879882812499,
          2800.7099609375,
          2798.360107421875,
          2818.4599609375014,
          2805.3701171875005,
          2815.4399414062505,
          2834.3999023437495,
          2867.1899414062495,
          2867.2399902343755,
          2873.3999023437505,
          2879.389892578125,
          2892.7399902343764,
          2895.770019531251,
          2878.1999511718755,
          2888.2099609375,
          2888.3200683593736,
          2907.4099121093736,
          2905.580078125001,
          2907.060058593749,
          2900.449951171875,
          2905.030029296876,
          2907.9699707031245,
          2933.679931640624,
          2927.25,
          2926.169921875001,
          2939.8798828124986,
          2943.030029296876,
          2945.830078125001,
          2923.729980468749,
          2917.520019531251,
          2945.639892578124,
          2932.469970703125,
          2884.050048828125,
          2879.419921874999,
          2870.719970703124,
          2881.3999023437505,
          2811.8701171874995,
          2834.4099121093755,
          2850.959960937499,
          2876.320068359375,
          2859.5300292968745,
          2840.22998046875,
          2864.3601074218755,
          2856.27001953125,
          2822.239990234374,
          2826.060058593749,
          2802.389892578124,
          2783.020019531251,
          2788.8601074218764,
          2752.06005859375,
          2744.4499511718745,
          2803.27001953125,
          2826.1499023437486,
          2843.489990234375,
          2873.3400878906236,
          2886.7299804687505,
          2885.719970703125,
          2879.840087890626,
          2891.6398925781245,
          2886.97998046875,
          2889.6699218749995,
          2917.749999999999,
          2926.4599609375,
          2954.179931640626,
          2950.459960937501,
          2945.350097656251,
          2917.3798828124995,
          2913.780029296876,
          2924.919921875001,
          2941.760009765626,
          2964.330078124999,
          2973.0100097656255,
          2995.8200683593736,
          2990.409912109374,
          2975.9499511718755,
          2979.6298828125005,
          2993.0700683593745,
          2999.909912109376,
          3013.7700195312495,
          3014.3000488281255,
          3004.0400390625014,
          2984.419921874999,
          2995.1101074218736,
          2976.610107421876,
          2985.030029296875,
          3005.4699707031255,
          3019.560058593752,
          3003.6699218749986,
          3025.8601074218727,
          3020.969970703125,
          3013.1799316406245,
          2980.3798828125014,
          2953.5600585937514,
          2932.050048828126,
          2844.739990234376,
          2881.770019531251,
          2883.9799804687514,
          2938.090087890626,
          2918.64990234375,
          2882.699951171876,
          2926.3200683593745,
          2840.60009765625,
          2847.6000976562505,
          2888.679931640625,
          2923.64990234375,
          2900.5100097656255,
          2924.4299316406255,
          2922.949951171876,
          2847.1101074218755,
          2878.379882812501,
          2869.1599121093745,
          2887.939941406251,
          2924.580078125,
          2926.4599609375,
          2906.27001953125,
          2937.780029296875,
          2975.9999999999995,
          2978.7099609375,
          2978.4299316406255,
          2979.389892578124,
          3000.929931640623,
          3009.5700683593736,
          3007.3898925781264,
          2997.9599609374995,
          3005.6999511718755,
          3006.729980468752,
          3006.7900390625027,
          2992.0700683593773,
          2991.7800292968755,
          2966.6000976562486,
          2984.8701171874986,
          2977.620117187501,
          2961.7900390624986,
          2976.739990234376,
          2940.249999999999,
          2887.6101074218755,
          2910.6298828124986,
          2952.010009765626,
          2938.7900390625005,
          2893.0600585937495,
          2919.3999023437495,
          2938.1298828125005,
          2970.2700195312505,
          2966.149902343751,
          2995.679931640624,
          2989.68994140625,
          2997.9499511718727,
          2986.1999511718736,
          3006.7199707031264,
          2995.9899902343773,
          3004.52001953125,
          3010.2900390624977,
          3022.5500488281227,
          3039.419921874998,
          3036.889892578125,
          3046.7700195312505,
          3037.5600585937486,
          3066.9099121093727,
          3078.270019531249,
          3074.620117187501,
          3076.780029296873,
          3085.179931640624,
          3093.080078125002,
          3087.0100097656227,
          3091.8400878906236,
          3094.040039062502,
          3096.6298828125,
          3120.4599609374977
         ]
        }
       ],
       "layout": {
        "template": {
         "data": {
          "bar": [
           {
            "error_x": {
             "color": "#2a3f5f"
            },
            "error_y": {
             "color": "#2a3f5f"
            },
            "marker": {
             "line": {
              "color": "#E5ECF6",
              "width": 0.5
             }
            },
            "type": "bar"
           }
          ],
          "barpolar": [
           {
            "marker": {
             "line": {
              "color": "#E5ECF6",
              "width": 0.5
             }
            },
            "type": "barpolar"
           }
          ],
          "carpet": [
           {
            "aaxis": {
             "endlinecolor": "#2a3f5f",
             "gridcolor": "white",
             "linecolor": "white",
             "minorgridcolor": "white",
             "startlinecolor": "#2a3f5f"
            },
            "baxis": {
             "endlinecolor": "#2a3f5f",
             "gridcolor": "white",
             "linecolor": "white",
             "minorgridcolor": "white",
             "startlinecolor": "#2a3f5f"
            },
            "type": "carpet"
           }
          ],
          "choropleth": [
           {
            "colorbar": {
             "outlinewidth": 0,
             "ticks": ""
            },
            "type": "choropleth"
           }
          ],
          "contour": [
           {
            "colorbar": {
             "outlinewidth": 0,
             "ticks": ""
            },
            "colorscale": [
             [
              0,
              "#0d0887"
             ],
             [
              0.1111111111111111,
              "#46039f"
             ],
             [
              0.2222222222222222,
              "#7201a8"
             ],
             [
              0.3333333333333333,
              "#9c179e"
             ],
             [
              0.4444444444444444,
              "#bd3786"
             ],
             [
              0.5555555555555556,
              "#d8576b"
             ],
             [
              0.6666666666666666,
              "#ed7953"
             ],
             [
              0.7777777777777778,
              "#fb9f3a"
             ],
             [
              0.8888888888888888,
              "#fdca26"
             ],
             [
              1,
              "#f0f921"
             ]
            ],
            "type": "contour"
           }
          ],
          "contourcarpet": [
           {
            "colorbar": {
             "outlinewidth": 0,
             "ticks": ""
            },
            "type": "contourcarpet"
           }
          ],
          "heatmap": [
           {
            "colorbar": {
             "outlinewidth": 0,
             "ticks": ""
            },
            "colorscale": [
             [
              0,
              "#0d0887"
             ],
             [
              0.1111111111111111,
              "#46039f"
             ],
             [
              0.2222222222222222,
              "#7201a8"
             ],
             [
              0.3333333333333333,
              "#9c179e"
             ],
             [
              0.4444444444444444,
              "#bd3786"
             ],
             [
              0.5555555555555556,
              "#d8576b"
             ],
             [
              0.6666666666666666,
              "#ed7953"
             ],
             [
              0.7777777777777778,
              "#fb9f3a"
             ],
             [
              0.8888888888888888,
              "#fdca26"
             ],
             [
              1,
              "#f0f921"
             ]
            ],
            "type": "heatmap"
           }
          ],
          "heatmapgl": [
           {
            "colorbar": {
             "outlinewidth": 0,
             "ticks": ""
            },
            "colorscale": [
             [
              0,
              "#0d0887"
             ],
             [
              0.1111111111111111,
              "#46039f"
             ],
             [
              0.2222222222222222,
              "#7201a8"
             ],
             [
              0.3333333333333333,
              "#9c179e"
             ],
             [
              0.4444444444444444,
              "#bd3786"
             ],
             [
              0.5555555555555556,
              "#d8576b"
             ],
             [
              0.6666666666666666,
              "#ed7953"
             ],
             [
              0.7777777777777778,
              "#fb9f3a"
             ],
             [
              0.8888888888888888,
              "#fdca26"
             ],
             [
              1,
              "#f0f921"
             ]
            ],
            "type": "heatmapgl"
           }
          ],
          "histogram": [
           {
            "marker": {
             "colorbar": {
              "outlinewidth": 0,
              "ticks": ""
             }
            },
            "type": "histogram"
           }
          ],
          "histogram2d": [
           {
            "colorbar": {
             "outlinewidth": 0,
             "ticks": ""
            },
            "colorscale": [
             [
              0,
              "#0d0887"
             ],
             [
              0.1111111111111111,
              "#46039f"
             ],
             [
              0.2222222222222222,
              "#7201a8"
             ],
             [
              0.3333333333333333,
              "#9c179e"
             ],
             [
              0.4444444444444444,
              "#bd3786"
             ],
             [
              0.5555555555555556,
              "#d8576b"
             ],
             [
              0.6666666666666666,
              "#ed7953"
             ],
             [
              0.7777777777777778,
              "#fb9f3a"
             ],
             [
              0.8888888888888888,
              "#fdca26"
             ],
             [
              1,
              "#f0f921"
             ]
            ],
            "type": "histogram2d"
           }
          ],
          "histogram2dcontour": [
           {
            "colorbar": {
             "outlinewidth": 0,
             "ticks": ""
            },
            "colorscale": [
             [
              0,
              "#0d0887"
             ],
             [
              0.1111111111111111,
              "#46039f"
             ],
             [
              0.2222222222222222,
              "#7201a8"
             ],
             [
              0.3333333333333333,
              "#9c179e"
             ],
             [
              0.4444444444444444,
              "#bd3786"
             ],
             [
              0.5555555555555556,
              "#d8576b"
             ],
             [
              0.6666666666666666,
              "#ed7953"
             ],
             [
              0.7777777777777778,
              "#fb9f3a"
             ],
             [
              0.8888888888888888,
              "#fdca26"
             ],
             [
              1,
              "#f0f921"
             ]
            ],
            "type": "histogram2dcontour"
           }
          ],
          "mesh3d": [
           {
            "colorbar": {
             "outlinewidth": 0,
             "ticks": ""
            },
            "type": "mesh3d"
           }
          ],
          "parcoords": [
           {
            "line": {
             "colorbar": {
              "outlinewidth": 0,
              "ticks": ""
             }
            },
            "type": "parcoords"
           }
          ],
          "scatter": [
           {
            "marker": {
             "colorbar": {
              "outlinewidth": 0,
              "ticks": ""
             }
            },
            "type": "scatter"
           }
          ],
          "scatter3d": [
           {
            "line": {
             "colorbar": {
              "outlinewidth": 0,
              "ticks": ""
             }
            },
            "marker": {
             "colorbar": {
              "outlinewidth": 0,
              "ticks": ""
             }
            },
            "type": "scatter3d"
           }
          ],
          "scattercarpet": [
           {
            "marker": {
             "colorbar": {
              "outlinewidth": 0,
              "ticks": ""
             }
            },
            "type": "scattercarpet"
           }
          ],
          "scattergeo": [
           {
            "marker": {
             "colorbar": {
              "outlinewidth": 0,
              "ticks": ""
             }
            },
            "type": "scattergeo"
           }
          ],
          "scattergl": [
           {
            "marker": {
             "colorbar": {
              "outlinewidth": 0,
              "ticks": ""
             }
            },
            "type": "scattergl"
           }
          ],
          "scattermapbox": [
           {
            "marker": {
             "colorbar": {
              "outlinewidth": 0,
              "ticks": ""
             }
            },
            "type": "scattermapbox"
           }
          ],
          "scatterpolar": [
           {
            "marker": {
             "colorbar": {
              "outlinewidth": 0,
              "ticks": ""
             }
            },
            "type": "scatterpolar"
           }
          ],
          "scatterpolargl": [
           {
            "marker": {
             "colorbar": {
              "outlinewidth": 0,
              "ticks": ""
             }
            },
            "type": "scatterpolargl"
           }
          ],
          "scatterternary": [
           {
            "marker": {
             "colorbar": {
              "outlinewidth": 0,
              "ticks": ""
             }
            },
            "type": "scatterternary"
           }
          ],
          "surface": [
           {
            "colorbar": {
             "outlinewidth": 0,
             "ticks": ""
            },
            "colorscale": [
             [
              0,
              "#0d0887"
             ],
             [
              0.1111111111111111,
              "#46039f"
             ],
             [
              0.2222222222222222,
              "#7201a8"
             ],
             [
              0.3333333333333333,
              "#9c179e"
             ],
             [
              0.4444444444444444,
              "#bd3786"
             ],
             [
              0.5555555555555556,
              "#d8576b"
             ],
             [
              0.6666666666666666,
              "#ed7953"
             ],
             [
              0.7777777777777778,
              "#fb9f3a"
             ],
             [
              0.8888888888888888,
              "#fdca26"
             ],
             [
              1,
              "#f0f921"
             ]
            ],
            "type": "surface"
           }
          ],
          "table": [
           {
            "cells": {
             "fill": {
              "color": "#EBF0F8"
             },
             "line": {
              "color": "white"
             }
            },
            "header": {
             "fill": {
              "color": "#C8D4E3"
             },
             "line": {
              "color": "white"
             }
            },
            "type": "table"
           }
          ]
         },
         "layout": {
          "annotationdefaults": {
           "arrowcolor": "#2a3f5f",
           "arrowhead": 0,
           "arrowwidth": 1
          },
          "colorscale": {
           "diverging": [
            [
             0,
             "#8e0152"
            ],
            [
             0.1,
             "#c51b7d"
            ],
            [
             0.2,
             "#de77ae"
            ],
            [
             0.3,
             "#f1b6da"
            ],
            [
             0.4,
             "#fde0ef"
            ],
            [
             0.5,
             "#f7f7f7"
            ],
            [
             0.6,
             "#e6f5d0"
            ],
            [
             0.7,
             "#b8e186"
            ],
            [
             0.8,
             "#7fbc41"
            ],
            [
             0.9,
             "#4d9221"
            ],
            [
             1,
             "#276419"
            ]
           ],
           "sequential": [
            [
             0,
             "#0d0887"
            ],
            [
             0.1111111111111111,
             "#46039f"
            ],
            [
             0.2222222222222222,
             "#7201a8"
            ],
            [
             0.3333333333333333,
             "#9c179e"
            ],
            [
             0.4444444444444444,
             "#bd3786"
            ],
            [
             0.5555555555555556,
             "#d8576b"
            ],
            [
             0.6666666666666666,
             "#ed7953"
            ],
            [
             0.7777777777777778,
             "#fb9f3a"
            ],
            [
             0.8888888888888888,
             "#fdca26"
            ],
            [
             1,
             "#f0f921"
            ]
           ],
           "sequentialminus": [
            [
             0,
             "#0d0887"
            ],
            [
             0.1111111111111111,
             "#46039f"
            ],
            [
             0.2222222222222222,
             "#7201a8"
            ],
            [
             0.3333333333333333,
             "#9c179e"
            ],
            [
             0.4444444444444444,
             "#bd3786"
            ],
            [
             0.5555555555555556,
             "#d8576b"
            ],
            [
             0.6666666666666666,
             "#ed7953"
            ],
            [
             0.7777777777777778,
             "#fb9f3a"
            ],
            [
             0.8888888888888888,
             "#fdca26"
            ],
            [
             1,
             "#f0f921"
            ]
           ]
          },
          "colorway": [
           "#636efa",
           "#EF553B",
           "#00cc96",
           "#ab63fa",
           "#FFA15A",
           "#19d3f3",
           "#FF6692",
           "#B6E880",
           "#FF97FF",
           "#FECB52"
          ],
          "font": {
           "color": "#2a3f5f"
          },
          "geo": {
           "bgcolor": "white",
           "lakecolor": "white",
           "landcolor": "#E5ECF6",
           "showlakes": true,
           "showland": true,
           "subunitcolor": "white"
          },
          "hoverlabel": {
           "align": "left"
          },
          "hovermode": "closest",
          "mapbox": {
           "style": "light"
          },
          "paper_bgcolor": "white",
          "plot_bgcolor": "#E5ECF6",
          "polar": {
           "angularaxis": {
            "gridcolor": "white",
            "linecolor": "white",
            "ticks": ""
           },
           "bgcolor": "#E5ECF6",
           "radialaxis": {
            "gridcolor": "white",
            "linecolor": "white",
            "ticks": ""
           }
          },
          "scene": {
           "xaxis": {
            "backgroundcolor": "#E5ECF6",
            "gridcolor": "white",
            "gridwidth": 2,
            "linecolor": "white",
            "showbackground": true,
            "ticks": "",
            "zerolinecolor": "white"
           },
           "yaxis": {
            "backgroundcolor": "#E5ECF6",
            "gridcolor": "white",
            "gridwidth": 2,
            "linecolor": "white",
            "showbackground": true,
            "ticks": "",
            "zerolinecolor": "white"
           },
           "zaxis": {
            "backgroundcolor": "#E5ECF6",
            "gridcolor": "white",
            "gridwidth": 2,
            "linecolor": "white",
            "showbackground": true,
            "ticks": "",
            "zerolinecolor": "white"
           }
          },
          "shapedefaults": {
           "line": {
            "color": "#2a3f5f"
           }
          },
          "ternary": {
           "aaxis": {
            "gridcolor": "white",
            "linecolor": "white",
            "ticks": ""
           },
           "baxis": {
            "gridcolor": "white",
            "linecolor": "white",
            "ticks": ""
           },
           "bgcolor": "#E5ECF6",
           "caxis": {
            "gridcolor": "white",
            "linecolor": "white",
            "ticks": ""
           }
          },
          "title": {
           "x": 0.05
          },
          "xaxis": {
           "automargin": true,
           "gridcolor": "white",
           "linecolor": "white",
           "ticks": "",
           "zerolinecolor": "white",
           "zerolinewidth": 2
          },
          "yaxis": {
           "automargin": true,
           "gridcolor": "white",
           "linecolor": "white",
           "ticks": "",
           "zerolinecolor": "white",
           "zerolinewidth": 2
          }
         }
        }
       }
      },
      "text/html": [
       "<div>\n",
       "        \n",
       "        \n",
       "            <div id=\"6f552fdb-041d-466c-ba0d-6efac88da9cf\" class=\"plotly-graph-div\" style=\"height:525px; width:100%;\"></div>\n",
       "            <script type=\"text/javascript\">\n",
       "                require([\"plotly\"], function(Plotly) {\n",
       "                    window.PLOTLYENV=window.PLOTLYENV || {};\n",
       "                    \n",
       "                if (document.getElementById(\"6f552fdb-041d-466c-ba0d-6efac88da9cf\")) {\n",
       "                    Plotly.newPlot(\n",
       "                        '6f552fdb-041d-466c-ba0d-6efac88da9cf',\n",
       "                        [{\"name\": \"Predicted Values\", \"type\": \"scatter\", \"y\": [2419.78125, 2354.741943359375, 2470.47265625, 2491.442626953125, 2488.378173828125, 2509.322021484375, 2512.482666015625, 2450.81494140625, 2534.216552734375, 2551.830810546875, 2576.353515625, 2586.8193359375, 2598.403076171875, 2598.030029296875, 2584.4853515625, 2611.95703125, 2617.70751953125, 2637.406982421875, 2671.8740234375, 2634.373046875, 2640.1298828125, 2643.729248046875, 2665.97021484375, 2645.232177734375, 2641.4169921875, 2682.120361328125, 2704.9873046875, 2707.39013671875, 2725.576416015625, 2738.2998046875, 2732.26220703125, 2706.91650390625, 2708.733154296875, 2710.6337890625, 2745.269287109375, 2753.497314453125, 2746.2578125, 2775.87548828125, 2779.994873046875, 2784.89599609375, 2775.159423828125, 2792.795166015625, 2796.209228515625, 2794.0166015625, 2792.5048828125, 2784.6875, 2803.7177734375, 2792.936279296875, 2789.805908203125, 2771.75927734375, 2749.431396484375, 2743.621826171875, 2783.506103515625, 2791.65673828125, 2810.883544921875, 2808.468017578125, 2822.347900390625, 2832.71484375, 2832.347412109375, 2824.083251953125, 2854.4638671875, 2800.768798828125, 2798.43798828125, 2818.36181640625, 2805.38818359375, 2815.371826171875, 2834.165771484375, 2866.660888671875, 2866.71142578125, 2872.818603515625, 2878.7548828125, 2891.982421875, 2894.983154296875, 2877.57470703125, 2887.494384765625, 2887.60595703125, 2906.521728515625, 2904.705322265625, 2906.173828125, 2899.6279296875, 2904.1611328125, 2907.07470703125, 2932.55322265625, 2926.183837890625, 2925.11376953125, 2938.698486328125, 2941.8193359375, 2944.592529296875, 2922.69482421875, 2916.549560546875, 2944.404296875, 2931.350830078125, 2883.36962890625, 2878.78515625, 2870.156982421875, 2880.74462890625, 2811.830078125, 2834.172607421875, 2850.574951171875, 2875.71337890625, 2859.068115234375, 2839.94091796875, 2863.858642578125, 2855.8388671875, 2822.111083984375, 2825.89501953125, 2802.433349609375, 2783.22998046875, 2789.019775390625, 2752.53759765625, 2744.991943359375, 2803.30078125, 2825.982666015625, 2843.172607421875, 2872.75830078125, 2886.0283203125, 2885.028076171875, 2879.201171875, 2890.897216796875, 2886.274658203125, 2888.944580078125, 2916.76806640625, 2925.399658203125, 2952.861572265625, 2949.17626953125, 2944.11376953125, 2916.40087890625, 2912.834716796875, 2923.87548828125, 2940.56005859375, 2962.91943359375, 2971.523193359375, 2994.12109375, 2988.76611328125, 2974.43505859375, 2978.07958984375, 2991.398193359375, 2998.172607421875, 3011.90283203125, 3012.428466796875, 3002.26416015625, 2982.823486328125, 2993.415771484375, 2975.09033203125, 2983.426513671875, 3003.678955078125, 3017.6416015625, 3001.897705078125, 3023.88134765625, 3019.03759765625, 3011.32275390625, 2978.82373046875, 2952.249267578125, 2930.937255859375, 2844.407958984375, 2881.111328125, 2883.30078125, 2936.9208984375, 2917.662353515625, 2882.034912109375, 2925.25732421875, 2840.310791015625, 2847.244140625, 2887.959716796875, 2922.6181640625, 2899.6845703125, 2923.388916015625, 2921.9228515625, 2846.7607421875, 2877.74755859375, 2868.614990234375, 2887.22998046875, 2923.540771484375, 2925.399658203125, 2905.39111328125, 2936.618408203125, 2974.484619140625, 2977.16650390625, 2976.89404296875, 2977.84375, 2999.190673828125, 3007.74365234375, 3005.58740234375, 2996.24609375, 3003.9052734375, 3004.936767578125, 3004.98828125, 2990.405517578125, 2990.120361328125, 2965.1708984375, 2983.27001953125, 2976.0908203125, 2960.406982421875, 2975.218017578125, 2939.064208984375, 2886.899658203125, 2909.711181640625, 2950.71923828125, 2937.614013671875, 2892.30224609375, 2918.405517578125, 2936.9599609375, 2968.8095703125, 2964.72705078125, 2993.98388671875, 2988.045166015625, 2996.22900390625, 2984.587646484375, 3004.919677734375, 2994.28955078125, 3002.745361328125, 3008.455078125, 3020.595703125, 3037.309326171875, 3034.8076171875, 3044.59716796875, 3035.473388671875, 3064.5458984375, 3075.7919921875, 3072.177490234375, 3074.31982421875, 3082.64306640625, 3090.467041015625, 3084.45166015625, 3089.23828125, 3091.416259765625, 3093.976318359375]}, {\"name\": \"Orginal Closing\", \"type\": \"scatter\", \"y\": [2351.1000976562495, 2467.699951171876, 2488.830078124999, 2485.739990234374, 2506.85009765625, 2510.030029296875, 2447.889892578124, 2531.939941406251, 2549.689941406251, 2574.409912109375, 2584.959960937499, 2596.639892578124, 2596.260009765624, 2582.610107421874, 2610.300048828124, 2616.1000976562495, 2635.9599609375005, 2670.709960937499, 2632.899902343751, 2638.699951171874, 2642.330078125, 2664.7600097656245, 2643.8500976562505, 2640.0, 2681.0500488281236, 2704.1000976562514, 2706.5300292968745, 2724.870117187499, 2737.6999511718745, 2731.610107421876, 2706.050048828125, 2707.8798828125005, 2709.800048828124, 2744.729980468749, 2753.0300292968745, 2745.72998046875, 2775.6000976562514, 2779.760009765625, 2784.699951171875, 2774.8798828124986, 2792.6699218750005, 2796.1101074218755, 2793.89990234375, 2792.3798828125, 2784.489990234375, 2803.689941406251, 2792.8100585937505, 2789.6499023437495, 2771.4499511718755, 2748.9299316406264, 2743.070068359374, 2783.300048828125, 2791.52001953125, 2810.919921874999, 2808.47998046875, 2822.4799804687495, 2832.939941406251, 2832.570068359376, 2824.22998046875, 2854.879882812499, 2800.7099609375, 2798.360107421875, 2818.4599609375014, 2805.3701171875005, 2815.4399414062505, 2834.3999023437495, 2867.1899414062495, 2867.2399902343755, 2873.3999023437505, 2879.389892578125, 2892.7399902343764, 2895.770019531251, 2878.1999511718755, 2888.2099609375, 2888.3200683593736, 2907.4099121093736, 2905.580078125001, 2907.060058593749, 2900.449951171875, 2905.030029296876, 2907.9699707031245, 2933.679931640624, 2927.25, 2926.169921875001, 2939.8798828124986, 2943.030029296876, 2945.830078125001, 2923.729980468749, 2917.520019531251, 2945.639892578124, 2932.469970703125, 2884.050048828125, 2879.419921874999, 2870.719970703124, 2881.3999023437505, 2811.8701171874995, 2834.4099121093755, 2850.959960937499, 2876.320068359375, 2859.5300292968745, 2840.22998046875, 2864.3601074218755, 2856.27001953125, 2822.239990234374, 2826.060058593749, 2802.389892578124, 2783.020019531251, 2788.8601074218764, 2752.06005859375, 2744.4499511718745, 2803.27001953125, 2826.1499023437486, 2843.489990234375, 2873.3400878906236, 2886.7299804687505, 2885.719970703125, 2879.840087890626, 2891.6398925781245, 2886.97998046875, 2889.6699218749995, 2917.749999999999, 2926.4599609375, 2954.179931640626, 2950.459960937501, 2945.350097656251, 2917.3798828124995, 2913.780029296876, 2924.919921875001, 2941.760009765626, 2964.330078124999, 2973.0100097656255, 2995.8200683593736, 2990.409912109374, 2975.9499511718755, 2979.6298828125005, 2993.0700683593745, 2999.909912109376, 3013.7700195312495, 3014.3000488281255, 3004.0400390625014, 2984.419921874999, 2995.1101074218736, 2976.610107421876, 2985.030029296875, 3005.4699707031255, 3019.560058593752, 3003.6699218749986, 3025.8601074218727, 3020.969970703125, 3013.1799316406245, 2980.3798828125014, 2953.5600585937514, 2932.050048828126, 2844.739990234376, 2881.770019531251, 2883.9799804687514, 2938.090087890626, 2918.64990234375, 2882.699951171876, 2926.3200683593745, 2840.60009765625, 2847.6000976562505, 2888.679931640625, 2923.64990234375, 2900.5100097656255, 2924.4299316406255, 2922.949951171876, 2847.1101074218755, 2878.379882812501, 2869.1599121093745, 2887.939941406251, 2924.580078125, 2926.4599609375, 2906.27001953125, 2937.780029296875, 2975.9999999999995, 2978.7099609375, 2978.4299316406255, 2979.389892578124, 3000.929931640623, 3009.5700683593736, 3007.3898925781264, 2997.9599609374995, 3005.6999511718755, 3006.729980468752, 3006.7900390625027, 2992.0700683593773, 2991.7800292968755, 2966.6000976562486, 2984.8701171874986, 2977.620117187501, 2961.7900390624986, 2976.739990234376, 2940.249999999999, 2887.6101074218755, 2910.6298828124986, 2952.010009765626, 2938.7900390625005, 2893.0600585937495, 2919.3999023437495, 2938.1298828125005, 2970.2700195312505, 2966.149902343751, 2995.679931640624, 2989.68994140625, 2997.9499511718727, 2986.1999511718736, 3006.7199707031264, 2995.9899902343773, 3004.52001953125, 3010.2900390624977, 3022.5500488281227, 3039.419921874998, 3036.889892578125, 3046.7700195312505, 3037.5600585937486, 3066.9099121093727, 3078.270019531249, 3074.620117187501, 3076.780029296873, 3085.179931640624, 3093.080078125002, 3087.0100097656227, 3091.8400878906236, 3094.040039062502, 3096.6298828125, 3120.4599609374977]}],\n",
       "                        {\"template\": {\"data\": {\"bar\": [{\"error_x\": {\"color\": \"#2a3f5f\"}, \"error_y\": {\"color\": \"#2a3f5f\"}, \"marker\": {\"line\": {\"color\": \"#E5ECF6\", \"width\": 0.5}}, \"type\": \"bar\"}], \"barpolar\": [{\"marker\": {\"line\": {\"color\": \"#E5ECF6\", \"width\": 0.5}}, \"type\": \"barpolar\"}], \"carpet\": [{\"aaxis\": {\"endlinecolor\": \"#2a3f5f\", \"gridcolor\": \"white\", \"linecolor\": \"white\", \"minorgridcolor\": \"white\", \"startlinecolor\": \"#2a3f5f\"}, \"baxis\": {\"endlinecolor\": \"#2a3f5f\", \"gridcolor\": \"white\", \"linecolor\": \"white\", \"minorgridcolor\": \"white\", \"startlinecolor\": \"#2a3f5f\"}, \"type\": \"carpet\"}], \"choropleth\": [{\"colorbar\": {\"outlinewidth\": 0, \"ticks\": \"\"}, \"type\": \"choropleth\"}], \"contour\": [{\"colorbar\": {\"outlinewidth\": 0, \"ticks\": \"\"}, \"colorscale\": [[0.0, \"#0d0887\"], [0.1111111111111111, \"#46039f\"], [0.2222222222222222, \"#7201a8\"], [0.3333333333333333, \"#9c179e\"], [0.4444444444444444, \"#bd3786\"], [0.5555555555555556, \"#d8576b\"], [0.6666666666666666, \"#ed7953\"], [0.7777777777777778, \"#fb9f3a\"], [0.8888888888888888, \"#fdca26\"], [1.0, \"#f0f921\"]], \"type\": \"contour\"}], \"contourcarpet\": [{\"colorbar\": {\"outlinewidth\": 0, \"ticks\": \"\"}, \"type\": \"contourcarpet\"}], \"heatmap\": [{\"colorbar\": {\"outlinewidth\": 0, \"ticks\": \"\"}, \"colorscale\": [[0.0, \"#0d0887\"], [0.1111111111111111, \"#46039f\"], [0.2222222222222222, \"#7201a8\"], [0.3333333333333333, \"#9c179e\"], [0.4444444444444444, \"#bd3786\"], [0.5555555555555556, \"#d8576b\"], [0.6666666666666666, \"#ed7953\"], [0.7777777777777778, \"#fb9f3a\"], [0.8888888888888888, \"#fdca26\"], [1.0, \"#f0f921\"]], \"type\": \"heatmap\"}], \"heatmapgl\": [{\"colorbar\": {\"outlinewidth\": 0, \"ticks\": \"\"}, \"colorscale\": [[0.0, \"#0d0887\"], [0.1111111111111111, \"#46039f\"], [0.2222222222222222, \"#7201a8\"], [0.3333333333333333, \"#9c179e\"], [0.4444444444444444, \"#bd3786\"], [0.5555555555555556, \"#d8576b\"], [0.6666666666666666, \"#ed7953\"], [0.7777777777777778, \"#fb9f3a\"], [0.8888888888888888, \"#fdca26\"], [1.0, \"#f0f921\"]], \"type\": \"heatmapgl\"}], \"histogram\": [{\"marker\": {\"colorbar\": {\"outlinewidth\": 0, \"ticks\": \"\"}}, \"type\": \"histogram\"}], \"histogram2d\": [{\"colorbar\": {\"outlinewidth\": 0, \"ticks\": \"\"}, \"colorscale\": [[0.0, \"#0d0887\"], [0.1111111111111111, \"#46039f\"], [0.2222222222222222, \"#7201a8\"], [0.3333333333333333, \"#9c179e\"], [0.4444444444444444, \"#bd3786\"], [0.5555555555555556, \"#d8576b\"], [0.6666666666666666, \"#ed7953\"], [0.7777777777777778, \"#fb9f3a\"], [0.8888888888888888, \"#fdca26\"], [1.0, \"#f0f921\"]], \"type\": \"histogram2d\"}], \"histogram2dcontour\": [{\"colorbar\": {\"outlinewidth\": 0, \"ticks\": \"\"}, \"colorscale\": [[0.0, \"#0d0887\"], [0.1111111111111111, \"#46039f\"], [0.2222222222222222, \"#7201a8\"], [0.3333333333333333, \"#9c179e\"], [0.4444444444444444, \"#bd3786\"], [0.5555555555555556, \"#d8576b\"], [0.6666666666666666, \"#ed7953\"], [0.7777777777777778, \"#fb9f3a\"], [0.8888888888888888, \"#fdca26\"], [1.0, \"#f0f921\"]], \"type\": \"histogram2dcontour\"}], \"mesh3d\": [{\"colorbar\": {\"outlinewidth\": 0, \"ticks\": \"\"}, \"type\": \"mesh3d\"}], \"parcoords\": [{\"line\": {\"colorbar\": {\"outlinewidth\": 0, \"ticks\": \"\"}}, \"type\": \"parcoords\"}], \"scatter\": [{\"marker\": {\"colorbar\": {\"outlinewidth\": 0, \"ticks\": \"\"}}, \"type\": \"scatter\"}], \"scatter3d\": [{\"line\": {\"colorbar\": {\"outlinewidth\": 0, \"ticks\": \"\"}}, \"marker\": {\"colorbar\": {\"outlinewidth\": 0, \"ticks\": \"\"}}, \"type\": \"scatter3d\"}], \"scattercarpet\": [{\"marker\": {\"colorbar\": {\"outlinewidth\": 0, \"ticks\": \"\"}}, \"type\": \"scattercarpet\"}], \"scattergeo\": [{\"marker\": {\"colorbar\": {\"outlinewidth\": 0, \"ticks\": \"\"}}, \"type\": \"scattergeo\"}], \"scattergl\": [{\"marker\": {\"colorbar\": {\"outlinewidth\": 0, \"ticks\": \"\"}}, \"type\": \"scattergl\"}], \"scattermapbox\": [{\"marker\": {\"colorbar\": {\"outlinewidth\": 0, \"ticks\": \"\"}}, \"type\": \"scattermapbox\"}], \"scatterpolar\": [{\"marker\": {\"colorbar\": {\"outlinewidth\": 0, \"ticks\": \"\"}}, \"type\": \"scatterpolar\"}], \"scatterpolargl\": [{\"marker\": {\"colorbar\": {\"outlinewidth\": 0, \"ticks\": \"\"}}, \"type\": \"scatterpolargl\"}], \"scatterternary\": [{\"marker\": {\"colorbar\": {\"outlinewidth\": 0, \"ticks\": \"\"}}, \"type\": \"scatterternary\"}], \"surface\": [{\"colorbar\": {\"outlinewidth\": 0, \"ticks\": \"\"}, \"colorscale\": [[0.0, \"#0d0887\"], [0.1111111111111111, \"#46039f\"], [0.2222222222222222, \"#7201a8\"], [0.3333333333333333, \"#9c179e\"], [0.4444444444444444, \"#bd3786\"], [0.5555555555555556, \"#d8576b\"], [0.6666666666666666, \"#ed7953\"], [0.7777777777777778, \"#fb9f3a\"], [0.8888888888888888, \"#fdca26\"], [1.0, \"#f0f921\"]], \"type\": \"surface\"}], \"table\": [{\"cells\": {\"fill\": {\"color\": \"#EBF0F8\"}, \"line\": {\"color\": \"white\"}}, \"header\": {\"fill\": {\"color\": \"#C8D4E3\"}, \"line\": {\"color\": \"white\"}}, \"type\": \"table\"}]}, \"layout\": {\"annotationdefaults\": {\"arrowcolor\": \"#2a3f5f\", \"arrowhead\": 0, \"arrowwidth\": 1}, \"colorscale\": {\"diverging\": [[0, \"#8e0152\"], [0.1, \"#c51b7d\"], [0.2, \"#de77ae\"], [0.3, \"#f1b6da\"], [0.4, \"#fde0ef\"], [0.5, \"#f7f7f7\"], [0.6, \"#e6f5d0\"], [0.7, \"#b8e186\"], [0.8, \"#7fbc41\"], [0.9, \"#4d9221\"], [1, \"#276419\"]], \"sequential\": [[0.0, \"#0d0887\"], [0.1111111111111111, \"#46039f\"], [0.2222222222222222, \"#7201a8\"], [0.3333333333333333, \"#9c179e\"], [0.4444444444444444, \"#bd3786\"], [0.5555555555555556, \"#d8576b\"], [0.6666666666666666, \"#ed7953\"], [0.7777777777777778, \"#fb9f3a\"], [0.8888888888888888, \"#fdca26\"], [1.0, \"#f0f921\"]], \"sequentialminus\": [[0.0, \"#0d0887\"], [0.1111111111111111, \"#46039f\"], [0.2222222222222222, \"#7201a8\"], [0.3333333333333333, \"#9c179e\"], [0.4444444444444444, \"#bd3786\"], [0.5555555555555556, \"#d8576b\"], [0.6666666666666666, \"#ed7953\"], [0.7777777777777778, \"#fb9f3a\"], [0.8888888888888888, \"#fdca26\"], [1.0, \"#f0f921\"]]}, \"colorway\": [\"#636efa\", \"#EF553B\", \"#00cc96\", \"#ab63fa\", \"#FFA15A\", \"#19d3f3\", \"#FF6692\", \"#B6E880\", \"#FF97FF\", \"#FECB52\"], \"font\": {\"color\": \"#2a3f5f\"}, \"geo\": {\"bgcolor\": \"white\", \"lakecolor\": \"white\", \"landcolor\": \"#E5ECF6\", \"showlakes\": true, \"showland\": true, \"subunitcolor\": \"white\"}, \"hoverlabel\": {\"align\": \"left\"}, \"hovermode\": \"closest\", \"mapbox\": {\"style\": \"light\"}, \"paper_bgcolor\": \"white\", \"plot_bgcolor\": \"#E5ECF6\", \"polar\": {\"angularaxis\": {\"gridcolor\": \"white\", \"linecolor\": \"white\", \"ticks\": \"\"}, \"bgcolor\": \"#E5ECF6\", \"radialaxis\": {\"gridcolor\": \"white\", \"linecolor\": \"white\", \"ticks\": \"\"}}, \"scene\": {\"xaxis\": {\"backgroundcolor\": \"#E5ECF6\", \"gridcolor\": \"white\", \"gridwidth\": 2, \"linecolor\": \"white\", \"showbackground\": true, \"ticks\": \"\", \"zerolinecolor\": \"white\"}, \"yaxis\": {\"backgroundcolor\": \"#E5ECF6\", \"gridcolor\": \"white\", \"gridwidth\": 2, \"linecolor\": \"white\", \"showbackground\": true, \"ticks\": \"\", \"zerolinecolor\": \"white\"}, \"zaxis\": {\"backgroundcolor\": \"#E5ECF6\", \"gridcolor\": \"white\", \"gridwidth\": 2, \"linecolor\": \"white\", \"showbackground\": true, \"ticks\": \"\", \"zerolinecolor\": \"white\"}}, \"shapedefaults\": {\"line\": {\"color\": \"#2a3f5f\"}}, \"ternary\": {\"aaxis\": {\"gridcolor\": \"white\", \"linecolor\": \"white\", \"ticks\": \"\"}, \"baxis\": {\"gridcolor\": \"white\", \"linecolor\": \"white\", \"ticks\": \"\"}, \"bgcolor\": \"#E5ECF6\", \"caxis\": {\"gridcolor\": \"white\", \"linecolor\": \"white\", \"ticks\": \"\"}}, \"title\": {\"x\": 0.05}, \"xaxis\": {\"automargin\": true, \"gridcolor\": \"white\", \"linecolor\": \"white\", \"ticks\": \"\", \"zerolinecolor\": \"white\", \"zerolinewidth\": 2}, \"yaxis\": {\"automargin\": true, \"gridcolor\": \"white\", \"linecolor\": \"white\", \"ticks\": \"\", \"zerolinecolor\": \"white\", \"zerolinewidth\": 2}}}},\n",
       "                        {\"responsive\": true}\n",
       "                    ).then(function(){\n",
       "                            \n",
       "var gd = document.getElementById('6f552fdb-041d-466c-ba0d-6efac88da9cf');\n",
       "var x = new MutationObserver(function (mutations, observer) {{\n",
       "        var display = window.getComputedStyle(gd).display;\n",
       "        if (!display || display === 'none') {{\n",
       "            console.log([gd, 'removed!']);\n",
       "            Plotly.purge(gd);\n",
       "            observer.disconnect();\n",
       "        }}\n",
       "}});\n",
       "\n",
       "// Listen for the removal of the full notebook cells\n",
       "var notebookContainer = gd.closest('#notebook-container');\n",
       "if (notebookContainer) {{\n",
       "    x.observe(notebookContainer, {childList: true});\n",
       "}}\n",
       "\n",
       "// Listen for the clearing of the current output cell\n",
       "var outputEl = gd.closest('.output');\n",
       "if (outputEl) {{\n",
       "    x.observe(outputEl, {childList: true});\n",
       "}}\n",
       "\n",
       "                        })\n",
       "                };\n",
       "                });\n",
       "            </script>\n",
       "        </div>"
      ]
     },
     "metadata": {},
     "output_type": "display_data"
    },
    {
     "name": "stdout",
     "output_type": "stream",
     "text": [
      "RMSE: 24.695117\n"
     ]
    }
   ],
   "source": [
    "fig = go.Figure()\n",
    "\n",
    "fig.add_trace(go.Scatter( y = df['Predicted'] ,name = 'Predicted Values'))\n",
    "\n",
    "fig.add_trace(go.Scatter( y = df['True Value'],name = 'Orginal Closing'))\n",
    "\n",
    "fig.show()\n",
    "\n",
    "print('MSE: %f'%(MSE(np.exp(y_test), np.exp(y_pred)))))"
   ]
  },
  {
   "cell_type": "code",
   "execution_count": 185,
   "metadata": {},
   "outputs": [],
   "source": [
    "X_tr_t = X_train.reshape(X_train.shape[0], 1, X_train.shape[1])\n",
    "X_tst_t = X_test.reshape(X_test.shape[0], 1, X_test.shape[1])"
   ]
  },
  {
   "cell_type": "code",
   "execution_count": 187,
   "metadata": {},
   "outputs": [
    {
     "data": {
      "text/plain": [
       "(999, 1, 1)"
      ]
     },
     "execution_count": 187,
     "metadata": {},
     "output_type": "execute_result"
    }
   ],
   "source": [
    "X_tr_t.shape"
   ]
  },
  {
   "cell_type": "code",
   "execution_count": 188,
   "metadata": {},
   "outputs": [
    {
     "name": "stdout",
     "output_type": "stream",
     "text": [
      "Epoch 1/200\n",
      "999/999 [==============================] - 2s 2ms/step - loss: 6.5918\n",
      "Epoch 2/200\n",
      "999/999 [==============================] - 2s 2ms/step - loss: 7.2676e-05\n",
      "Epoch 3/200\n",
      "999/999 [==============================] - 2s 2ms/step - loss: 7.4346e-05\n",
      "Epoch 4/200\n",
      "999/999 [==============================] - 2s 2ms/step - loss: 7.8046e-05\n",
      "Epoch 5/200\n",
      "999/999 [==============================] - 2s 2ms/step - loss: 8.4475e-05\n",
      "Epoch 6/200\n",
      "999/999 [==============================] - 2s 2ms/step - loss: 9.8045e-05\n",
      "Epoch 7/200\n",
      "999/999 [==============================] - 2s 2ms/step - loss: 1.2044e-04\n",
      "Epoch 00007: early stopping\n"
     ]
    }
   ],
   "source": [
    "from keras.layers import LSTM\n",
    "K.clear_session()\n",
    "model_lstm = Sequential()\n",
    "model_lstm.add(LSTM(10, input_shape=(1, X_train.shape[1]), activation='relu', kernel_initializer='lecun_uniform', return_sequences=False))\n",
    "model_lstm.add(Dense(10,input_shape=(1, X_train.shape[1]), activation='relu'))\n",
    "\n",
    "model_lstm.add(Dense(1))\n",
    "model_lstm.compile(loss='mean_squared_error', optimizer='adam')\n",
    "early_stop = EarlyStopping(monitor='loss', patience=5, verbose=1)\n",
    "history_model_lstm = model_lstm.fit(X_tr_t, y_train, epochs=200, batch_size=1, verbose=1, shuffle=False, callbacks=[early_stop])"
   ]
  },
  {
   "cell_type": "code",
   "execution_count": 191,
   "metadata": {},
   "outputs": [
    {
     "name": "stdout",
     "output_type": "stream",
     "text": [
      "The RMSE on the Train set is:\t583.330\n",
      "The MSE on the Test set is:\t1762.178\n"
     ]
    }
   ],
   "source": [
    "y_pred_test_lstm = model_lstm.predict(X_tst_t)\n",
    "y_train_pred_lstm = model_lstm.predict(X_tr_t)\n",
    "\n",
    "print(\"The RMSE on the Train set is:\\t{:0.3f}\".format(MSE(np.exp(y_train), np.exp(y_train_pred_lstm))))\n",
    "print(\"The MSE on the Test set is:\\t{:0.3f}\".format(MSE(np.exp(y_test), np.exp(y_pred_test_lstm))))\n"
   ]
  },
  {
   "cell_type": "code",
   "execution_count": null,
   "metadata": {},
   "outputs": [],
   "source": []
  }
 ],
 "metadata": {
  "kernelspec": {
   "display_name": "Python 3",
   "language": "python",
   "name": "python3"
  },
  "language_info": {
   "codemirror_mode": {
    "name": "ipython",
    "version": 3
   },
   "file_extension": ".py",
   "mimetype": "text/x-python",
   "name": "python",
   "nbconvert_exporter": "python",
   "pygments_lexer": "ipython3",
   "version": "3.7.2"
  }
 },
 "nbformat": 4,
 "nbformat_minor": 2
}
