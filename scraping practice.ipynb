{
 "cells": [
  {
   "cell_type": "code",
   "execution_count": 1,
   "metadata": {},
   "outputs": [],
   "source": [
    "import requests"
   ]
  },
  {
   "cell_type": "code",
   "execution_count": 10,
   "metadata": {},
   "outputs": [],
   "source": [
    "from bs4 import BeautifulSoup\n",
    "import urllib"
   ]
  },
  {
   "cell_type": "code",
   "execution_count": 3,
   "metadata": {},
   "outputs": [],
   "source": [
    "import pandas as pd\n",
    "import numpy as np"
   ]
  },
  {
   "cell_type": "code",
   "execution_count": 4,
   "metadata": {},
   "outputs": [],
   "source": [
    "page_link = 'https://www.investing.com/indices/us-spx-500-historical-data'"
   ]
  },
  {
   "cell_type": "code",
   "execution_count": 5,
   "metadata": {},
   "outputs": [],
   "source": [
    "page_response = requests.get(page_link, timeout=5)"
   ]
  },
  {
   "cell_type": "code",
   "execution_count": 69,
   "metadata": {},
   "outputs": [],
   "source": [
    "import pandas as pd\n",
    "from pandas import DataFrame\n",
    "import argparse\n",
    "import quandl\n",
    "import pandas_datareader as web\n",
    "from time import sleep\n",
    "import datetime as dt\n",
    "import sys"
   ]
  },
  {
   "cell_type": "code",
   "execution_count": 3,
   "metadata": {},
   "outputs": [],
   "source": [
    "def get_sp500_data(start=dt.datetime.strptime(\"1997-01-01\", \"%Y-%m-%d\"),\n",
    "                   end=dt.datetime.now(), use_quandl=True, adjust=True, inner=True,\n",
    "                   sleeptime=2, verbose=True):\n",
    "    \"\"\"Fetches S&P 500 data\n",
    "     \n",
    "    args:\n",
    "        start: datetime; The earliest possible date\n",
    "        end: datetime; The last possible date\n",
    "        use_quandl: bool; Whether to fetch data from Quandl (reverts to Google if False)\n",
    "        adjust: bool; Whether to use adjusted close (only works with Quandl)\n",
    "        inner: bool; Whether to use an inner join or outer join when combining series (inner has no missing data)\n",
    "        sleeptime: int; How long to sleep between fetches\n",
    "        verbose: bool; Whether to print a log while fetching data\n",
    "     \n",
    "    return:\n",
    "        DataFrame: Contains stock price data\n",
    "    \"\"\"\n",
    "     \n",
    "    join = \"outer\"\n",
    "    if inner:\n",
    "        join = \"inner\"\n",
    "     \n",
    "    symbols_table = pd.read_html(\"https://en.wikipedia.org/wiki/List_of_S%26P_500_companies\",\n",
    "                                 header=0)[0]\n",
    "    symbols = list(symbols_table.loc[:, \"Ticker symbol\"])\n",
    " \n",
    "    sp500 = None\n",
    "    for s in symbols:\n",
    "        sleep(sleeptime)\n",
    "        if verbose:\n",
    "            print(\"Processing: \" + s + \"...\", end='')\n",
    "        try:\n",
    "            if use_quandl:\n",
    "                s_data = quandl.get(\"WIKI/\" + s, start_date=start, end_date=end)\n",
    "                if adjust:\n",
    "                    s_data = s_data.loc[:, \"Adj. Close\"]\n",
    "                else:\n",
    "                    s_data = s_data.loc[:, \"Close\"]\n",
    "            else:\n",
    "                s_data = web.DataReader(s, \"google\", start, end).loc[:, \"Close\"]\n",
    "            s_data.name = s\n",
    "            s_data.dropna()\n",
    "            if s_data.shape[0] > 1:\n",
    "                if sp500 is None:\n",
    "                    sp500 = DataFrame(s_data)\n",
    "                else:\n",
    "                    sp500 = sp500.join(s_data, how=join)\n",
    "                if verbose:\n",
    "                    print(\" Got it! From\", s_data.index[0], \"to\", s_data.index[-1])\n",
    "            else:\n",
    "                if verbose:\n",
    "                    print(\" Sorry, but not this one!\")\n",
    "        except Exception:\n",
    "            if verbose:\n",
    "                print(\" Sorry, but not this one!\")\n",
    " \n",
    "    badsymbols = list(set(s) - set(sp500.columns))\n",
    "    if verbose and len(badsymbols) > 0:\n",
    "        print(\"There were\", len(badsymbols), \"symbols for which data could not be obtained.\")\n",
    "        print(\"They are:\", \", \".join(badsymbols))\n",
    "     \n",
    "    return sp500"
   ]
  },
  {
   "cell_type": "code",
   "execution_count": 15,
   "metadata": {},
   "outputs": [],
   "source": [
    "import pandas as pd\n",
    "from pandas_datareader import data as wb\n",
    "\n",
    "ticker='BTC-USD'\n",
    "\n",
    "ticker=wb.DataReader(ticker,start='2015-1-1',data_source='yahoo')\n",
    "# print(ticker)"
   ]
  },
  {
   "cell_type": "code",
   "execution_count": 18,
   "metadata": {},
   "outputs": [
    {
     "data": {
      "text/plain": [
       "pandas.core.frame.DataFrame"
      ]
     },
     "execution_count": 18,
     "metadata": {},
     "output_type": "execute_result"
    }
   ],
   "source": [
    "type(ticker)"
   ]
  },
  {
   "cell_type": "code",
   "execution_count": 74,
   "metadata": {},
   "outputs": [],
   "source": [
    "sp = wb.DataReader('^GSPC',start='2015-1-1',data_source='yahoo')"
   ]
  },
  {
   "cell_type": "code",
   "execution_count": 75,
   "metadata": {},
   "outputs": [
    {
     "name": "stdout",
     "output_type": "stream",
     "text": [
      "                   High          Low         Open        Close      Volume  \\\n",
      "Date                                                                         \n",
      "2015-01-02  2072.360107  2046.040039  2058.899902  2058.199951  2708700000   \n",
      "2015-01-05  2054.439941  2017.339966  2054.439941  2020.579956  3799120000   \n",
      "2015-01-06  2030.250000  1992.439941  2022.150024  2002.609985  4460110000   \n",
      "2015-01-07  2029.609985  2005.550049  2005.550049  2025.900024  3805480000   \n",
      "2015-01-08  2064.080078  2030.609985  2030.609985  2062.139893  3934010000   \n",
      "2015-01-09  2064.429932  2038.329956  2063.449951  2044.810059  3364140000   \n",
      "2015-01-12  2049.300049  2022.579956  2046.130005  2028.260010  3456460000   \n",
      "2015-01-13  2056.929932  2008.250000  2031.579956  2023.030029  4107300000   \n",
      "2015-01-14  2018.400024  1988.439941  2018.400024  2011.270020  4378680000   \n",
      "2015-01-15  2021.349976  1991.469971  2013.750000  1992.670044  4276720000   \n",
      "2015-01-16  2020.459961  1988.119995  1992.250000  2019.420044  4056410000   \n",
      "2015-01-20  2028.939941  2004.489990  2020.760010  2022.550049  3944340000   \n",
      "2015-01-21  2038.290039  2012.040039  2020.189941  2032.119995  3730070000   \n",
      "2015-01-22  2064.620117  2026.380005  2034.300049  2063.149902  4176050000   \n",
      "2015-01-23  2062.979980  2050.540039  2062.979980  2051.820068  3573560000   \n",
      "2015-01-26  2057.620117  2040.969971  2050.419922  2057.090088  3465760000   \n",
      "2015-01-27  2047.859985  2019.910034  2047.859985  2029.550049  3329810000   \n",
      "2015-01-28  2042.489990  2001.489990  2032.339966  2002.160034  4067530000   \n",
      "2015-01-29  2024.640015  1989.180054  2002.449951  2021.250000  4127140000   \n",
      "2015-01-30  2023.319946  1993.380005  2019.349976  1994.989990  4568650000   \n",
      "2015-02-02  2021.660034  1980.900024  1996.670044  2020.849976  4008330000   \n",
      "2015-02-03  2050.300049  2022.709961  2022.709961  2050.030029  4615900000   \n",
      "2015-02-04  2054.739990  2036.719971  2048.860107  2041.510010  4141920000   \n",
      "2015-02-05  2063.550049  2043.449951  2043.449951  2062.520020  3821990000   \n",
      "2015-02-06  2072.399902  2049.969971  2062.280029  2055.469971  4232970000   \n",
      "2015-02-09  2056.159912  2041.880005  2053.469971  2046.739990  3549540000   \n",
      "2015-02-10  2070.860107  2048.620117  2049.379883  2068.590088  3669850000   \n",
      "2015-02-11  2073.479980  2057.989990  2068.550049  2068.530029  3596860000   \n",
      "2015-02-12  2088.530029  2069.979980  2069.979980  2088.479980  3788350000   \n",
      "2015-02-13  2097.030029  2086.699951  2088.780029  2096.989990  3527450000   \n",
      "...                 ...          ...          ...          ...         ...   \n",
      "2019-06-19  2931.739990  2911.429932  2920.550049  2926.459961  3287890000   \n",
      "2019-06-20  2958.060059  2931.500000  2949.600098  2954.179932  3905940000   \n",
      "2019-06-21  2964.149902  2946.870117  2952.709961  2950.459961  5000120000   \n",
      "2019-06-24  2954.919922  2944.050049  2951.419922  2945.350098  3136250000   \n",
      "2019-06-25  2946.520020  2916.010010  2945.780029  2917.379883  3578050000   \n",
      "2019-06-26  2932.590088  2912.989990  2926.070068  2913.780029  3478130000   \n",
      "2019-06-27  2929.300049  2918.570068  2919.659912  2924.919922  3122920000   \n",
      "2019-06-28  2943.979980  2929.050049  2932.939941  2941.760010  5420700000   \n",
      "2019-07-01  2977.929932  2952.219971  2971.409912  2964.330078  3513270000   \n",
      "2019-07-02  2973.209961  2955.919922  2964.659912  2973.010010  3206840000   \n",
      "2019-07-03  2995.840088  2977.959961  2978.080078  2995.820068  1963720000   \n",
      "2019-07-05  2994.030029  2967.969971  2984.250000  2990.409912  2434210000   \n",
      "2019-07-08  2980.760010  2970.090088  2979.770020  2975.949951  2904550000   \n",
      "2019-07-09  2981.899902  2963.439941  2965.520020  2979.629883  3028210000   \n",
      "2019-07-10  3002.979980  2984.620117  2989.300049  2993.070068  3154240000   \n",
      "2019-07-11  3002.330078  2988.800049  2999.620117  2999.909912  3154620000   \n",
      "2019-07-12  3013.919922  3001.870117  3003.360107  3013.770020  2974960000   \n",
      "2019-07-15  3017.800049  3008.770020  3017.800049  3014.300049  2874970000   \n",
      "2019-07-16  3015.020020  3001.149902  3012.129883  3004.040039  3290650000   \n",
      "2019-07-17  3005.260010  2984.250000  3005.100098  2984.419922  3181600000   \n",
      "2019-07-18  2998.280029  2973.090088  2978.870117  2995.110107  3296580000   \n",
      "2019-07-19  3006.020020  2975.860107  3004.260010  2976.610107  3260360000   \n",
      "2019-07-22  2990.709961  2976.649902  2981.929932  2985.030029  3003720000   \n",
      "2019-07-23  3005.899902  2988.560059  2994.739990  3005.469971  3313660000   \n",
      "2019-07-24  3019.590088  2996.820068  2998.770020  3019.560059  3428980000   \n",
      "2019-07-25  3016.310059  2997.239990  3016.260010  3003.669922  3645270000   \n",
      "2019-07-26  3027.979980  3012.590088  3013.250000  3025.860107  3257590000   \n",
      "2019-07-29  3025.610107  3014.300049  3024.469971  3020.969971  3203710000   \n",
      "2019-07-30  3017.189941  3000.939941  3007.659912  3013.179932  3634330000   \n",
      "2019-07-31  3017.399902  2958.080078  3016.219971  2980.379883  2731633880   \n",
      "\n",
      "              Adj Close  \n",
      "Date                     \n",
      "2015-01-02  2058.199951  \n",
      "2015-01-05  2020.579956  \n",
      "2015-01-06  2002.609985  \n",
      "2015-01-07  2025.900024  \n",
      "2015-01-08  2062.139893  \n",
      "2015-01-09  2044.810059  \n",
      "2015-01-12  2028.260010  \n",
      "2015-01-13  2023.030029  \n",
      "2015-01-14  2011.270020  \n",
      "2015-01-15  1992.670044  \n",
      "2015-01-16  2019.420044  \n",
      "2015-01-20  2022.550049  \n",
      "2015-01-21  2032.119995  \n",
      "2015-01-22  2063.149902  \n",
      "2015-01-23  2051.820068  \n",
      "2015-01-26  2057.090088  \n",
      "2015-01-27  2029.550049  \n",
      "2015-01-28  2002.160034  \n",
      "2015-01-29  2021.250000  \n",
      "2015-01-30  1994.989990  \n",
      "2015-02-02  2020.849976  \n",
      "2015-02-03  2050.030029  \n",
      "2015-02-04  2041.510010  \n",
      "2015-02-05  2062.520020  \n",
      "2015-02-06  2055.469971  \n",
      "2015-02-09  2046.739990  \n",
      "2015-02-10  2068.590088  \n",
      "2015-02-11  2068.530029  \n",
      "2015-02-12  2088.479980  \n",
      "2015-02-13  2096.989990  \n",
      "...                 ...  \n",
      "2019-06-19  2926.459961  \n",
      "2019-06-20  2954.179932  \n",
      "2019-06-21  2950.459961  \n",
      "2019-06-24  2945.350098  \n",
      "2019-06-25  2917.379883  \n",
      "2019-06-26  2913.780029  \n",
      "2019-06-27  2924.919922  \n",
      "2019-06-28  2941.760010  \n",
      "2019-07-01  2964.330078  \n",
      "2019-07-02  2973.010010  \n",
      "2019-07-03  2995.820068  \n",
      "2019-07-05  2990.409912  \n",
      "2019-07-08  2975.949951  \n",
      "2019-07-09  2979.629883  \n",
      "2019-07-10  2993.070068  \n",
      "2019-07-11  2999.909912  \n",
      "2019-07-12  3013.770020  \n",
      "2019-07-15  3014.300049  \n",
      "2019-07-16  3004.040039  \n",
      "2019-07-17  2984.419922  \n",
      "2019-07-18  2995.110107  \n",
      "2019-07-19  2976.610107  \n",
      "2019-07-22  2985.030029  \n",
      "2019-07-23  3005.469971  \n",
      "2019-07-24  3019.560059  \n",
      "2019-07-25  3003.669922  \n",
      "2019-07-26  3025.860107  \n",
      "2019-07-29  3020.969971  \n",
      "2019-07-30  3013.179932  \n",
      "2019-07-31  2980.379883  \n",
      "\n",
      "[1152 rows x 6 columns]\n"
     ]
    }
   ],
   "source": [
    "print(sp)"
   ]
  },
  {
   "cell_type": "code",
   "execution_count": 27,
   "metadata": {},
   "outputs": [
    {
     "data": {
      "text/plain": [
       "pandas.core.frame.DataFrame"
      ]
     },
     "execution_count": 27,
     "metadata": {},
     "output_type": "execute_result"
    }
   ],
   "source": [
    "type(sp)"
   ]
  },
  {
   "cell_type": "code",
   "execution_count": 76,
   "metadata": {},
   "outputs": [
    {
     "data": {
      "text/plain": [
       "Index(['High', 'Low', 'Open', 'Close', 'Volume', 'Adj Close'], dtype='object')"
      ]
     },
     "execution_count": 76,
     "metadata": {},
     "output_type": "execute_result"
    }
   ],
   "source": [
    "sp.columns"
   ]
  },
  {
   "cell_type": "code",
   "execution_count": 51,
   "metadata": {},
   "outputs": [],
   "source": [
    "sp['Date'] = sp.index"
   ]
  },
  {
   "cell_type": "code",
   "execution_count": 77,
   "metadata": {},
   "outputs": [],
   "source": [
    "sp500 = sp[['Close']]"
   ]
  },
  {
   "cell_type": "code",
   "execution_count": 79,
   "metadata": {},
   "outputs": [
    {
     "name": "stdout",
     "output_type": "stream",
     "text": [
      "                  Close\n",
      "Date                   \n",
      "2015-01-02  2058.199951\n",
      "2015-01-05  2020.579956\n",
      "2015-01-06  2002.609985\n",
      "2015-01-07  2025.900024\n",
      "2015-01-08  2062.139893\n",
      "2015-01-09  2044.810059\n",
      "2015-01-12  2028.260010\n",
      "2015-01-13  2023.030029\n",
      "2015-01-14  2011.270020\n",
      "2015-01-15  1992.670044\n",
      "2015-01-16  2019.420044\n",
      "2015-01-20  2022.550049\n",
      "2015-01-21  2032.119995\n",
      "2015-01-22  2063.149902\n",
      "2015-01-23  2051.820068\n",
      "2015-01-26  2057.090088\n",
      "2015-01-27  2029.550049\n",
      "2015-01-28  2002.160034\n",
      "2015-01-29  2021.250000\n",
      "2015-01-30  1994.989990\n",
      "2015-02-02  2020.849976\n",
      "2015-02-03  2050.030029\n",
      "2015-02-04  2041.510010\n",
      "2015-02-05  2062.520020\n",
      "2015-02-06  2055.469971\n",
      "2015-02-09  2046.739990\n",
      "2015-02-10  2068.590088\n",
      "2015-02-11  2068.530029\n",
      "2015-02-12  2088.479980\n",
      "2015-02-13  2096.989990\n",
      "...                 ...\n",
      "2019-06-19  2926.459961\n",
      "2019-06-20  2954.179932\n",
      "2019-06-21  2950.459961\n",
      "2019-06-24  2945.350098\n",
      "2019-06-25  2917.379883\n",
      "2019-06-26  2913.780029\n",
      "2019-06-27  2924.919922\n",
      "2019-06-28  2941.760010\n",
      "2019-07-01  2964.330078\n",
      "2019-07-02  2973.010010\n",
      "2019-07-03  2995.820068\n",
      "2019-07-05  2990.409912\n",
      "2019-07-08  2975.949951\n",
      "2019-07-09  2979.629883\n",
      "2019-07-10  2993.070068\n",
      "2019-07-11  2999.909912\n",
      "2019-07-12  3013.770020\n",
      "2019-07-15  3014.300049\n",
      "2019-07-16  3004.040039\n",
      "2019-07-17  2984.419922\n",
      "2019-07-18  2995.110107\n",
      "2019-07-19  2976.610107\n",
      "2019-07-22  2985.030029\n",
      "2019-07-23  3005.469971\n",
      "2019-07-24  3019.560059\n",
      "2019-07-25  3003.669922\n",
      "2019-07-26  3025.860107\n",
      "2019-07-29  3020.969971\n",
      "2019-07-30  3013.179932\n",
      "2019-07-31  2980.379883\n",
      "\n",
      "[1152 rows x 1 columns]\n"
     ]
    },
    {
     "data": {
      "text/plain": [
       "(None, DatetimeIndex(['2015-01-02', '2015-01-05', '2015-01-06', '2015-01-07',\n",
       "                '2015-01-08', '2015-01-09', '2015-01-12', '2015-01-13',\n",
       "                '2015-01-14', '2015-01-15',\n",
       "                ...\n",
       "                '2019-07-18', '2019-07-19', '2019-07-22', '2019-07-23',\n",
       "                '2019-07-24', '2019-07-25', '2019-07-26', '2019-07-29',\n",
       "                '2019-07-30', '2019-07-31'],\n",
       "               dtype='datetime64[ns]', name='Date', length=1152, freq=None))"
      ]
     },
     "execution_count": 79,
     "metadata": {},
     "output_type": "execute_result"
    }
   ],
   "source": [
    "print(sp500),sp500.index"
   ]
  },
  {
   "cell_type": "code",
   "execution_count": 80,
   "metadata": {},
   "outputs": [
    {
     "data": {
      "text/plain": [
       "DatetimeIndex(['2015-01-02', '2015-01-05', '2015-01-06', '2015-01-07',\n",
       "               '2015-01-08', '2015-01-09', '2015-01-12', '2015-01-13',\n",
       "               '2015-01-14', '2015-01-15',\n",
       "               ...\n",
       "               '2019-07-18', '2019-07-19', '2019-07-22', '2019-07-23',\n",
       "               '2019-07-24', '2019-07-25', '2019-07-26', '2019-07-29',\n",
       "               '2019-07-30', '2019-07-31'],\n",
       "              dtype='datetime64[ns]', name='Date', length=1152, freq=None)"
      ]
     },
     "execution_count": 80,
     "metadata": {},
     "output_type": "execute_result"
    }
   ],
   "source": [
    "sp500.index"
   ]
  },
  {
   "cell_type": "code",
   "execution_count": 59,
   "metadata": {},
   "outputs": [
    {
     "data": {
      "text/plain": [
       "(pandas.core.frame.DataFrame, pandas.core.series.Series)"
      ]
     },
     "execution_count": 59,
     "metadata": {},
     "output_type": "execute_result"
    }
   ],
   "source": [
    "type(sp500),type(sp500.Close)"
   ]
  },
  {
   "cell_type": "code",
   "execution_count": 81,
   "metadata": {},
   "outputs": [],
   "source": [
    "from statsmodels.graphics.tsaplots import plot_acf\n",
    "from statsmodels.graphics.tsaplots import plot_pacf\n",
    "\n",
    "from statsmodels.tsa.stattools import adfuller\n",
    "from statsmodels.tsa.seasonal import seasonal_decompose\n",
    "from statsmodels.tsa.stattools import acf, pacf\n",
    "from statsmodels.tsa.arima_model import ARIMA\n",
    "from statsmodels.tsa.arima_model import ARIMAResults\n",
    "from sklearn.metrics import mean_squared_error as MSE"
   ]
  },
  {
   "cell_type": "code",
   "execution_count": 82,
   "metadata": {},
   "outputs": [],
   "source": [
    "#Setting Graph size\n",
    "fig_size = plt.rcParams[\"figure.figsize\"]\n",
    "fig_size[0] = 10\n",
    "fig_size[1] = 10"
   ]
  },
  {
   "cell_type": "code",
   "execution_count": 83,
   "metadata": {},
   "outputs": [
    {
     "data": {
      "image/png": "[encoded data removed]",
      "text/plain": [
       "<Figure size 720x720 with 1 Axes>"
      ]
     },
     "metadata": {
      "needs_background": "light"
     },
     "output_type": "display_data"
    }
   ],
   "source": [
    "sp500.hist()\n",
    "plt.show()"
   ]
  },
  {
   "cell_type": "markdown",
   "metadata": {},
   "source": [
    "The Histogram shows us that most of the times S&P 500 close aws between 2200 - 2400. Analysing the data shows us that it recently breached the 3000 resistance due to strong growth"
   ]
  },
  {
   "cell_type": "code",
   "execution_count": 71,
   "metadata": {},
   "outputs": [],
   "source": [
    "from pandas.tools.plotting import scatter_matrix"
   ]
  },
  {
   "cell_type": "code",
   "execution_count": 88,
   "metadata": {},
   "outputs": [
    {
     "data": {
      "image/png": "[encoded data removed]",
      "text/plain": [
       "<Figure size 720x720 with 1 Axes>"
      ]
     },
     "metadata": {
      "needs_background": "light"
     },
     "output_type": "display_data"
    }
   ],
   "source": [
    "plt.plot(sp500['Close'])\n",
    "plt.title('Time Series of S&P 500') \n",
    "plt.ylabel('S&P 500 Value')\n",
    "plt.xlabel('Date')\n",
    "plt.grid()\n",
    "plt.show()"
   ]
  },
  {
   "cell_type": "markdown",
   "metadata": {},
   "source": [
    " The index dropped significantly durong 2018 end but rebounced quickly breaching the 3000 mark in recent times. \n",
    " Also it it quite evident that the time series in non-stationary and the trent is growing upward. \n",
    " Let's dive into checking the stationarity using the Auto-Dickey Fuller test "
   ]
  },
  {
   "cell_type": "markdown",
   "metadata": {},
   "source": [
    "### Stationarity Analysis ###"
   ]
  },
  {
   "cell_type": "markdown",
   "metadata": {},
   "source": [
    "The Augmented Dickey-Fuller test is a type of statistical test called a unit root test.\n",
    "\n",
    "The intuition behind a unit root test is that it determines how strongly a time series is defined by a trend.\n",
    "\n",
    "There are a number of unit root tests and the Augmented Dickey-Fuller may be one of the more widely used. \n",
    "\n",
    "It uses an autoregressive model and optimizes an information criterion across multiple different lag values.\n",
    "\n",
    "\n",
    "* __Null Hypothesis (H0)__: If failed to be rejected, it suggests the time series has a unit root, meaning it is non-stationary. It has some time dependent structure.\n",
    "* __Alternate Hypothesis (H1)__: The null hypothesis is rejected; it suggests the time series does not have a unit root, meaning it is stationary. It does not have time-dependent structure.\n"
   ]
  },
  {
   "cell_type": "code",
   "execution_count": 92,
   "metadata": {},
   "outputs": [
    {
     "name": "stdout",
     "output_type": "stream",
     "text": [
      "Test Statistic                   -0.552150\n",
      "p-value                           0.881432\n",
      "#Lags Used                        0.000000\n",
      "Number of Observations Used    1151.000000\n",
      "Critical Value (1%)              -3.436044\n",
      "Critical Value (5%)              -2.864054\n",
      "Critical Value (10%)             -2.568109\n",
      "dtype: float64\n"
     ]
    }
   ],
   "source": [
    "df_test = adfuller(sp500['Close'], autolag='AIC')\n",
    "result = pd.Series(df_test[0:4], index=['Test Statistic','p-value','#Lags Used','Number of Observations Used'])\n",
    "for key,value in df_test[4].items():\n",
    "    result['Critical Value (%s)'%key] = value\n",
    "print (result)\n"
   ]
  },
  {
   "cell_type": "markdown",
   "metadata": {},
   "source": [
    "Comparing the test statistic to the critical values, it looks like we would have to fail to reject the null hypothesis that the time series is non-stationary and does have time-dependent structure."
   ]
  },
  {
   "cell_type": "code",
   "execution_count": null,
   "metadata": {},
   "outputs": [],
   "source": []
  }
 ],
 "metadata": {
  "kernelspec": {
   "display_name": "Python 3",
   "language": "python",
   "name": "python3"
  },
  "language_info": {
   "codemirror_mode": {
    "name": "ipython",
    "version": 3
   },
   "file_extension": ".py",
   "mimetype": "text/x-python",
   "name": "python",
   "nbconvert_exporter": "python",
   "pygments_lexer": "ipython3",
   "version": "3.7.2"
  }
 },
 "nbformat": 4,
 "nbformat_minor": 2
}
